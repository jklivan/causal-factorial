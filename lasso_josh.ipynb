{
 "cells": [
  {
   "cell_type": "markdown",
   "metadata": {},
   "source": [
    "## Lasso regression for sparse data"
   ]
  },
  {
   "cell_type": "code",
   "execution_count": 2,
   "metadata": {},
   "outputs": [],
   "source": [
    "%load_ext autoreload\n",
    "%autoreload 2"
   ]
  },
  {
   "cell_type": "code",
   "execution_count": 30,
   "metadata": {},
   "outputs": [],
   "source": [
    "import numpy as np\n",
    "import pandas as pd\n",
    "import seaborn as sns\n",
    "import statsmodels.api as sm\n",
    "import class_FM as FM\n",
    "from sklearn import preprocessing\n",
    "from sklearn.linear_model import Lasso, LassoCV\n",
    "from sklearn.model_selection import train_test_split\n",
    "from sklearn.cluster import KMeans\n"
   ]
  },
  {
   "cell_type": "markdown",
   "metadata": {},
   "source": [
    "### Initialize factorial model and sample dataset for k=3"
   ]
  },
  {
   "cell_type": "code",
   "execution_count": 84,
   "metadata": {},
   "outputs": [
    {
     "name": "stdout",
     "output_type": "stream",
     "text": [
      "[-1.1420923  -1.0693365  -0.7572575   0.7686581  -1.0379355  -1.0260364\n",
      " -0.39261925  1.3877289 ]\n",
      "[1]\n",
      "[[1. 0. 1.]]\n",
      "[[1. 1. 0. 1. 0. 1. 0. 0.]]\n",
      "[-1.1420923 -1.0693365 -0.         0.7686581 -0.        -1.0260364\n",
      " -0.         0.       ]\n"
     ]
    }
   ],
   "source": [
    "n = 10000\n",
    "k = 3\n",
    "degree = 3\n",
    "sigma = 0.3\n",
    "sparsity = 0.5\n",
    "\n",
    "fm = FM.FactorialModel(\n",
    "    n=n,\n",
    "    k=k,\n",
    "    degree=degree,\n",
    "    sigma=sigma,\n",
    "    sparsity=sparsity,\n",
    "    beta_seed=40,\n",
    "    heredity = True\n",
    ")\n",
    "t, y = fm.sample(seed=0)\n",
    "print(fm.beta)"
   ]
  },
  {
   "attachments": {},
   "cell_type": "markdown",
   "metadata": {},
   "source": [
    "### Cross Validation Search for Alpha\n"
   ]
  },
  {
   "cell_type": "code",
   "execution_count": 85,
   "metadata": {},
   "outputs": [],
   "source": [
    "pf = preprocessing.PolynomialFeatures(\n",
    "    degree=degree, interaction_only=True, include_bias=True,\n",
    ")\n",
    "T = pf.fit_transform(t)\n",
    "T_train, T_test, y_train, y_test = train_test_split(T, y, test_size=0.3, random_state=42)\n",
    "alpha_cv = [0.001,0.01,0.1, 0.5]\n",
    "model = LassoCV(alphas = alpha_cv, cv=5, random_state=42)\n",
    "model.fit(T_train, y_train)\n",
    "alpha = model.alpha_\n"
   ]
  },
  {
   "cell_type": "markdown",
   "metadata": {},
   "source": [
    "### Fit Lasso regression with sample data"
   ]
  },
  {
   "cell_type": "code",
   "execution_count": 86,
   "metadata": {},
   "outputs": [
    {
     "name": "stdout",
     "output_type": "stream",
     "text": [
      "[ 0.         -1.1265124   0.          0.63419414 -0.         -0.8467384\n",
      "  0.         -0.        ]\n"
     ]
    }
   ],
   "source": [
    "\n",
    "model = Lasso(alpha=0.01)\n",
    "model.fit(T_train, y_train)\n",
    "print(model.coef_)"
   ]
  },
  {
   "cell_type": "markdown",
   "metadata": {},
   "source": [
    "### Compute expected outcomes as linear combinations of betas"
   ]
  },
  {
   "cell_type": "code",
   "execution_count": 87,
   "metadata": {},
   "outputs": [
    {
     "name": "stdout",
     "output_type": "stream",
     "text": [
      "[ 0.         -1.1265124   0.          0.63419414 -0.         -0.8467384\n",
      "  0.         -0.        ]\n",
      "[-1.1420923 -1.0693365 -0.         0.7686581 -0.        -1.0260364\n",
      " -0.         0.       ]\n",
      "[[1. 0. 0. 0. 0. 0. 0. 0.]\n",
      " [1. 1. 0. 0. 0. 0. 0. 0.]\n",
      " [1. 0. 1. 0. 0. 0. 0. 0.]\n",
      " [1. 0. 0. 1. 0. 0. 0. 0.]\n",
      " [1. 1. 1. 0. 1. 0. 0. 0.]\n",
      " [1. 1. 0. 1. 0. 1. 0. 0.]\n",
      " [1. 0. 1. 1. 0. 0. 1. 0.]\n",
      " [1. 1. 1. 1. 1. 1. 1. 1.]]\n",
      "[ 0.         -1.12651241  0.          0.63419414 -1.12651241 -1.33905667\n",
      "  0.63419414 -1.33905667]\n"
     ]
    }
   ],
   "source": [
    "betas = model.coef_\n",
    "print(betas)\n",
    "print(fm.beta)\n",
    "beta_mask = pf.transform(pf.powers_)\n",
    "print(beta_mask)\n",
    "expected_outcomes = beta_mask @ betas\n",
    "print(expected_outcomes)"
   ]
  },
  {
   "cell_type": "markdown",
   "metadata": {},
   "source": [
    "### Plot betas and expected outcomes"
   ]
  },
  {
   "cell_type": "code",
   "execution_count": 88,
   "metadata": {},
   "outputs": [
    {
     "data": {
      "image/png": "[encoded data removed]",
      "text/plain": [
       "<Figure size 640x480 with 1 Axes>"
      ]
     },
     "metadata": {},
     "output_type": "display_data"
    }
   ],
   "source": [
    "_ = sns.barplot(\n",
    "    x=[\n",
    "        r\"0\",\n",
    "        r\"$t_1$\",\n",
    "        r\"$t_2$\",\n",
    "        r\"$t_3$\",\n",
    "        r\"$t_1 t_2$\",\n",
    "        r\"$t_1 t_3$\",\n",
    "        r\"$t_2 t_3$\",\n",
    "        r\"$t_1 t_2 t_3$\",\n",
    "    ],\n",
    "    y=betas,\n",
    "    alpha=0.5,\n",
    "    label=r\"$\\beta$\",\n",
    ")\n",
    "\n",
    "_ = sns.barplot(\n",
    "    x=[\n",
    "        r\"0\",\n",
    "        r\"$t_1$\",\n",
    "        r\"$t_2$\",\n",
    "        r\"$t_3$\",\n",
    "        r\"$t_1 t_2$\",\n",
    "        r\"$t_1 t_3$\",\n",
    "        r\"$t_2 t_3$\",\n",
    "        r\"$t_1 t_2 t_3$\",\n",
    "    ],\n",
    "    y=expected_outcomes,\n",
    "    alpha=0.5,\n",
    "    label=r\"E[Y|T]\",\n",
    ")"
   ]
  },
  {
   "attachments": {},
   "cell_type": "markdown",
   "metadata": {},
   "source": [
    "### Cluster with KMeans Algorithm\n"
   ]
  },
  {
   "cell_type": "code",
   "execution_count": 94,
   "metadata": {},
   "outputs": [
    {
     "name": "stdout",
     "output_type": "stream",
     "text": [
      "For 1 Clusters, MSE:2370.727622666274\n",
      "Clusters for each combination: [0 0 0 0 0 0 0 0]\n",
      "For 2 Clusters, MSE:1473.520783649019\n",
      "Clusters for each combination: [1 0 1 1 0 0 1 0]\n",
      "For 3 Clusters, MSE:1591.9996825640742\n",
      "Clusters for each combination: [2 0 2 1 0 0 1 0]\n",
      "For 4 Clusters, MSE:2580.3394681168165\n",
      "Clusters for each combination: [2 0 2 1 0 3 1 3]\n"
     ]
    }
   ],
   "source": [
    "# print(expected_outcomes)\n",
    "def cross_val_kmeans(T_train: np.array, T_test: np.array, y_train: np.array,y_test: np.array, expected_outcomes: np.array,beta_mask:np.array,  max_clust:int)->dict:\n",
    "    k_means_mse = {}\n",
    "    # print(expected_outcomes)\n",
    "    cluster_dict = {}\n",
    "    \n",
    "    for i in range(1,max_clust+1):\n",
    "        kmeans = KMeans(n_clusters=i, random_state=0, n_init=\"auto\").fit(expected_outcomes.reshape(-1,1))\n",
    "        clusters_train = kmeans.predict(y_train.reshape(-1,1))\n",
    "        # clusters_test = kmeans.predict(y_test.reshape(-1,1))\n",
    "        for row in range(beta_mask.shape[0]):\n",
    "            #convert binary combination to decimal to make a dictionary and map each combo to a group\n",
    "            cluster_dict[beta_mask[row].dot(2**np.arange(beta_mask[row].size)[::-1])] = kmeans.labels_[row]\n",
    "        mse = 0\n",
    "        \n",
    "        #decimalize all combinations\n",
    "        powers_of_two = 2**np.arange(beta_mask.shape[1])[::-1]\n",
    "        dec_test = T_test.dot(powers_of_two)\n",
    "        combo_dict = { key: 0 for key in range(i)}\n",
    "        eo_train = {}\n",
    "        for k in range(i):\n",
    "            eo_train[k] = np.mean(y_train[clusters_train==k])\n",
    "        for key,value in cluster_dict.items():\n",
    "            combo_dict[value] += np.sum((y_test[dec_test==key] - eo_train[value])**2)\n",
    "        k_means_mse[i] = sum(combo_dict.values())\n",
    "        print(\"For {} Clusters, MSE:{}\".format(i,sum(combo_dict.values())))\n",
    "        print(\"Clusters for each combination: {}\".format(kmeans.labels_))\n",
    "    return k_means_mse\n",
    "values = cross_val_kmeans(T_train, T_test,y_train, y_test,expected_outcomes, beta_mask,4)"
   ]
  },
  {
   "cell_type": "code",
   "execution_count": 97,
   "metadata": {},
   "outputs": [
    {
     "name": "stdout",
     "output_type": "stream",
     "text": [
      "{1: 2370.727622666274, 2: 1473.520783649019, 3: 1591.9996825640742, 4: 2580.3394681168165}\n"
     ]
    },
    {
     "data": {
      "image/png": "[encoded data removed]",
      "text/plain": [
       "<Figure size 800x600 with 1 Axes>"
      ]
     },
     "metadata": {},
     "output_type": "display_data"
    }
   ],
   "source": [
    "\n",
    "import matplotlib.pyplot as plt\n",
    "print(values)\n",
    "x = list(values.keys())\n",
    "y = list(values.values())\n",
    "plt.figure(figsize=(8, 6))  # Optional: specify the figure size\n",
    "plt.plot(x, y, marker='o', linestyle='-', color='b')  # Plot with line and markers\n",
    "\n",
    "# Add title and labels\n",
    "plt.title('MSE vs Number of Clusters')\n",
    "plt.xlabel('Number of Clusters')\n",
    "plt.ylabel('MSE')\n",
    "\n",
    "# Optional: Add grid for better readability\n",
    "plt.grid(True)\n",
    "\n",
    "# Show the plot\n",
    "plt.show()"
   ]
  },
  {
   "cell_type": "markdown",
   "metadata": {},
   "source": [
    "### Factorial model and sample dataset for k=4"
   ]
  },
  {
   "cell_type": "code",
   "execution_count": 99,
   "metadata": {},
   "outputs": [
    {
     "name": "stdout",
     "output_type": "stream",
     "text": [
      "[ 0.3047171  -1.0399841   0.7504512   0.9405647  -1.9510351  -1.3021795\n",
      "  0.1278404  -0.3162426  -0.01680116 -0.8530439   0.879398    0.7777919\n",
      "  0.0660307   1.1272413   0.46750933 -0.85929245]\n",
      "[ 4 11  9  0 10 12 13  5]\n"
     ]
    }
   ],
   "source": [
    "n = 1000\n",
    "k = 4\n",
    "degree = 4\n",
    "sigma = 0.1\n",
    "sparsity = 0.5\n",
    "\n",
    "fm = FM.FactorialModel(\n",
    "    n=n,\n",
    "    k=k,\n",
    "    degree=degree,\n",
    "    sigma=sigma,\n",
    "    sparsity=sparsity,\n",
    "    beta_seed=42,\n",
    ")\n",
    "t, y = fm.sample(seed=0)"
   ]
  },
  {
   "cell_type": "code",
   "execution_count": 100,
   "metadata": {},
   "outputs": [
    {
     "name": "stdout",
     "output_type": "stream",
     "text": [
      "[ 0.         -1.0383812   0.74151677  0.92653066  0.         -0.01760102\n",
      "  0.12800655 -0.30126548  0.          0.01136997  0.00642461 -0.\n",
      " -0.02599995 -0.          0.42120025 -0.8189125 ]\n",
      "[ 0.         -1.0399841   0.7504512   0.9405647   0.          0.\n",
      "  0.1278404  -0.3162426  -0.01680116  0.          0.          0.\n",
      "  0.          0.          0.46750933 -0.85929245]\n"
     ]
    }
   ],
   "source": [
    "# Fit Lasso regression\n",
    "pf = preprocessing.PolynomialFeatures(\n",
    "    degree=degree, interaction_only=True, include_bias=True,\n",
    ")\n",
    "T = pf.fit_transform(t)\n",
    "T_train, T_test, y_train, y_test = train_test_split(T, y, test_size=0.3, random_state=42)\n",
    "alpha_cv = [0.001,0.01,0.1, 0.5]\n",
    "model = LassoCV(alphas = alpha_cv, cv=5, random_state=42)\n",
    "model.fit(T_train, y_train)\n",
    "alpha = model.alpha_\n",
    "\n",
    "model = Lasso(alpha=alpha)\n",
    "model.fit(T_train, y_train)\n",
    "print(model.coef_)\n",
    "print(fm.beta)"
   ]
  },
  {
   "cell_type": "code",
   "execution_count": 101,
   "metadata": {},
   "outputs": [
    {
     "name": "stdout",
     "output_type": "stream",
     "text": [
      "[ 0.         -1.03838122  0.74151677  0.92653066  0.         -0.31446547\n",
      "  0.01615599 -1.3396467   1.66804743  0.75288674  0.93295527  0.74007173\n",
      " -0.63036092 -0.27868488  2.10704226  0.03288864]\n"
     ]
    }
   ],
   "source": [
    "# Compute expected outcomes\n",
    "betas = model.coef_\n",
    "beta_mask = pf.fit_transform(pf.powers_)\n",
    "expected_outcomes = beta_mask @ betas\n",
    "print(expected_outcomes)"
   ]
  },
  {
   "cell_type": "code",
   "execution_count": 102,
   "metadata": {},
   "outputs": [
    {
     "data": {
      "image/png": "[encoded data removed]",
      "text/plain": [
       "<Figure size 640x480 with 1 Axes>"
      ]
     },
     "metadata": {},
     "output_type": "display_data"
    }
   ],
   "source": [
    "# Plot betas and expected outcomes\n",
    "_ = sns.barplot(\n",
    "    x=[\n",
    "        r\"0\",\n",
    "        r\"$t_1$\",\n",
    "        r\"$t_2$\",\n",
    "        r\"$t_3$\",\n",
    "        r\"$t_4$\",\n",
    "        r\"$t_1 t_2$\",\n",
    "        r\"$t_1 t_3$\",\n",
    "        r\"$t_1 t_4$\",\n",
    "        r\"$t_2 t_3$\",\n",
    "        r\"$t_2 t_4$\",\n",
    "        r\"$t_3 t_4$\",\n",
    "        r\"$t_1 t_2 t_3$\",\n",
    "        r\"$t_1 t_2 t_4$\",\n",
    "        r\"$t_1 t_3 t_4$\",\n",
    "        r\"$t_2 t_3 t_4$\",\n",
    "        r\"$t_1 t_2 t_3 t_4$\",\n",
    "    ],\n",
    "    y=betas,\n",
    "    alpha=0.5,\n",
    "    label=r\"$\\beta$\",\n",
    ")\n",
    "\n",
    "_ = sns.barplot(\n",
    "    x=[\n",
    "        r\"0\",\n",
    "        r\"$t_1$\",\n",
    "        r\"$t_2$\",\n",
    "        r\"$t_3$\",\n",
    "        r\"$t_4$\",\n",
    "        r\"$t_1 t_2$\",\n",
    "        r\"$t_1 t_3$\",\n",
    "        r\"$t_1 t_4$\",\n",
    "        r\"$t_2 t_3$\",\n",
    "        r\"$t_2 t_4$\",\n",
    "        r\"$t_3 t_4$\",\n",
    "        r\"$t_1 t_2 t_3$\",\n",
    "        r\"$t_1 t_2 t_4$\",\n",
    "        r\"$t_1 t_3 t_4$\",\n",
    "        r\"$t_2 t_3 t_4$\",\n",
    "        r\"$t_1 t_2 t_3 t_4$\",\n",
    "    ],\n",
    "    y=expected_outcomes,\n",
    "    alpha=0.5,\n",
    "    label=r\"E[Y|T]\",\n",
    ")"
   ]
  },
  {
   "cell_type": "markdown",
   "metadata": {},
   "source": [
    "### Find Kmeans clusters"
   ]
  },
  {
   "cell_type": "code",
   "execution_count": 103,
   "metadata": {},
   "outputs": [
    {
     "name": "stdout",
     "output_type": "stream",
     "text": [
      "For 1 Clusters, MSE:226.62528202932663\n",
      "Clusters for each combination: [0 0 0 0 0 0 0 0 0 0 0 0 0 0 0 0]\n",
      "For 2 Clusters, MSE:69.98290663726938\n",
      "Clusters for each combination: [0 0 1 1 0 0 0 0 1 1 1 1 0 0 1 0]\n",
      "For 3 Clusters, MSE:44.821749973392706\n",
      "Clusters for each combination: [0 0 1 1 0 0 0 0 2 1 1 1 0 0 2 0]\n",
      "For 4 Clusters, MSE:12.365039650272358\n",
      "Clusters for each combination: [3 0 1 1 3 3 3 0 2 1 1 1 0 3 2 3]\n",
      "For 5 Clusters, MSE:9.027676808735215\n",
      "Clusters for each combination: [3 4 1 1 3 3 3 4 2 1 1 1 0 3 2 3]\n",
      "For 6 Clusters, MSE:5.835281616594306\n",
      "Clusters for each combination: [3 4 1 1 3 5 3 4 2 1 1 1 0 5 2 3]\n",
      "For 7 Clusters, MSE:4.2762259123037465\n",
      "Clusters for each combination: [3 4 1 1 3 5 3 4 6 1 1 1 0 5 2 3]\n",
      "For 8 Clusters, MSE:3.812945890371637\n",
      "Clusters for each combination: [3 4 7 1 3 5 3 4 6 7 1 7 0 5 2 3]\n",
      "For 9 Clusters, MSE:2.992498840140452\n",
      "Clusters for each combination: [3 8 7 1 3 5 3 4 6 7 1 7 0 5 2 3]\n",
      "For 10 Clusters, MSE:3.274679079121633\n",
      "Clusters for each combination: [3 8 7 1 3 5 3 4 6 7 1 7 0 9 2 3]\n",
      "For 11 Clusters, MSE:3.7334673657358626\n",
      "Clusters for each combination: [ 3  8  7  1  3  5  3  4  6  7  1  7  0  9  2 10]\n",
      "For 12 Clusters, MSE:3.5756259096737377\n",
      "Clusters for each combination: [ 3  8  7  1  3  5 11  4  6  7  1  7  0  9  2 10]\n",
      "For 13 Clusters, MSE:3.8919978150417993\n",
      "Clusters for each combination: [ 3  8  7  1  3  5 11  4  6 12  1  7  0  9  2 10]\n",
      "For 14 Clusters, MSE:4.00887981730433\n",
      "Clusters for each combination: [ 3  8  7 13  3  5 11  4  6 12  1  7  0  9  2 10]\n",
      "For 15 Clusters, MSE:3.8731012787620718\n",
      "Clusters for each combination: [ 3  8  7 13  3  5 11  4  6 12  1 14  0  9  2 10]\n"
     ]
    }
   ],
   "source": [
    "\n",
    "values = cross_val_kmeans(T_train, T_test,y_train, y_test,expected_outcomes, beta_mask,15)"
   ]
  },
  {
   "cell_type": "code",
   "execution_count": 104,
   "metadata": {},
   "outputs": [
    {
     "name": "stdout",
     "output_type": "stream",
     "text": [
      "{1: 226.62528202932663, 2: 69.98290663726938, 3: 44.821749973392706, 4: 12.365039650272358, 5: 9.027676808735215, 6: 5.835281616594306, 7: 4.2762259123037465, 8: 3.812945890371637, 9: 2.992498840140452, 10: 3.274679079121633, 11: 3.7334673657358626, 12: 3.5756259096737377, 13: 3.8919978150417993, 14: 4.00887981730433, 15: 3.8731012787620718}\n"
     ]
    },
    {
     "data": {
      "image/png": "[encoded data removed]",
      "text/plain": [
       "<Figure size 800x600 with 1 Axes>"
      ]
     },
     "metadata": {},
     "output_type": "display_data"
    }
   ],
   "source": [
    "import matplotlib.pyplot as plt\n",
    "print(values)\n",
    "x = list(values.keys())\n",
    "y = list(values.values())\n",
    "plt.figure(figsize=(8, 6))  # Optional: specify the figure size\n",
    "plt.plot(x, y, marker='o', linestyle='-', color='b')  # Plot with line and markers\n",
    "\n",
    "# Add title and labels\n",
    "plt.title('MSE vs Number of Clusters')\n",
    "plt.xlabel('Number of Clusters')\n",
    "plt.ylabel('MSE')\n",
    "\n",
    "# Optional: Add grid for better readability\n",
    "plt.grid(True)\n",
    "\n",
    "# Show the plot\n",
    "plt.show()"
   ]
  },
  {
   "cell_type": "markdown",
   "metadata": {},
   "source": [
    "### Factorial model and sample dataset for k=5"
   ]
  },
  {
   "cell_type": "code",
   "execution_count": 57,
   "metadata": {},
   "outputs": [],
   "source": [
    "n = 1000\n",
    "k = 5\n",
    "degree = 5\n",
    "sigma = 0.1\n",
    "sparsity = 0.5\n",
    "\n",
    "fm = FM.FactorialModel(\n",
    "    n=n,\n",
    "    k=k,\n",
    "    degree=degree,\n",
    "    sigma=sigma,\n",
    "    sparsity=sparsity,\n",
    "    beta_seed=42,\n",
    ")\n",
    "t, y = fm.sample(seed=0)"
   ]
  },
  {
   "cell_type": "code",
   "execution_count": 58,
   "metadata": {},
   "outputs": [
    {
     "name": "stdout",
     "output_type": "stream",
     "text": [
      "[ 0.          0.          0.45883626  0.         -0.         -0.\n",
      "  0.          0.         -0.         -0.          0.41779137  0.\n",
      "  0.          0.          0.         -0.33889037  0.          0.\n",
      "  0.          0.          0.         -0.          0.          0.\n",
      " -0.         -0.          0.          0.          0.         -0.\n",
      "  0.          0.        ]\n"
     ]
    }
   ],
   "source": [
    "# Fit Lasso regression\n",
    "pf = preprocessing.PolynomialFeatures(\n",
    "    degree=degree, interaction_only=True, include_bias=True,\n",
    ")\n",
    "T = pf.fit_transform(t)\n",
    "model = Lasso(alpha=0.1)\n",
    "model.fit(T, y)\n",
    "print(model.coef_)"
   ]
  },
  {
   "cell_type": "code",
   "execution_count": 59,
   "metadata": {},
   "outputs": [
    {
     "name": "stdout",
     "output_type": "stream",
     "text": [
      "[ 0.          0.          0.45883626  0.          0.          0.\n",
      "  0.45883626  0.          0.          0.          0.87662762  0.45883626\n",
      "  0.45883626  0.          0.         -0.33889037  0.87662762  0.45883626\n",
      "  0.45883626  0.          0.         -0.33889037  0.87662762  0.87662762\n",
      "  0.11994588 -0.33889037  0.87662762  0.87662762  0.11994588 -0.33889037\n",
      "  0.53773725  0.53773725]\n"
     ]
    }
   ],
   "source": [
    "# Compute expected outcomes\n",
    "betas = model.coef_\n",
    "beta_mask = pf.fit_transform(pf.powers_)\n",
    "expected_outcomes = beta_mask @ betas\n",
    "print(expected_outcomes)"
   ]
  },
  {
   "cell_type": "code",
   "execution_count": 60,
   "metadata": {},
   "outputs": [
    {
     "data": {
      "image/png": "[encoded data removed]",
      "text/plain": [
       "<Figure size 640x480 with 1 Axes>"
      ]
     },
     "metadata": {},
     "output_type": "display_data"
    }
   ],
   "source": [
    "# Plot betas and expected outcomes\n",
    "_ = sns.barplot(\n",
    "    x=[\n",
    "        r\"0\",\n",
    "        r\"$t_1$\",\n",
    "        r\"$t_2$\",\n",
    "        r\"$t_3$\",\n",
    "        r\"$t_4$\",\n",
    "        r\"$t_5$\",\n",
    "        r\"$t_1 t_2$\",\n",
    "        r\"$t_1 t_3$\",\n",
    "        r\"$t_1 t_4$\",\n",
    "        r\"$t_1 t_5$\",\n",
    "        r\"$t_2 t_3$\",\n",
    "        r\"$t_2 t_4$\",\n",
    "        r\"$t_2 t_5$\",\n",
    "        r\"$t_3 t_4$\",\n",
    "        r\"$t_3 t_5$\",\n",
    "        r\"$t_4 t_5$\",\n",
    "        r\"$t_1 t_2 t_3$\",\n",
    "        r\"$t_1 t_2 t_4$\",\n",
    "        r\"$t_1 t_2 t_5$\",\n",
    "        r\"$t_1 t_3 t_4$\",\n",
    "        r\"$t_1 t_3 t_5$\",\n",
    "        r\"$t_1 t_4 t_5$\",\n",
    "        r\"$t_2 t_3 t_4$\",\n",
    "        r\"$t_2 t_3 t_5$\",\n",
    "        r\"$t_2 t_4 t_5$\",\n",
    "        r\"$t_3 t_4 t_5$\",\n",
    "        r\"$t_1 t_2 t_3 t_4$\",\n",
    "        r\"$t_1 t_2 t_3 t_5$\",\n",
    "        r\"$t_1 t_2 t_4 t_5$\",\n",
    "        r\"$t_1 t_3 t_4 t_5$\",\n",
    "        r\"$t_2 t_3 t_4 t_5$\",\n",
    "        r\"$t_1 t_2 t_3 t_4 t_5$\",\n",
    "    ],\n",
    "    y=betas,\n",
    "    alpha=0.5,\n",
    "    label=r\"$\\beta$\",\n",
    ")\n",
    "\n",
    "_ = sns.barplot(\n",
    "    x=[\n",
    "        r\"0\",\n",
    "        r\"$t_1$\",\n",
    "        r\"$t_2$\",\n",
    "        r\"$t_3$\",\n",
    "        r\"$t_4$\",\n",
    "        r\"$t_5$\",\n",
    "        r\"$t_1 t_2$\",\n",
    "        r\"$t_1 t_3$\",\n",
    "        r\"$t_1 t_4$\",\n",
    "        r\"$t_1 t_5$\",\n",
    "        r\"$t_2 t_3$\",\n",
    "        r\"$t_2 t_4$\",\n",
    "        r\"$t_2 t_5$\",\n",
    "        r\"$t_3 t_4$\",\n",
    "        r\"$t_3 t_5$\",\n",
    "        r\"$t_4 t_5$\",\n",
    "        r\"$t_1 t_2 t_3$\",\n",
    "        r\"$t_1 t_2 t_4$\",\n",
    "        r\"$t_1 t_2 t_5$\",\n",
    "        r\"$t_1 t_3 t_4$\",\n",
    "        r\"$t_1 t_3 t_5$\",\n",
    "        r\"$t_1 t_4 t_5$\",\n",
    "        r\"$t_2 t_3 t_4$\",\n",
    "        r\"$t_2 t_3 t_5$\",\n",
    "        r\"$t_2 t_4 t_5$\",\n",
    "        r\"$t_3 t_4 t_5$\",\n",
    "        r\"$t_1 t_2 t_3 t_4$\",\n",
    "        r\"$t_1 t_2 t_3 t_5$\",\n",
    "        r\"$t_1 t_2 t_4 t_5$\",\n",
    "        r\"$t_1 t_3 t_4 t_5$\",\n",
    "        r\"$t_2 t_3 t_4 t_5$\",\n",
    "        r\"$t_1 t_2 t_3 t_4 t_5$\",\n",
    "    ],\n",
    "    y=expected_outcomes,\n",
    "    alpha=0.5,\n",
    "    label=r\"E[Y|T]\",\n",
    ")"
   ]
  },
  {
   "cell_type": "markdown",
   "metadata": {},
   "source": []
  }
 ],
 "metadata": {
  "kernelspec": {
   "display_name": "base",
   "language": "python",
   "name": "python3"
  },
  "language_info": {
   "codemirror_mode": {
    "name": "ipython",
    "version": 3
   },
   "file_extension": ".py",
   "mimetype": "text/x-python",
   "name": "python",
   "nbconvert_exporter": "python",
   "pygments_lexer": "ipython3",
   "version": "3.10.9"
  },
  "vscode": {
   "interpreter": {
    "hash": "eebfdbda06c0fad39ac275854ff2a899db249160fd4d105286e33d75d7d6841a"
   }
  }
 },
 "nbformat": 4,
 "nbformat_minor": 2
}
