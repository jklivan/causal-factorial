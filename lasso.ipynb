{
 "cells": [
  {
   "cell_type": "markdown",
   "metadata": {},
   "source": [
    "## Lasso regression for sparse data"
   ]
  },
  {
   "cell_type": "code",
   "execution_count": 81,
   "metadata": {},
   "outputs": [
    {
     "name": "stdout",
     "output_type": "stream",
     "text": [
      "The autoreload extension is already loaded. To reload it, use:\n",
      "  %reload_ext autoreload\n"
     ]
    }
   ],
   "source": [
    "%load_ext autoreload\n",
    "%autoreload 2"
   ]
  },
  {
   "cell_type": "code",
   "execution_count": 82,
   "metadata": {},
   "outputs": [],
   "source": [
    "import numpy as np\n",
    "import pandas as pd\n",
    "import seaborn as sns\n",
    "import statsmodels.api as sm\n",
    "import class_FM_QC as FM\n",
    "from sklearn import preprocessing\n",
    "from sklearn.linear_model import Lasso, LassoCV\n",
    "from sklearn.model_selection import train_test_split\n",
    "from sklearn.cluster import KMeans\n",
    "from sklearn.metrics import mean_squared_error\n",
    "import matplotlib.pyplot as plt\n"
   ]
  },
  {
   "cell_type": "markdown",
   "metadata": {},
   "source": [
    "### Initialize factorial model and sample dataset for k=3"
   ]
  },
  {
   "cell_type": "code",
   "execution_count": 3,
   "metadata": {},
   "outputs": [],
   "source": [
    "n = 1000\n",
    "k = 3\n",
    "degree = 3\n",
    "sigma = 0.1\n",
    "sparsity = 0.5\n",
    "\n",
    "fm = FM.FactorialModel(\n",
    "    n=n,\n",
    "    k=k,\n",
    "    degree=degree,\n",
    "    sigma=sigma,\n",
    "    sparsity=sparsity,\n",
    "    beta_seed=42,\n",
    ")\n",
    "t, y = fm.sample(seed=0)\n"
   ]
  },
  {
   "cell_type": "markdown",
   "metadata": {},
   "source": [
    "### Fit Lasso regression with cross validation for alpha"
   ]
  },
  {
   "cell_type": "code",
   "execution_count": 9,
   "metadata": {},
   "outputs": [
    {
     "name": "stdout",
     "output_type": "stream",
     "text": [
      "alpha=0.001\n",
      "betas=[ 0.         -1.039072    0.          0.00287061 -1.94102    -0.00826316\n",
      "  0.10200795 -0.2885483 ]\n",
      "Mean Squared Error of y: 0.010162831604398266\n",
      "Mean Squared Error of beta: 0.00020149318152107298\n"
     ]
    }
   ],
   "source": [
    "pf = preprocessing.PolynomialFeatures(\n",
    "    degree=degree, interaction_only=True, include_bias=True,\n",
    ")\n",
    "T = pf.fit_transform(t)\n",
    "T_train, T_test, y_train, y_test = train_test_split(T, y, test_size=0.2, random_state=42)\n",
    "alpha_cv = [0.001, 0.01, 0.1, 0.5]\n",
    "model = LassoCV(alphas=alpha_cv, cv=5, random_state=42)\n",
    "model.fit(T_train, y_train)\n",
    "print(f'alpha={model.alpha_}\\nbetas={model.coef_}')\n",
    "\n",
    "y_pred = model.predict(T_test)\n",
    "mse = mean_squared_error(y_test, y_pred)\n",
    "print(f\"Mean Squared Error of y: {mse}\")\n",
    "\n",
    "beta_actual = fm.beta\n",
    "beta_hat = model.coef_\n",
    "mse_beta = mean_squared_error(beta_actual, beta_hat)\n",
    "print(f\"Mean Squared Error of beta: {mse_beta}\")"
   ]
  },
  {
   "cell_type": "markdown",
   "metadata": {},
   "source": [
    "### Compute expected outcomes as linear combinations of betas"
   ]
  },
  {
   "cell_type": "code",
   "execution_count": null,
   "metadata": {},
   "outputs": [
    {
     "name": "stdout",
     "output_type": "stream",
     "text": [
      "expected_outcomes=[ 0.   -1.04  0.    0.   -2.98 -1.04  0.1  -3.17]\n"
     ]
    }
   ],
   "source": [
    "betas = model.coef_\n",
    "beta_mask = pf.fit_transform(pf.powers_)\n",
    "expected_outcomes = beta_mask @ betas\n",
    "print(f'expected_outcomes={np.round(expected_outcomes,2)}')"
   ]
  },
  {
   "cell_type": "markdown",
   "metadata": {},
   "source": [
    "### Cluster treatment combinations by expected outcomes"
   ]
  },
  {
   "cell_type": "code",
   "execution_count": null,
   "metadata": {},
   "outputs": [
    {
     "name": "stdout",
     "output_type": "stream",
     "text": [
      "Max clusters: 1; cluster labels: [0 0 0 0 0 0 0 0]; score: -12.87\n",
      "Max clusters: 2; cluster labels: [1 1 1 1 0 1 1 0]; score: -1.55\n",
      "Max clusters: 3; cluster labels: [1 2 1 1 0 2 1 0]; score: -0.03\n",
      "Max clusters: 4; cluster labels: [1 2 1 1 0 2 1 3]; score: -0.01\n",
      "Max clusters: 5; cluster labels: [1 2 1 1 0 2 4 3]; score: -0.00\n",
      "Max clusters: 6; cluster labels: [1 2 1 1 0 5 4 3]; score: -0.00\n",
      "Max clusters: 7; cluster labels: [6 2 6 1 0 5 4 3]; score: -0.00\n"
     ]
    }
   ],
   "source": [
    "for i in range(1, 2**k):\n",
    "    kmeans = KMeans(n_clusters=i, random_state=0).fit(expected_outcomes.reshape(-1, 1))\n",
    "    score = kmeans.score(expected_outcomes.reshape(-1, 1))\n",
    "    print(f'Max clusters: {i}; cluster labels: {kmeans.labels_}; score: {score:.2f}')"
   ]
  },
  {
   "cell_type": "markdown",
   "metadata": {},
   "source": [
    "### Plot betas and expected outcomes"
   ]
  },
  {
   "cell_type": "code",
   "execution_count": null,
   "metadata": {},
   "outputs": [
    {
     "data": {
      "image/png": "[encoded data removed]",
      "text/plain": [
       "<Figure size 640x480 with 1 Axes>"
      ]
     },
     "metadata": {},
     "output_type": "display_data"
    }
   ],
   "source": [
    "_ = sns.barplot(\n",
    "    x=[\n",
    "        r\"0\",\n",
    "        r\"$t_1$\",\n",
    "        r\"$t_2$\",\n",
    "        r\"$t_3$\",\n",
    "        r\"$t_1 t_2$\",\n",
    "        r\"$t_1 t_3$\",\n",
    "        r\"$t_2 t_3$\",\n",
    "        r\"$t_1 t_2 t_3$\",\n",
    "    ],\n",
    "    y=betas,\n",
    "    alpha=0.5,\n",
    "    label=r\"$\\beta$\",\n",
    ")\n",
    "\n",
    "_ = sns.barplot(\n",
    "    x=[\n",
    "        r\"0\",\n",
    "        r\"$t_1$\",\n",
    "        r\"$t_2$\",\n",
    "        r\"$t_3$\",\n",
    "        r\"$t_1 t_2$\",\n",
    "        r\"$t_1 t_3$\",\n",
    "        r\"$t_2 t_3$\",\n",
    "        r\"$t_1 t_2 t_3$\",\n",
    "    ],\n",
    "    y=expected_outcomes,\n",
    "    alpha=0.5,\n",
    "    label=r\"E[Y|T]\",\n",
    ")"
   ]
  },
  {
   "cell_type": "markdown",
   "metadata": {},
   "source": [
    "### Factorial model and sample dataset for k=4"
   ]
  },
  {
   "cell_type": "code",
   "execution_count": null,
   "metadata": {},
   "outputs": [],
   "source": [
    "n = 1000\n",
    "k = 4\n",
    "degree = 4\n",
    "sigma = 0.1\n",
    "sparsity = 0.5\n",
    "\n",
    "fm = FM.FactorialModel(\n",
    "    n=n,\n",
    "    k=k,\n",
    "    degree=degree,\n",
    "    sigma=sigma,\n",
    "    sparsity=sparsity,\n",
    "    beta_seed=42,\n",
    ")\n",
    "t, y = fm.sample(seed=0)"
   ]
  },
  {
   "cell_type": "code",
   "execution_count": null,
   "metadata": {},
   "outputs": [
    {
     "name": "stdout",
     "output_type": "stream",
     "text": [
      "alpha=0.001\n",
      "betas=[ 0.         -1.035448    0.7413757   0.9281001   0.         -0.01766558\n",
      "  0.12114663 -0.30965605  0.          0.01041427  0.01005623 -0.\n",
      " -0.01030027 -0.          0.4079781  -0.8193734 ]\n"
     ]
    }
   ],
   "source": [
    "# Fit Lasso regression with cross validation for alpha\n",
    "pf = preprocessing.PolynomialFeatures(\n",
    "    degree=degree, interaction_only=True, include_bias=True,\n",
    ")\n",
    "T = pf.fit_transform(t)\n",
    "T_train, T_test, y_train, y_test = train_test_split(T, y, test_size=0.2, random_state=42)\n",
    "alpha_cv = [0.001, 0.01, 0.1, 0.5]\n",
    "model = LassoCV(alphas=alpha_cv, cv=5, random_state=42)\n",
    "model.fit(T_train, y_train)\n",
    "print(f'alpha={model.alpha_}\\nbetas={model.coef_}')\n",
    "\n",
    "y_pred = model.predict(T_test)\n",
    "mse = mean_squared_error(y_test, y_pred)\n",
    "print(f\"Mean Squared Error of y: {mse}\")\n",
    "\n",
    "beta_actual = fm.beta\n",
    "beta_hat = model.coef_\n",
    "mse_beta = mean_squared_error(beta_actual, beta_hat)\n",
    "print(f\"Mean Squared Error of beta: {mse_beta}\")"
   ]
  },
  {
   "cell_type": "code",
   "execution_count": null,
   "metadata": {},
   "outputs": [
    {
     "name": "stdout",
     "output_type": "stream",
     "text": [
      "expected_outcomes=[ 0.   -1.04  0.74  0.93  0.   -0.31  0.01 -1.35  1.67  0.75  0.94  0.74\n",
      " -0.62 -0.29  2.1   0.03]\n"
     ]
    }
   ],
   "source": [
    "# Compute expected outcomes as linear combinations of betas\n",
    "betas = model.coef_\n",
    "beta_mask = pf.fit_transform(pf.powers_)\n",
    "expected_outcomes = beta_mask @ betas\n",
    "print(f'expected_outcomes={np.round(expected_outcomes,2)}')"
   ]
  },
  {
   "cell_type": "code",
   "execution_count": null,
   "metadata": {},
   "outputs": [
    {
     "name": "stdout",
     "output_type": "stream",
     "text": [
      "(16,) (16,)\n"
     ]
    }
   ],
   "source": [
    "print(betas.shape, expected_outcomes.shape)"
   ]
  },
  {
   "cell_type": "code",
   "execution_count": null,
   "metadata": {},
   "outputs": [
    {
     "name": "stdout",
     "output_type": "stream",
     "text": [
      "Max clusters: 1; cluster labels: [0 0 0 0 0 0 0 0 0 0 0 0 0 0 0 0]; score: -12.88\n",
      "Max clusters: 2; cluster labels: [1 1 1 1 1 1 1 1 0 1 1 1 1 1 0 1]; score: -6.92\n",
      "Max clusters: 3; cluster labels: [2 2 1 1 2 2 2 2 0 1 1 1 2 2 0 2]; score: -2.17\n",
      "Max clusters: 4; cluster labels: [2 3 1 1 2 2 2 3 0 1 1 1 2 2 0 2]; score: -0.55\n",
      "Max clusters: 5; cluster labels: [2 3 1 1 2 4 2 3 0 1 1 1 4 4 0 2]; score: -0.25\n",
      "Max clusters: 6; cluster labels: [2 3 1 1 2 4 2 3 0 1 1 1 4 4 5 2]; score: -0.16\n",
      "Max clusters: 7; cluster labels: [2 3 1 1 2 4 2 3 0 1 1 1 6 4 5 2]; score: -0.09\n",
      "Max clusters: 8; cluster labels: [1 4 3 3 1 6 1 2 0 3 3 3 7 6 5 1]; score: -0.04\n",
      "Max clusters: 9; cluster labels: [1 4 3 8 1 6 1 2 0 3 8 3 7 6 5 1]; score: -0.00\n",
      "Max clusters: 10; cluster labels: [1 4 3 8 1 6 1 2 0 3 8 3 7 9 5 1]; score: -0.00\n",
      "Max clusters: 11; cluster labels: [10  4  3  8 10  6  1  2  0  3  8  3  7  9  5  1]; score: -0.00\n",
      "Max clusters: 12; cluster labels: [10  4 11  8 10  6  1  2  0  3  8 11  7  9  5  1]; score: -0.00\n",
      "Max clusters: 13; cluster labels: [10  4 11  8 10  6  1  2  0  3  8 11  7  9  5 12]; score: -0.00\n",
      "Max clusters: 14; cluster labels: [10  4 11  8 10  6  1  2  0  3 13 11  7  9  5 12]; score: -0.00\n",
      "Max clusters: 15; cluster labels: [10  4 14  8 10  6  1  2  0  3 13 11  7  9  5 12]; score: -0.00\n"
     ]
    }
   ],
   "source": [
    "# Cluster treatment combinations by expected outcomes\n",
    "for i in range(1, 2**k):\n",
    "    kmeans = KMeans(n_clusters=i, random_state=0).fit(expected_outcomes.reshape(-1, 1))\n",
    "    score = kmeans.score(expected_outcomes.reshape(-1, 1))\n",
    "    print(f'Max clusters: {i}; cluster labels: {kmeans.labels_}; score: {score:.2f}')"
   ]
  },
  {
   "cell_type": "code",
   "execution_count": null,
   "metadata": {},
   "outputs": [
    {
     "data": {
      "image/png": "[encoded data removed]",
      "text/plain": [
       "<Figure size 640x480 with 1 Axes>"
      ]
     },
     "metadata": {},
     "output_type": "display_data"
    }
   ],
   "source": [
    "# Plot betas and expected outcomes\n",
    "_ = sns.barplot(\n",
    "    x=[\n",
    "        r\"0\",\n",
    "        r\"$t_1$\",\n",
    "        r\"$t_2$\",\n",
    "        r\"$t_3$\",\n",
    "        r\"$t_4$\",\n",
    "        r\"$t_1 t_2$\",\n",
    "        r\"$t_1 t_3$\",\n",
    "        r\"$t_1 t_4$\",\n",
    "        r\"$t_2 t_3$\",\n",
    "        r\"$t_2 t_4$\",\n",
    "        r\"$t_3 t_4$\",\n",
    "        r\"$t_1 t_2 t_3$\",\n",
    "        r\"$t_1 t_2 t_4$\",\n",
    "        r\"$t_1 t_3 t_4$\",\n",
    "        r\"$t_2 t_3 t_4$\",\n",
    "        r\"$t_1 t_2 t_3 t_4$\",\n",
    "    ],\n",
    "    y=betas,\n",
    "    alpha=0.5,\n",
    "    label=r\"$\\beta$\",\n",
    ")\n",
    "\n",
    "_ = sns.barplot(\n",
    "    x=[\n",
    "        r\"0\",\n",
    "        r\"$t_1$\",\n",
    "        r\"$t_2$\",\n",
    "        r\"$t_3$\",\n",
    "        r\"$t_4$\",\n",
    "        r\"$t_1 t_2$\",\n",
    "        r\"$t_1 t_3$\",\n",
    "        r\"$t_1 t_4$\",\n",
    "        r\"$t_2 t_3$\",\n",
    "        r\"$t_2 t_4$\",\n",
    "        r\"$t_3 t_4$\",\n",
    "        r\"$t_1 t_2 t_3$\",\n",
    "        r\"$t_1 t_2 t_4$\",\n",
    "        r\"$t_1 t_3 t_4$\",\n",
    "        r\"$t_2 t_3 t_4$\",\n",
    "        r\"$t_1 t_2 t_3 t_4$\",\n",
    "    ],\n",
    "    y=expected_outcomes,\n",
    "    alpha=0.5,\n",
    "    label=r\"E[Y|T]\",\n",
    ")"
   ]
  },
  {
   "cell_type": "markdown",
   "metadata": {},
   "source": [
    "### Factorial model and sample dataset for k=5"
   ]
  },
  {
   "cell_type": "code",
   "execution_count": null,
   "metadata": {},
   "outputs": [],
   "source": [
    "n = 1000\n",
    "k = 5\n",
    "degree = 5\n",
    "sigma = 0.1\n",
    "sparsity = 0.5\n",
    "\n",
    "fm = FM.FactorialModel(\n",
    "    n=n,\n",
    "    k=k,\n",
    "    degree=degree,\n",
    "    sigma=sigma,\n",
    "    sparsity=sparsity,\n",
    "    beta_seed=42,\n",
    ")\n",
    "t, y = fm.sample(seed=0)"
   ]
  },
  {
   "cell_type": "code",
   "execution_count": null,
   "metadata": {},
   "outputs": [
    {
     "name": "stdout",
     "output_type": "stream",
     "text": [
      "alpha=0.001\n",
      "betas=[ 0.0000000e+00 -1.1775770e-02  7.4759305e-01  1.2007688e-02\n",
      "  5.1933096e-04  5.9438688e-03  0.0000000e+00 -5.9729721e-02\n",
      "  0.0000000e+00 -0.0000000e+00  2.6839564e-02  1.4461634e-02\n",
      " -0.0000000e+00  0.0000000e+00  3.7092009e-01 -8.6962891e-01\n",
      "  4.2758536e-01  0.0000000e+00  1.4639428e-01 -7.6126275e-03\n",
      " -0.0000000e+00  0.0000000e+00  1.1022424e+00 -0.0000000e+00\n",
      " -3.3549345e-01 -3.0247265e-01 -0.0000000e+00  4.0273056e-03\n",
      "  1.3373104e-01 -1.2975444e-01 -6.8424918e-02 -0.0000000e+00]\n"
     ]
    }
   ],
   "source": [
    "# Fit Lasso regression with cross validation for alpha\n",
    "pf = preprocessing.PolynomialFeatures(\n",
    "    degree=degree, interaction_only=True, include_bias=True,\n",
    ")\n",
    "T = pf.fit_transform(t)\n",
    "T_train, T_test, y_train, y_test = train_test_split(T, y, test_size=0.2, random_state=42)\n",
    "alpha_cv = [0.001, 0.01, 0.1, 0.5]\n",
    "model = LassoCV(alphas=alpha_cv, cv=5, random_state=42)\n",
    "model.fit(T_train, y_train)\n",
    "print(f'alpha={model.alpha_}\\nbetas={model.coef_}')\n",
    "\n",
    "y_pred = model.predict(T_test)\n",
    "mse = mean_squared_error(y_test, y_pred)\n",
    "print(f\"Mean Squared Error of y: {mse}\")\n",
    "\n",
    "beta_actual = fm.beta\n",
    "beta_hat = model.coef_\n",
    "mse_beta = mean_squared_error(beta_actual, beta_hat)\n",
    "print(f\"Mean Squared Error of beta: {mse_beta}\")"
   ]
  },
  {
   "cell_type": "code",
   "execution_count": null,
   "metadata": {},
   "outputs": [
    {
     "name": "stdout",
     "output_type": "stream",
     "text": [
      "expected_outcomes=[ 0.   -0.01  0.75  0.01  0.    0.01  0.74 -0.06 -0.01 -0.01  0.79  0.76\n",
      "  0.75  0.01  0.39 -0.86  1.14  0.75  0.89 -0.07  0.32 -0.87  1.9   1.16\n",
      " -0.44 -0.78  2.25  1.67 -0.17 -0.99  0.7   1.21]\n"
     ]
    }
   ],
   "source": [
    "# Compute expected outcomes as linear combinations of betas\n",
    "betas = model.coef_\n",
    "beta_mask = pf.fit_transform(pf.powers_)\n",
    "expected_outcomes = beta_mask @ betas\n",
    "print(f'expected_outcomes={np.round(expected_outcomes,2)}')"
   ]
  },
  {
   "cell_type": "code",
   "execution_count": null,
   "metadata": {},
   "outputs": [
    {
     "name": "stdout",
     "output_type": "stream",
     "text": [
      "(32,) (32,)\n"
     ]
    }
   ],
   "source": [
    "print(betas.shape, expected_outcomes.shape)"
   ]
  },
  {
   "cell_type": "code",
   "execution_count": null,
   "metadata": {},
   "outputs": [
    {
     "name": "stdout",
     "output_type": "stream",
     "text": [
      "Max clusters: 1; cluster labels: [0 0 0 0 0 0 0 0 0 0 0 0 0 0 0 0 0 0 0 0 0 0 0 0 0 0 0 0 0 0 0 0]; score: -19.45\n",
      "Max clusters: 2; cluster labels: [1 1 0 1 1 1 0 1 1 1 0 0 0 1 1 1 0 0 0 1 1 1 0 0 1 1 0 0 1 1 0 0]; score: -6.12\n",
      "Max clusters: 3; cluster labels: [1 1 0 1 1 1 0 1 1 1 0 0 0 1 0 1 0 0 0 1 0 1 2 0 1 1 2 2 1 1 0 0]; score: -3.23\n",
      "Max clusters: 4; cluster labels: [3 3 0 3 3 3 0 3 3 3 0 0 0 3 3 1 0 0 0 3 3 1 2 0 1 1 2 2 3 1 0 0]; score: -1.01\n",
      "Max clusters: 5; cluster labels: [3 3 0 3 3 3 0 3 3 3 0 0 0 3 3 4 0 0 0 3 3 4 2 0 1 4 2 2 3 4 0 0]; score: -0.85\n",
      "Max clusters: 6; cluster labels: [3 3 0 3 3 3 0 3 3 3 0 0 0 3 0 4 5 0 0 3 3 4 2 5 1 4 2 2 3 4 0 5]; score: -0.48\n",
      "Max clusters: 7; cluster labels: [3 3 0 3 3 3 0 3 3 3 0 0 0 3 6 4 5 0 0 3 6 4 2 5 1 4 2 2 3 4 0 5]; score: -0.25\n",
      "Max clusters: 8; cluster labels: [3 3 0 3 3 3 0 3 3 3 0 0 0 3 6 4 5 0 0 3 6 4 2 5 1 4 7 2 3 4 0 5]; score: -0.10\n",
      "Max clusters: 9; cluster labels: [3 3 0 3 3 3 0 3 3 3 0 0 0 3 6 4 5 0 0 3 6 4 2 5 1 4 7 8 3 4 0 5]; score: -0.08\n",
      "Max clusters: 10; cluster labels: [3 3 0 3 3 3 0 3 3 3 0 0 0 3 6 4 5 0 0 3 6 4 2 5 1 4 7 8 9 4 0 5]; score: -0.05\n",
      "Max clusters: 11; cluster labels: [ 3  3  0  3  3  3  0  3  3  3  0  0  0  3  6  4  5  0 10  3  6  4  2  5\n",
      "  1  4  7  8  9  4  0  5]; score: -0.04\n",
      "Max clusters: 12; cluster labels: [ 3  3  0  3  3  3  0  3  3  3  0  0  0  3  6  4  5  0 10  3  6  4  2  5\n",
      "  1  4  7  8  9 11  0  5]; score: -0.02\n",
      "Max clusters: 13; cluster labels: [ 3  3  0  3  3  3  0  3  3  3  0  0  0  3  6  4 12  0 10  3  6  4  2 12\n",
      "  1  4  7  8  9 11  0  5]; score: -0.02\n",
      "Max clusters: 14; cluster labels: [ 3  3  0  3  3  3  0 13  3  3  0  0  0  3  6  4 12  0 10 13  6  4  2 12\n",
      "  1  4  7  8  9 11  0  5]; score: -0.01\n",
      "Max clusters: 15; cluster labels: [ 3  3  0  3  3  3  0 13  3  3  0  0  0  3  6  4 12  0 10 13  6  4  2 12\n",
      "  1 14  7  8  9 11  0  5]; score: -0.01\n",
      "Max clusters: 16; cluster labels: [ 3  3  0  3  3  3  0 13  3  3  0  0  0  3 15  4 12  0 10 13  6  4  2 12\n",
      "  1 14  7  8  9 11  0  5]; score: -0.00\n",
      "Max clusters: 17; cluster labels: [ 3  3  0  3  3  3  0 13  3  3  0  0  0  3 15  4 12  0 10 13  6  4  2 12\n",
      "  1 14  7  8  9 11 16  5]; score: -0.00\n",
      "Max clusters: 18; cluster labels: [ 3  3  0  3  3  3  0 13  3  3 17  0  0  3 15  4 12  0 10 13  6  4  2 12\n",
      "  1 14  7  8  9 11 16  5]; score: -0.00\n",
      "Max clusters: 19; cluster labels: [ 3  3  0 18  3 18  0 13  3  3 17  0  0 18 15  4 12  0 10 13  6  4  2 12\n",
      "  1 14  7  8  9 11 16  5]; score: -0.00\n",
      "Max clusters: 20; cluster labels: [ 3  3  0 18  3 18  0 13  3  3 17  0  0 18 15  4 19  0 10 13  6  4  2 12\n",
      "  1 14  7  8  9 11 16  5]; score: -0.00\n",
      "Max clusters: 21; cluster labels: [16  3  0 20 16 16  0 13  3  3 18  0  0 20  6 11 19  0 10 13 15 11  2  5\n",
      "  1  8  7  9 12  4 14 17]; score: -0.00\n",
      "Max clusters: 22; cluster labels: [16  3  0 20 16 16 21 13  3  3 18  0  0 20  6 11 19  0 10 13 15 11  2  5\n",
      "  1  8  7  9 12  4 14 17]; score: -0.00\n",
      "Max clusters: 23; cluster labels: [16  3  0 20 16 16 21 13  3  3 18 22  0 20  6 11 19  0 10 13 15 11  2  5\n",
      "  1  8  7  9 12  4 14 17]; score: -0.00\n",
      "Max clusters: 24; cluster labels: [16  3  0 20 16 16 21 13  3  3 18 22  0 20  6 23 19  0 10 13 15 11  2  5\n",
      "  1  8  7  9 12  4 14 17]; score: -0.00\n",
      "Max clusters: 25; cluster labels: [16  3  0 20 16 16 21 13  3  3 18 22  0 20  6 23 19  0 10 24 15 11  2  5\n",
      "  1  8  7  9 12  4 14 17]; score: -0.00\n",
      "Max clusters: 26; cluster labels: [16  3  0 20 16 16 21 13  3 25 18 22  0 20  6 23 19  0 10 24 15 11  2  5\n",
      "  1  8  7  9 12  4 14 17]; score: -0.00\n",
      "Max clusters: 27; cluster labels: [16  3  0 20 16 26 21 13  3 25 18 22  0 20  6 23 19  0 10 24 15 11  2  5\n",
      "  1  8  7  9 12  4 14 17]; score: -0.00\n",
      "Max clusters: 28; cluster labels: [16  3 27 20 16 26 21 13  3 25 18 22  0 20  6 23 19  0 10 24 15 11  2  5\n",
      "  1  8  7  9 12  4 14 17]; score: -0.00\n",
      "Max clusters: 29; cluster labels: [16  3 27 20 16 26 21 13  3 25 18 22 28 20  6 23 19  0 10 24 15 11  2  5\n",
      "  1  8  7  9 12  4 14 17]; score: -0.00\n",
      "Max clusters: 30; cluster labels: [16  3 27 20 16 26 21 13 29 25 18 22 28 20  6 23 19  0 10 24 15 11  2  5\n",
      "  1  8  7  9 12  4 14 17]; score: -0.00\n",
      "Max clusters: 31; cluster labels: [30  3 27 20 16 26 21 13 29 25 18 22 28 20  6 23 19  0 10 24 15 11  2  5\n",
      "  1  8  7  9 12  4 14 17]; score: -0.00\n"
     ]
    }
   ],
   "source": [
    "# Cluster treatment combinations by expected outcomes\n",
    "for i in range(1, 2**k):\n",
    "    kmeans = KMeans(n_clusters=i, random_state=0).fit(expected_outcomes.reshape(-1, 1))\n",
    "    score = kmeans.score(expected_outcomes.reshape(-1, 1))\n",
    "    print(f'Max clusters: {i}; cluster labels: {kmeans.labels_}; score: {score:.2f}')"
   ]
  },
  {
   "cell_type": "code",
   "execution_count": null,
   "metadata": {},
   "outputs": [
    {
     "data": {
      "image/png": "[encoded data removed]",
      "text/plain": [
       "<Figure size 640x480 with 1 Axes>"
      ]
     },
     "metadata": {},
     "output_type": "display_data"
    }
   ],
   "source": [
    "# Plot betas and expected outcomes\n",
    "_ = sns.barplot(\n",
    "    x=[\n",
    "        r\"0\",\n",
    "        r\"$t_1$\",\n",
    "        r\"$t_2$\",\n",
    "        r\"$t_3$\",\n",
    "        r\"$t_4$\",\n",
    "        r\"$t_5$\",\n",
    "        r\"$t_1 t_2$\",\n",
    "        r\"$t_1 t_3$\",\n",
    "        r\"$t_1 t_4$\",\n",
    "        r\"$t_1 t_5$\",\n",
    "        r\"$t_2 t_3$\",\n",
    "        r\"$t_2 t_4$\",\n",
    "        r\"$t_2 t_5$\",\n",
    "        r\"$t_3 t_4$\",\n",
    "        r\"$t_3 t_5$\",\n",
    "        r\"$t_4 t_5$\",\n",
    "        r\"$t_1 t_2 t_3$\",\n",
    "        r\"$t_1 t_2 t_4$\",\n",
    "        r\"$t_1 t_2 t_5$\",\n",
    "        r\"$t_1 t_3 t_4$\",\n",
    "        r\"$t_1 t_3 t_5$\",\n",
    "        r\"$t_1 t_4 t_5$\",\n",
    "        r\"$t_2 t_3 t_4$\",\n",
    "        r\"$t_2 t_3 t_5$\",\n",
    "        r\"$t_2 t_4 t_5$\",\n",
    "        r\"$t_3 t_4 t_5$\",\n",
    "        r\"$t_1 t_2 t_3 t_4$\",\n",
    "        r\"$t_1 t_2 t_3 t_5$\",\n",
    "        r\"$t_1 t_2 t_4 t_5$\",\n",
    "        r\"$t_1 t_3 t_4 t_5$\",\n",
    "        r\"$t_2 t_3 t_4 t_5$\",\n",
    "        r\"$t_1 t_2 t_3 t_4 t_5$\",\n",
    "    ],\n",
    "    y=betas,\n",
    "    alpha=0.5,\n",
    "    label=r\"$\\beta$\",\n",
    ")\n",
    "\n",
    "_ = sns.barplot(\n",
    "    x=[\n",
    "        r\"0\",\n",
    "        r\"$t_1$\",\n",
    "        r\"$t_2$\",\n",
    "        r\"$t_3$\",\n",
    "        r\"$t_4$\",\n",
    "        r\"$t_5$\",\n",
    "        r\"$t_1 t_2$\",\n",
    "        r\"$t_1 t_3$\",\n",
    "        r\"$t_1 t_4$\",\n",
    "        r\"$t_1 t_5$\",\n",
    "        r\"$t_2 t_3$\",\n",
    "        r\"$t_2 t_4$\",\n",
    "        r\"$t_2 t_5$\",\n",
    "        r\"$t_3 t_4$\",\n",
    "        r\"$t_3 t_5$\",\n",
    "        r\"$t_4 t_5$\",\n",
    "        r\"$t_1 t_2 t_3$\",\n",
    "        r\"$t_1 t_2 t_4$\",\n",
    "        r\"$t_1 t_2 t_5$\",\n",
    "        r\"$t_1 t_3 t_4$\",\n",
    "        r\"$t_1 t_3 t_5$\",\n",
    "        r\"$t_1 t_4 t_5$\",\n",
    "        r\"$t_2 t_3 t_4$\",\n",
    "        r\"$t_2 t_3 t_5$\",\n",
    "        r\"$t_2 t_4 t_5$\",\n",
    "        r\"$t_3 t_4 t_5$\",\n",
    "        r\"$t_1 t_2 t_3 t_4$\",\n",
    "        r\"$t_1 t_2 t_3 t_5$\",\n",
    "        r\"$t_1 t_2 t_4 t_5$\",\n",
    "        r\"$t_1 t_3 t_4 t_5$\",\n",
    "        r\"$t_2 t_3 t_4 t_5$\",\n",
    "        r\"$t_1 t_2 t_3 t_4 t_5$\",\n",
    "    ],\n",
    "    y=expected_outcomes,\n",
    "    alpha=0.5,\n",
    "    label=r\"E[Y|T]\",\n",
    ")"
   ]
  },
  {
   "attachments": {},
   "cell_type": "markdown",
   "metadata": {},
   "source": [
    "### Generate data for m less than sp"
   ]
  },
  {
   "cell_type": "code",
   "execution_count": 73,
   "metadata": {},
   "outputs": [],
   "source": [
    "#s = sparsity * len(beta)\n",
    "#if k is 10: 88\n",
    "# so error low if 88 * log(176) >= 197\n",
    "def run_generation(n_max, k, sparsity):\n",
    "    mse_dict = {}\n",
    "    for n in range(20, n_max, 100):\n",
    "        #dictionary for mse's\n",
    "        \n",
    "        degree = 3\n",
    "        sigma = 0.1\n",
    "\n",
    "        fm = FM.FactorialModel(\n",
    "            n=n,\n",
    "            k=k,\n",
    "            degree=degree,\n",
    "            sigma=sigma,\n",
    "            sparsity=sparsity,\n",
    "            beta_seed=42,\n",
    "        )\n",
    "        t, y = fm.sample(seed=0)\n",
    "        print(np.count_nonzero(fm.beta)/len(fm.beta))\n",
    "\n",
    "\n",
    "        pf = preprocessing.PolynomialFeatures(\n",
    "        degree=degree, interaction_only=True, include_bias=True,\n",
    "        )\n",
    "        T = pf.fit_transform(t)\n",
    "        T_train, T_test, y_train, y_test = train_test_split(T, y, test_size=0.2, random_state=42)\n",
    "        alpha_cv = [0.001, 0.01, 0.1, 0.5]\n",
    "        model = LassoCV(alphas=alpha_cv, cv=5, random_state=42, max_iter=10000)\n",
    "        model.fit(T_train, y_train)\n",
    "        # print(f'alpha={model.alpha_}\\nbetas={model.coef_}')\n",
    "\n",
    "        y_pred = model.predict(T_test)\n",
    "        mse = mean_squared_error(y_test, y_pred)\n",
    "        # print(f\"Mean Squared Error of y: {mse}\")\n",
    "\n",
    "        beta_actual = fm.beta\n",
    "        beta_hat = model.coef_\n",
    "        mse_beta = mean_squared_error(beta_actual, beta_hat)\n",
    "        # print(f\"Mean Squared Error of beta: {mse_beta}\")\n",
    "\n",
    "        mse_dict[n] = (mse, mse_beta)\n",
    "    return mse_dict, len(fm.beta)"
   ]
  },
  {
   "cell_type": "code",
   "execution_count": 64,
   "metadata": {},
   "outputs": [],
   "source": [
    "\n",
    "def draw_charts(mse_dict):\n",
    "    n = list(mse_dict.keys())\n",
    "    mse, mse_beta = zip(*mse_dict.values())\n",
    "\n",
    "    fig, ax1 = plt.subplots()\n",
    "\n",
    "    # Plot the first line (mse) on the first y-axis\n",
    "    color = 'tab:red'\n",
    "    ax1.set_xlabel('n')\n",
    "    ax1.set_ylabel('mse', color=color)\n",
    "    ax1.plot(n, mse, color=color)\n",
    "    ax1.tick_params(axis='y', labelcolor=color)\n",
    "\n",
    "    # Create a second y-axis for the second line (mse_beta)\n",
    "    ax2 = ax1.twinx()\n",
    "    color = 'tab:blue'\n",
    "    ax2.set_ylabel('mse_beta', color=color)\n",
    "    ax2.plot(n, mse_beta, color=color)\n",
    "    ax2.tick_params(axis='y', labelcolor=color)\n",
    "\n",
    "    fig.tight_layout()  # For layout\n",
    "    plt.title('MSE and MSE_Beta vs n')\n",
    "    plt.show()"
   ]
  },
  {
   "cell_type": "code",
   "execution_count": 65,
   "metadata": {},
   "outputs": [],
   "source": [
    "def calc_tipping_point(sparsity, length):\n",
    "    return np.log(length) * sparsity * length"
   ]
  },
  {
   "cell_type": "code",
   "execution_count": 83,
   "metadata": {},
   "outputs": [
    {
     "name": "stdout",
     "output_type": "stream",
     "text": [
      "0.2\n",
      "0.2\n",
      "0.2\n",
      "0.2\n",
      "0.2\n",
      "0.2\n",
      "0.2\n",
      "0.2\n",
      "0.2\n"
     ]
    },
    {
     "ename": "KeyboardInterrupt",
     "evalue": "",
     "output_type": "error",
     "traceback": [
      "\u001b[0;31m---------------------------------------------------------------------------\u001b[0m",
      "\u001b[0;31mKeyboardInterrupt\u001b[0m                         Traceback (most recent call last)",
      "Cell \u001b[0;32mIn[83], line 4\u001b[0m\n\u001b[1;32m      2\u001b[0m k \u001b[39m=\u001b[39m \u001b[39m15\u001b[39m\n\u001b[1;32m      3\u001b[0m sparsity \u001b[39m=\u001b[39m \u001b[39m0.2\u001b[39m\n\u001b[0;32m----> 4\u001b[0m mse_dict, length \u001b[39m=\u001b[39m run_generation(n_max, k, sparsity)\n\u001b[1;32m      5\u001b[0m draw_charts(mse_dict)\n\u001b[1;32m      6\u001b[0m \u001b[39mprint\u001b[39m(calc_tipping_point(sparsity, length))\n",
      "Cell \u001b[0;32mIn[73], line 30\u001b[0m, in \u001b[0;36mrun_generation\u001b[0;34m(n_max, k, sparsity)\u001b[0m\n\u001b[1;32m     28\u001b[0m alpha_cv \u001b[39m=\u001b[39m [\u001b[39m0.001\u001b[39m, \u001b[39m0.01\u001b[39m, \u001b[39m0.1\u001b[39m, \u001b[39m0.5\u001b[39m]\n\u001b[1;32m     29\u001b[0m model \u001b[39m=\u001b[39m LassoCV(alphas\u001b[39m=\u001b[39malpha_cv, cv\u001b[39m=\u001b[39m\u001b[39m5\u001b[39m, random_state\u001b[39m=\u001b[39m\u001b[39m42\u001b[39m, max_iter\u001b[39m=\u001b[39m\u001b[39m10000\u001b[39m)\n\u001b[0;32m---> 30\u001b[0m model\u001b[39m.\u001b[39;49mfit(T_train, y_train)\n\u001b[1;32m     31\u001b[0m \u001b[39m# print(f'alpha={model.alpha_}\\nbetas={model.coef_}')\u001b[39;00m\n\u001b[1;32m     33\u001b[0m y_pred \u001b[39m=\u001b[39m model\u001b[39m.\u001b[39mpredict(T_test)\n",
      "File \u001b[0;32m~/miniforge3/lib/python3.10/site-packages/sklearn/linear_model/_coordinate_descent.py:1668\u001b[0m, in \u001b[0;36mLinearModelCV.fit\u001b[0;34m(self, X, y, sample_weight)\u001b[0m\n\u001b[1;32m   1648\u001b[0m \u001b[39m# We do a double for loop folded in one, in order to be able to\u001b[39;00m\n\u001b[1;32m   1649\u001b[0m \u001b[39m# iterate in parallel on l1_ratio and folds\u001b[39;00m\n\u001b[1;32m   1650\u001b[0m jobs \u001b[39m=\u001b[39m (\n\u001b[1;32m   1651\u001b[0m     delayed(_path_residuals)(\n\u001b[1;32m   1652\u001b[0m         X,\n\u001b[0;32m   (...)\u001b[0m\n\u001b[1;32m   1666\u001b[0m     \u001b[39mfor\u001b[39;00m train, test \u001b[39min\u001b[39;00m folds\n\u001b[1;32m   1667\u001b[0m )\n\u001b[0;32m-> 1668\u001b[0m mse_paths \u001b[39m=\u001b[39m Parallel(\n\u001b[1;32m   1669\u001b[0m     n_jobs\u001b[39m=\u001b[39;49m\u001b[39mself\u001b[39;49m\u001b[39m.\u001b[39;49mn_jobs,\n\u001b[1;32m   1670\u001b[0m     verbose\u001b[39m=\u001b[39;49m\u001b[39mself\u001b[39;49m\u001b[39m.\u001b[39;49mverbose,\n\u001b[1;32m   1671\u001b[0m     prefer\u001b[39m=\u001b[39;49m\u001b[39m\"\u001b[39;49m\u001b[39mthreads\u001b[39;49m\u001b[39m\"\u001b[39;49m,\n\u001b[1;32m   1672\u001b[0m )(jobs)\n\u001b[1;32m   1673\u001b[0m mse_paths \u001b[39m=\u001b[39m np\u001b[39m.\u001b[39mreshape(mse_paths, (n_l1_ratio, \u001b[39mlen\u001b[39m(folds), \u001b[39m-\u001b[39m\u001b[39m1\u001b[39m))\n\u001b[1;32m   1674\u001b[0m \u001b[39m# The mean is computed over folds.\u001b[39;00m\n",
      "File \u001b[0;32m~/miniforge3/lib/python3.10/site-packages/sklearn/utils/parallel.py:63\u001b[0m, in \u001b[0;36mParallel.__call__\u001b[0;34m(self, iterable)\u001b[0m\n\u001b[1;32m     58\u001b[0m config \u001b[39m=\u001b[39m get_config()\n\u001b[1;32m     59\u001b[0m iterable_with_config \u001b[39m=\u001b[39m (\n\u001b[1;32m     60\u001b[0m     (_with_config(delayed_func, config), args, kwargs)\n\u001b[1;32m     61\u001b[0m     \u001b[39mfor\u001b[39;00m delayed_func, args, kwargs \u001b[39min\u001b[39;00m iterable\n\u001b[1;32m     62\u001b[0m )\n\u001b[0;32m---> 63\u001b[0m \u001b[39mreturn\u001b[39;00m \u001b[39msuper\u001b[39;49m()\u001b[39m.\u001b[39;49m\u001b[39m__call__\u001b[39;49m(iterable_with_config)\n",
      "File \u001b[0;32m~/miniforge3/lib/python3.10/site-packages/joblib/parallel.py:1088\u001b[0m, in \u001b[0;36mParallel.__call__\u001b[0;34m(self, iterable)\u001b[0m\n\u001b[1;32m   1085\u001b[0m \u001b[39mif\u001b[39;00m \u001b[39mself\u001b[39m\u001b[39m.\u001b[39mdispatch_one_batch(iterator):\n\u001b[1;32m   1086\u001b[0m     \u001b[39mself\u001b[39m\u001b[39m.\u001b[39m_iterating \u001b[39m=\u001b[39m \u001b[39mself\u001b[39m\u001b[39m.\u001b[39m_original_iterator \u001b[39mis\u001b[39;00m \u001b[39mnot\u001b[39;00m \u001b[39mNone\u001b[39;00m\n\u001b[0;32m-> 1088\u001b[0m \u001b[39mwhile\u001b[39;00m \u001b[39mself\u001b[39;49m\u001b[39m.\u001b[39;49mdispatch_one_batch(iterator):\n\u001b[1;32m   1089\u001b[0m     \u001b[39mpass\u001b[39;00m\n\u001b[1;32m   1091\u001b[0m \u001b[39mif\u001b[39;00m pre_dispatch \u001b[39m==\u001b[39m \u001b[39m\"\u001b[39m\u001b[39mall\u001b[39m\u001b[39m\"\u001b[39m \u001b[39mor\u001b[39;00m n_jobs \u001b[39m==\u001b[39m \u001b[39m1\u001b[39m:\n\u001b[1;32m   1092\u001b[0m     \u001b[39m# The iterable was consumed all at once by the above for loop.\u001b[39;00m\n\u001b[1;32m   1093\u001b[0m     \u001b[39m# No need to wait for async callbacks to trigger to\u001b[39;00m\n\u001b[1;32m   1094\u001b[0m     \u001b[39m# consumption.\u001b[39;00m\n",
      "File \u001b[0;32m~/miniforge3/lib/python3.10/site-packages/joblib/parallel.py:901\u001b[0m, in \u001b[0;36mParallel.dispatch_one_batch\u001b[0;34m(self, iterator)\u001b[0m\n\u001b[1;32m    899\u001b[0m     \u001b[39mreturn\u001b[39;00m \u001b[39mFalse\u001b[39;00m\n\u001b[1;32m    900\u001b[0m \u001b[39melse\u001b[39;00m:\n\u001b[0;32m--> 901\u001b[0m     \u001b[39mself\u001b[39;49m\u001b[39m.\u001b[39;49m_dispatch(tasks)\n\u001b[1;32m    902\u001b[0m     \u001b[39mreturn\u001b[39;00m \u001b[39mTrue\u001b[39;00m\n",
      "File \u001b[0;32m~/miniforge3/lib/python3.10/site-packages/joblib/parallel.py:819\u001b[0m, in \u001b[0;36mParallel._dispatch\u001b[0;34m(self, batch)\u001b[0m\n\u001b[1;32m    817\u001b[0m \u001b[39mwith\u001b[39;00m \u001b[39mself\u001b[39m\u001b[39m.\u001b[39m_lock:\n\u001b[1;32m    818\u001b[0m     job_idx \u001b[39m=\u001b[39m \u001b[39mlen\u001b[39m(\u001b[39mself\u001b[39m\u001b[39m.\u001b[39m_jobs)\n\u001b[0;32m--> 819\u001b[0m     job \u001b[39m=\u001b[39m \u001b[39mself\u001b[39;49m\u001b[39m.\u001b[39;49m_backend\u001b[39m.\u001b[39;49mapply_async(batch, callback\u001b[39m=\u001b[39;49mcb)\n\u001b[1;32m    820\u001b[0m     \u001b[39m# A job can complete so quickly than its callback is\u001b[39;00m\n\u001b[1;32m    821\u001b[0m     \u001b[39m# called before we get here, causing self._jobs to\u001b[39;00m\n\u001b[1;32m    822\u001b[0m     \u001b[39m# grow. To ensure correct results ordering, .insert is\u001b[39;00m\n\u001b[1;32m    823\u001b[0m     \u001b[39m# used (rather than .append) in the following line\u001b[39;00m\n\u001b[1;32m    824\u001b[0m     \u001b[39mself\u001b[39m\u001b[39m.\u001b[39m_jobs\u001b[39m.\u001b[39minsert(job_idx, job)\n",
      "File \u001b[0;32m~/miniforge3/lib/python3.10/site-packages/joblib/_parallel_backends.py:208\u001b[0m, in \u001b[0;36mSequentialBackend.apply_async\u001b[0;34m(self, func, callback)\u001b[0m\n\u001b[1;32m    206\u001b[0m \u001b[39mdef\u001b[39;00m \u001b[39mapply_async\u001b[39m(\u001b[39mself\u001b[39m, func, callback\u001b[39m=\u001b[39m\u001b[39mNone\u001b[39;00m):\n\u001b[1;32m    207\u001b[0m \u001b[39m    \u001b[39m\u001b[39m\"\"\"Schedule a func to be run\"\"\"\u001b[39;00m\n\u001b[0;32m--> 208\u001b[0m     result \u001b[39m=\u001b[39m ImmediateResult(func)\n\u001b[1;32m    209\u001b[0m     \u001b[39mif\u001b[39;00m callback:\n\u001b[1;32m    210\u001b[0m         callback(result)\n",
      "File \u001b[0;32m~/miniforge3/lib/python3.10/site-packages/joblib/_parallel_backends.py:597\u001b[0m, in \u001b[0;36mImmediateResult.__init__\u001b[0;34m(self, batch)\u001b[0m\n\u001b[1;32m    594\u001b[0m \u001b[39mdef\u001b[39;00m \u001b[39m__init__\u001b[39m(\u001b[39mself\u001b[39m, batch):\n\u001b[1;32m    595\u001b[0m     \u001b[39m# Don't delay the application, to avoid keeping the input\u001b[39;00m\n\u001b[1;32m    596\u001b[0m     \u001b[39m# arguments in memory\u001b[39;00m\n\u001b[0;32m--> 597\u001b[0m     \u001b[39mself\u001b[39m\u001b[39m.\u001b[39mresults \u001b[39m=\u001b[39m batch()\n",
      "File \u001b[0;32m~/miniforge3/lib/python3.10/site-packages/joblib/parallel.py:288\u001b[0m, in \u001b[0;36mBatchedCalls.__call__\u001b[0;34m(self)\u001b[0m\n\u001b[1;32m    284\u001b[0m \u001b[39mdef\u001b[39;00m \u001b[39m__call__\u001b[39m(\u001b[39mself\u001b[39m):\n\u001b[1;32m    285\u001b[0m     \u001b[39m# Set the default nested backend to self._backend but do not set the\u001b[39;00m\n\u001b[1;32m    286\u001b[0m     \u001b[39m# change the default number of processes to -1\u001b[39;00m\n\u001b[1;32m    287\u001b[0m     \u001b[39mwith\u001b[39;00m parallel_backend(\u001b[39mself\u001b[39m\u001b[39m.\u001b[39m_backend, n_jobs\u001b[39m=\u001b[39m\u001b[39mself\u001b[39m\u001b[39m.\u001b[39m_n_jobs):\n\u001b[0;32m--> 288\u001b[0m         \u001b[39mreturn\u001b[39;00m [func(\u001b[39m*\u001b[39margs, \u001b[39m*\u001b[39m\u001b[39m*\u001b[39mkwargs)\n\u001b[1;32m    289\u001b[0m                 \u001b[39mfor\u001b[39;00m func, args, kwargs \u001b[39min\u001b[39;00m \u001b[39mself\u001b[39m\u001b[39m.\u001b[39mitems]\n",
      "File \u001b[0;32m~/miniforge3/lib/python3.10/site-packages/joblib/parallel.py:288\u001b[0m, in \u001b[0;36m<listcomp>\u001b[0;34m(.0)\u001b[0m\n\u001b[1;32m    284\u001b[0m \u001b[39mdef\u001b[39;00m \u001b[39m__call__\u001b[39m(\u001b[39mself\u001b[39m):\n\u001b[1;32m    285\u001b[0m     \u001b[39m# Set the default nested backend to self._backend but do not set the\u001b[39;00m\n\u001b[1;32m    286\u001b[0m     \u001b[39m# change the default number of processes to -1\u001b[39;00m\n\u001b[1;32m    287\u001b[0m     \u001b[39mwith\u001b[39;00m parallel_backend(\u001b[39mself\u001b[39m\u001b[39m.\u001b[39m_backend, n_jobs\u001b[39m=\u001b[39m\u001b[39mself\u001b[39m\u001b[39m.\u001b[39m_n_jobs):\n\u001b[0;32m--> 288\u001b[0m         \u001b[39mreturn\u001b[39;00m [func(\u001b[39m*\u001b[39;49margs, \u001b[39m*\u001b[39;49m\u001b[39m*\u001b[39;49mkwargs)\n\u001b[1;32m    289\u001b[0m                 \u001b[39mfor\u001b[39;00m func, args, kwargs \u001b[39min\u001b[39;00m \u001b[39mself\u001b[39m\u001b[39m.\u001b[39mitems]\n",
      "File \u001b[0;32m~/miniforge3/lib/python3.10/site-packages/sklearn/utils/parallel.py:123\u001b[0m, in \u001b[0;36m_FuncWrapper.__call__\u001b[0;34m(self, *args, **kwargs)\u001b[0m\n\u001b[1;32m    121\u001b[0m     config \u001b[39m=\u001b[39m {}\n\u001b[1;32m    122\u001b[0m \u001b[39mwith\u001b[39;00m config_context(\u001b[39m*\u001b[39m\u001b[39m*\u001b[39mconfig):\n\u001b[0;32m--> 123\u001b[0m     \u001b[39mreturn\u001b[39;00m \u001b[39mself\u001b[39;49m\u001b[39m.\u001b[39;49mfunction(\u001b[39m*\u001b[39;49margs, \u001b[39m*\u001b[39;49m\u001b[39m*\u001b[39;49mkwargs)\n",
      "File \u001b[0;32m~/miniforge3/lib/python3.10/site-packages/sklearn/linear_model/_coordinate_descent.py:1392\u001b[0m, in \u001b[0;36m_path_residuals\u001b[0;34m(X, y, sample_weight, train, test, fit_intercept, path, path_params, alphas, l1_ratio, X_order, dtype)\u001b[0m\n\u001b[1;32m   1389\u001b[0m \u001b[39m# Do the ordering and type casting here, as if it is done in the path,\u001b[39;00m\n\u001b[1;32m   1390\u001b[0m \u001b[39m# X is copied and a reference is kept here\u001b[39;00m\n\u001b[1;32m   1391\u001b[0m X_train \u001b[39m=\u001b[39m check_array(X_train, accept_sparse\u001b[39m=\u001b[39m\u001b[39m\"\u001b[39m\u001b[39mcsc\u001b[39m\u001b[39m\"\u001b[39m, dtype\u001b[39m=\u001b[39mdtype, order\u001b[39m=\u001b[39mX_order)\n\u001b[0;32m-> 1392\u001b[0m alphas, coefs, _ \u001b[39m=\u001b[39m path(X_train, y_train, \u001b[39m*\u001b[39;49m\u001b[39m*\u001b[39;49mpath_params)\n\u001b[1;32m   1393\u001b[0m \u001b[39mdel\u001b[39;00m X_train, y_train\n\u001b[1;32m   1395\u001b[0m \u001b[39mif\u001b[39;00m y\u001b[39m.\u001b[39mndim \u001b[39m==\u001b[39m \u001b[39m1\u001b[39m:\n\u001b[1;32m   1396\u001b[0m     \u001b[39m# Doing this so that it becomes coherent with multioutput.\u001b[39;00m\n",
      "File \u001b[0;32m~/miniforge3/lib/python3.10/site-packages/sklearn/linear_model/_coordinate_descent.py:332\u001b[0m, in \u001b[0;36mlasso_path\u001b[0;34m(X, y, eps, n_alphas, alphas, precompute, Xy, copy_X, coef_init, verbose, return_n_iter, positive, **params)\u001b[0m\n\u001b[1;32m    176\u001b[0m \u001b[39mdef\u001b[39;00m \u001b[39mlasso_path\u001b[39m(\n\u001b[1;32m    177\u001b[0m     X,\n\u001b[1;32m    178\u001b[0m     y,\n\u001b[0;32m   (...)\u001b[0m\n\u001b[1;32m    190\u001b[0m     \u001b[39m*\u001b[39m\u001b[39m*\u001b[39mparams,\n\u001b[1;32m    191\u001b[0m ):\n\u001b[1;32m    192\u001b[0m \u001b[39m    \u001b[39m\u001b[39m\"\"\"Compute Lasso path with coordinate descent.\u001b[39;00m\n\u001b[1;32m    193\u001b[0m \n\u001b[1;32m    194\u001b[0m \u001b[39m    The Lasso optimization function varies for mono and multi-outputs.\u001b[39;00m\n\u001b[0;32m   (...)\u001b[0m\n\u001b[1;32m    330\u001b[0m \u001b[39m     [0.2159048  0.4425765  0.23668876]]\u001b[39;00m\n\u001b[1;32m    331\u001b[0m \u001b[39m    \"\"\"\u001b[39;00m\n\u001b[0;32m--> 332\u001b[0m     \u001b[39mreturn\u001b[39;00m enet_path(\n\u001b[1;32m    333\u001b[0m         X,\n\u001b[1;32m    334\u001b[0m         y,\n\u001b[1;32m    335\u001b[0m         l1_ratio\u001b[39m=\u001b[39;49m\u001b[39m1.0\u001b[39;49m,\n\u001b[1;32m    336\u001b[0m         eps\u001b[39m=\u001b[39;49meps,\n\u001b[1;32m    337\u001b[0m         n_alphas\u001b[39m=\u001b[39;49mn_alphas,\n\u001b[1;32m    338\u001b[0m         alphas\u001b[39m=\u001b[39;49malphas,\n\u001b[1;32m    339\u001b[0m         precompute\u001b[39m=\u001b[39;49mprecompute,\n\u001b[1;32m    340\u001b[0m         Xy\u001b[39m=\u001b[39;49mXy,\n\u001b[1;32m    341\u001b[0m         copy_X\u001b[39m=\u001b[39;49mcopy_X,\n\u001b[1;32m    342\u001b[0m         coef_init\u001b[39m=\u001b[39;49mcoef_init,\n\u001b[1;32m    343\u001b[0m         verbose\u001b[39m=\u001b[39;49mverbose,\n\u001b[1;32m    344\u001b[0m         positive\u001b[39m=\u001b[39;49mpositive,\n\u001b[1;32m    345\u001b[0m         return_n_iter\u001b[39m=\u001b[39;49mreturn_n_iter,\n\u001b[1;32m    346\u001b[0m         \u001b[39m*\u001b[39;49m\u001b[39m*\u001b[39;49mparams,\n\u001b[1;32m    347\u001b[0m     )\n",
      "File \u001b[0;32m~/miniforge3/lib/python3.10/site-packages/sklearn/linear_model/_coordinate_descent.py:631\u001b[0m, in \u001b[0;36menet_path\u001b[0;34m(X, y, l1_ratio, eps, n_alphas, alphas, precompute, Xy, copy_X, coef_init, verbose, return_n_iter, positive, check_input, **params)\u001b[0m\n\u001b[1;32m    617\u001b[0m     model \u001b[39m=\u001b[39m cd_fast\u001b[39m.\u001b[39menet_coordinate_descent_gram(\n\u001b[1;32m    618\u001b[0m         coef_,\n\u001b[1;32m    619\u001b[0m         l1_reg,\n\u001b[0;32m   (...)\u001b[0m\n\u001b[1;32m    628\u001b[0m         positive,\n\u001b[1;32m    629\u001b[0m     )\n\u001b[1;32m    630\u001b[0m \u001b[39melif\u001b[39;00m precompute \u001b[39mis\u001b[39;00m \u001b[39mFalse\u001b[39;00m:\n\u001b[0;32m--> 631\u001b[0m     model \u001b[39m=\u001b[39m cd_fast\u001b[39m.\u001b[39;49menet_coordinate_descent(\n\u001b[1;32m    632\u001b[0m         coef_, l1_reg, l2_reg, X, y, max_iter, tol, rng, random, positive\n\u001b[1;32m    633\u001b[0m     )\n\u001b[1;32m    634\u001b[0m \u001b[39melse\u001b[39;00m:\n\u001b[1;32m    635\u001b[0m     \u001b[39mraise\u001b[39;00m \u001b[39mValueError\u001b[39;00m(\n\u001b[1;32m    636\u001b[0m         \u001b[39m\"\u001b[39m\u001b[39mPrecompute should be one of True, False, \u001b[39m\u001b[39m'\u001b[39m\u001b[39mauto\u001b[39m\u001b[39m'\u001b[39m\u001b[39m or array-like. Got \u001b[39m\u001b[39m%r\u001b[39;00m\u001b[39m\"\u001b[39m\n\u001b[1;32m    637\u001b[0m         \u001b[39m%\u001b[39m precompute\n\u001b[1;32m    638\u001b[0m     )\n",
      "\u001b[0;31mKeyboardInterrupt\u001b[0m: "
     ]
    }
   ],
   "source": [
    "n_max = 2000\n",
    "k = 15\n",
    "sparsity = 0.2\n",
    "mse_dict, length = run_generation(n_max, k, sparsity)\n",
    "draw_charts(mse_dict)\n",
    "print(calc_tipping_point(sparsity, length))"
   ]
  },
  {
   "cell_type": "code",
   "execution_count": 77,
   "metadata": {},
   "outputs": [
    {
     "data": {
      "image/png": "[encoded data removed]",
      "text/plain": [
       "<Figure size 640x480 with 2 Axes>"
      ]
     },
     "metadata": {},
     "output_type": "display_data"
    },
    {
     "name": "stdout",
     "output_type": "stream",
     "text": [
      "1830.5590062804167\n"
     ]
    }
   ],
   "source": [
    "n_max = 2000\n",
    "k = 15\n",
    "sparsity = 0.5\n",
    "mse_dict, length = run_generation(n_max, k, sparsity)\n",
    "draw_charts(mse_dict)\n",
    "print(calc_tipping_point(sparsity, length))"
   ]
  },
  {
   "cell_type": "code",
   "execution_count": null,
   "metadata": {},
   "outputs": [],
   "source": []
  }
 ],
 "metadata": {
  "kernelspec": {
   "display_name": "base",
   "language": "python",
   "name": "python3"
  },
  "language_info": {
   "codemirror_mode": {
    "name": "ipython",
    "version": 3
   },
   "file_extension": ".py",
   "mimetype": "text/x-python",
   "name": "python",
   "nbconvert_exporter": "python",
   "pygments_lexer": "ipython3",
   "version": "3.10.9"
  },
  "vscode": {
   "interpreter": {
    "hash": "eebfdbda06c0fad39ac275854ff2a899db249160fd4d105286e33d75d7d6841a"
   }
  }
 },
 "nbformat": 4,
 "nbformat_minor": 2
}
