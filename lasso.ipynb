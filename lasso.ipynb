{
 "cells": [
  {
   "cell_type": "markdown",
   "metadata": {},
   "source": [
    "## Lasso regression for sparse data"
   ]
  },
  {
   "cell_type": "code",
   "execution_count": null,
   "metadata": {},
   "outputs": [],
   "source": [
    "%load_ext autoreload\n",
    "%autoreload 2"
   ]
  },
  {
   "cell_type": "code",
   "execution_count": 5,
   "metadata": {},
   "outputs": [],
   "source": [
    "import numpy as np\n",
    "import pandas as pd\n",
    "import seaborn as sns\n",
    "import statsmodels.api as sm\n",
    "import class_FM_QC as FM\n",
    "from sklearn import preprocessing\n",
    "from sklearn.linear_model import Lasso, LassoCV\n",
    "from sklearn.model_selection import train_test_split\n",
    "from sklearn.cluster import KMeans\n",
    "from sklearn.metrics import mean_squared_error"
   ]
  },
  {
   "cell_type": "markdown",
   "metadata": {},
   "source": [
    "### Initialize factorial model and sample dataset for k=3"
   ]
  },
  {
   "cell_type": "code",
   "execution_count": 3,
   "metadata": {},
   "outputs": [],
   "source": [
    "n = 1000\n",
    "k = 3\n",
    "degree = 3\n",
    "sigma = 0.1\n",
    "sparsity = 0.5\n",
    "\n",
    "fm = FM.FactorialModel(\n",
    "    n=n,\n",
    "    k=k,\n",
    "    degree=degree,\n",
    "    sigma=sigma,\n",
    "    sparsity=sparsity,\n",
    "    beta_seed=42,\n",
    ")\n",
    "t, y = fm.sample(seed=0)\n"
   ]
  },
  {
   "cell_type": "markdown",
   "metadata": {},
   "source": [
    "### Fit Lasso regression with cross validation for alpha"
   ]
  },
  {
   "cell_type": "code",
   "execution_count": 9,
   "metadata": {},
   "outputs": [
    {
     "name": "stdout",
     "output_type": "stream",
     "text": [
      "alpha=0.001\n",
      "betas=[ 0.         -1.039072    0.          0.00287061 -1.94102    -0.00826316\n",
      "  0.10200795 -0.2885483 ]\n",
      "Mean Squared Error of y: 0.010162831604398266\n",
      "Mean Squared Error of beta: 0.00020149318152107298\n"
     ]
    }
   ],
   "source": [
    "pf = preprocessing.PolynomialFeatures(\n",
    "    degree=degree, interaction_only=True, include_bias=True,\n",
    ")\n",
    "T = pf.fit_transform(t)\n",
    "T_train, T_test, y_train, y_test = train_test_split(T, y, test_size=0.2, random_state=42)\n",
    "alpha_cv = [0.001, 0.01, 0.1, 0.5]\n",
    "model = LassoCV(alphas=alpha_cv, cv=5, random_state=42)\n",
    "model.fit(T_train, y_train)\n",
    "print(f'alpha={model.alpha_}\\nbetas={model.coef_}')\n",
    "\n",
    "y_pred = model.predict(T_test)\n",
    "mse = mean_squared_error(y_test, y_pred)\n",
    "print(f\"Mean Squared Error of y: {mse}\")\n",
    "\n",
    "beta_actual = fm.beta\n",
    "beta_hat = model.coef_\n",
    "mse_beta = mean_squared_error(beta_actual, beta_hat)\n",
    "print(f\"Mean Squared Error of beta: {mse_beta}\")"
   ]
  },
  {
   "cell_type": "markdown",
   "metadata": {},
   "source": [
    "### Compute expected outcomes as linear combinations of betas"
   ]
  },
  {
   "cell_type": "code",
   "execution_count": null,
   "metadata": {},
   "outputs": [
    {
     "name": "stdout",
     "output_type": "stream",
     "text": [
      "expected_outcomes=[ 0.   -1.04  0.    0.   -2.98 -1.04  0.1  -3.17]\n"
     ]
    }
   ],
   "source": [
    "betas = model.coef_\n",
    "beta_mask = pf.fit_transform(pf.powers_)\n",
    "expected_outcomes = beta_mask @ betas\n",
    "print(f'expected_outcomes={np.round(expected_outcomes,2)}')"
   ]
  },
  {
   "cell_type": "markdown",
   "metadata": {},
   "source": [
    "### Cluster treatment combinations by expected outcomes"
   ]
  },
  {
   "cell_type": "code",
   "execution_count": null,
   "metadata": {},
   "outputs": [
    {
     "name": "stdout",
     "output_type": "stream",
     "text": [
      "Max clusters: 1; cluster labels: [0 0 0 0 0 0 0 0]; score: -12.87\n",
      "Max clusters: 2; cluster labels: [1 1 1 1 0 1 1 0]; score: -1.55\n",
      "Max clusters: 3; cluster labels: [1 2 1 1 0 2 1 0]; score: -0.03\n",
      "Max clusters: 4; cluster labels: [1 2 1 1 0 2 1 3]; score: -0.01\n",
      "Max clusters: 5; cluster labels: [1 2 1 1 0 2 4 3]; score: -0.00\n",
      "Max clusters: 6; cluster labels: [1 2 1 1 0 5 4 3]; score: -0.00\n",
      "Max clusters: 7; cluster labels: [6 2 6 1 0 5 4 3]; score: -0.00\n"
     ]
    }
   ],
   "source": [
    "for i in range(1, 2**k):\n",
    "    kmeans = KMeans(n_clusters=i, random_state=0).fit(expected_outcomes.reshape(-1, 1))\n",
    "    score = kmeans.score(expected_outcomes.reshape(-1, 1))\n",
    "    print(f'Max clusters: {i}; cluster labels: {kmeans.labels_}; score: {score:.2f}')"
   ]
  },
  {
   "cell_type": "markdown",
   "metadata": {},
   "source": [
    "### Plot betas and expected outcomes"
   ]
  },
  {
   "cell_type": "code",
   "execution_count": null,
   "metadata": {},
   "outputs": [
    {
     "data": {
      "image/png": "[encoded data removed]",
      "text/plain": [
       "<Figure size 640x480 with 1 Axes>"
      ]
     },
     "metadata": {},
     "output_type": "display_data"
    }
   ],
   "source": [
    "_ = sns.barplot(\n",
    "    x=[\n",
    "        r\"0\",\n",
    "        r\"$t_1$\",\n",
    "        r\"$t_2$\",\n",
    "        r\"$t_3$\",\n",
    "        r\"$t_1 t_2$\",\n",
    "        r\"$t_1 t_3$\",\n",
    "        r\"$t_2 t_3$\",\n",
    "        r\"$t_1 t_2 t_3$\",\n",
    "    ],\n",
    "    y=betas,\n",
    "    alpha=0.5,\n",
    "    label=r\"$\\beta$\",\n",
    ")\n",
    "\n",
    "_ = sns.barplot(\n",
    "    x=[\n",
    "        r\"0\",\n",
    "        r\"$t_1$\",\n",
    "        r\"$t_2$\",\n",
    "        r\"$t_3$\",\n",
    "        r\"$t_1 t_2$\",\n",
    "        r\"$t_1 t_3$\",\n",
    "        r\"$t_2 t_3$\",\n",
    "        r\"$t_1 t_2 t_3$\",\n",
    "    ],\n",
    "    y=expected_outcomes,\n",
    "    alpha=0.5,\n",
    "    label=r\"E[Y|T]\",\n",
    ")"
   ]
  },
  {
   "cell_type": "markdown",
   "metadata": {},
   "source": [
    "### Factorial model and sample dataset for k=4"
   ]
  },
  {
   "cell_type": "code",
   "execution_count": null,
   "metadata": {},
   "outputs": [],
   "source": [
    "n = 1000\n",
    "k = 4\n",
    "degree = 4\n",
    "sigma = 0.1\n",
    "sparsity = 0.5\n",
    "\n",
    "fm = FM.FactorialModel(\n",
    "    n=n,\n",
    "    k=k,\n",
    "    degree=degree,\n",
    "    sigma=sigma,\n",
    "    sparsity=sparsity,\n",
    "    beta_seed=42,\n",
    ")\n",
    "t, y = fm.sample(seed=0)"
   ]
  },
  {
   "cell_type": "code",
   "execution_count": null,
   "metadata": {},
   "outputs": [
    {
     "name": "stdout",
     "output_type": "stream",
     "text": [
      "alpha=0.001\n",
      "betas=[ 0.         -1.035448    0.7413757   0.9281001   0.         -0.01766558\n",
      "  0.12114663 -0.30965605  0.          0.01041427  0.01005623 -0.\n",
      " -0.01030027 -0.          0.4079781  -0.8193734 ]\n"
     ]
    }
   ],
   "source": [
    "# Fit Lasso regression with cross validation for alpha\n",
    "pf = preprocessing.PolynomialFeatures(\n",
    "    degree=degree, interaction_only=True, include_bias=True,\n",
    ")\n",
    "T = pf.fit_transform(t)\n",
    "T_train, T_test, y_train, y_test = train_test_split(T, y, test_size=0.2, random_state=42)\n",
    "alpha_cv = [0.001, 0.01, 0.1, 0.5]\n",
    "model = LassoCV(alphas=alpha_cv, cv=5, random_state=42)\n",
    "model.fit(T_train, y_train)\n",
    "print(f'alpha={model.alpha_}\\nbetas={model.coef_}')\n",
    "\n",
    "y_pred = model.predict(T_test)\n",
    "mse = mean_squared_error(y_test, y_pred)\n",
    "print(f\"Mean Squared Error of y: {mse}\")\n",
    "\n",
    "beta_actual = fm.beta\n",
    "beta_hat = model.coef_\n",
    "mse_beta = mean_squared_error(beta_actual, beta_hat)\n",
    "print(f\"Mean Squared Error of beta: {mse_beta}\")"
   ]
  },
  {
   "cell_type": "code",
   "execution_count": null,
   "metadata": {},
   "outputs": [
    {
     "name": "stdout",
     "output_type": "stream",
     "text": [
      "expected_outcomes=[ 0.   -1.04  0.74  0.93  0.   -0.31  0.01 -1.35  1.67  0.75  0.94  0.74\n",
      " -0.62 -0.29  2.1   0.03]\n"
     ]
    }
   ],
   "source": [
    "# Compute expected outcomes as linear combinations of betas\n",
    "betas = model.coef_\n",
    "beta_mask = pf.fit_transform(pf.powers_)\n",
    "expected_outcomes = beta_mask @ betas\n",
    "print(f'expected_outcomes={np.round(expected_outcomes,2)}')"
   ]
  },
  {
   "cell_type": "code",
   "execution_count": null,
   "metadata": {},
   "outputs": [
    {
     "name": "stdout",
     "output_type": "stream",
     "text": [
      "(16,) (16,)\n"
     ]
    }
   ],
   "source": [
    "print(betas.shape, expected_outcomes.shape)"
   ]
  },
  {
   "cell_type": "code",
   "execution_count": null,
   "metadata": {},
   "outputs": [
    {
     "name": "stdout",
     "output_type": "stream",
     "text": [
      "Max clusters: 1; cluster labels: [0 0 0 0 0 0 0 0 0 0 0 0 0 0 0 0]; score: -12.88\n",
      "Max clusters: 2; cluster labels: [1 1 1 1 1 1 1 1 0 1 1 1 1 1 0 1]; score: -6.92\n",
      "Max clusters: 3; cluster labels: [2 2 1 1 2 2 2 2 0 1 1 1 2 2 0 2]; score: -2.17\n",
      "Max clusters: 4; cluster labels: [2 3 1 1 2 2 2 3 0 1 1 1 2 2 0 2]; score: -0.55\n",
      "Max clusters: 5; cluster labels: [2 3 1 1 2 4 2 3 0 1 1 1 4 4 0 2]; score: -0.25\n",
      "Max clusters: 6; cluster labels: [2 3 1 1 2 4 2 3 0 1 1 1 4 4 5 2]; score: -0.16\n",
      "Max clusters: 7; cluster labels: [2 3 1 1 2 4 2 3 0 1 1 1 6 4 5 2]; score: -0.09\n",
      "Max clusters: 8; cluster labels: [1 4 3 3 1 6 1 2 0 3 3 3 7 6 5 1]; score: -0.04\n",
      "Max clusters: 9; cluster labels: [1 4 3 8 1 6 1 2 0 3 8 3 7 6 5 1]; score: -0.00\n",
      "Max clusters: 10; cluster labels: [1 4 3 8 1 6 1 2 0 3 8 3 7 9 5 1]; score: -0.00\n",
      "Max clusters: 11; cluster labels: [10  4  3  8 10  6  1  2  0  3  8  3  7  9  5  1]; score: -0.00\n",
      "Max clusters: 12; cluster labels: [10  4 11  8 10  6  1  2  0  3  8 11  7  9  5  1]; score: -0.00\n",
      "Max clusters: 13; cluster labels: [10  4 11  8 10  6  1  2  0  3  8 11  7  9  5 12]; score: -0.00\n",
      "Max clusters: 14; cluster labels: [10  4 11  8 10  6  1  2  0  3 13 11  7  9  5 12]; score: -0.00\n",
      "Max clusters: 15; cluster labels: [10  4 14  8 10  6  1  2  0  3 13 11  7  9  5 12]; score: -0.00\n"
     ]
    }
   ],
   "source": [
    "# Cluster treatment combinations by expected outcomes\n",
    "for i in range(1, 2**k):\n",
    "    kmeans = KMeans(n_clusters=i, random_state=0).fit(expected_outcomes.reshape(-1, 1))\n",
    "    score = kmeans.score(expected_outcomes.reshape(-1, 1))\n",
    "    print(f'Max clusters: {i}; cluster labels: {kmeans.labels_}; score: {score:.2f}')"
   ]
  },
  {
   "cell_type": "code",
   "execution_count": null,
   "metadata": {},
   "outputs": [
    {
     "data": {
      "image/png": "[encoded data removed]",
      "text/plain": [
       "<Figure size 640x480 with 1 Axes>"
      ]
     },
     "metadata": {},
     "output_type": "display_data"
    }
   ],
   "source": [
    "# Plot betas and expected outcomes\n",
    "_ = sns.barplot(\n",
    "    x=[\n",
    "        r\"0\",\n",
    "        r\"$t_1$\",\n",
    "        r\"$t_2$\",\n",
    "        r\"$t_3$\",\n",
    "        r\"$t_4$\",\n",
    "        r\"$t_1 t_2$\",\n",
    "        r\"$t_1 t_3$\",\n",
    "        r\"$t_1 t_4$\",\n",
    "        r\"$t_2 t_3$\",\n",
    "        r\"$t_2 t_4$\",\n",
    "        r\"$t_3 t_4$\",\n",
    "        r\"$t_1 t_2 t_3$\",\n",
    "        r\"$t_1 t_2 t_4$\",\n",
    "        r\"$t_1 t_3 t_4$\",\n",
    "        r\"$t_2 t_3 t_4$\",\n",
    "        r\"$t_1 t_2 t_3 t_4$\",\n",
    "    ],\n",
    "    y=betas,\n",
    "    alpha=0.5,\n",
    "    label=r\"$\\beta$\",\n",
    ")\n",
    "\n",
    "_ = sns.barplot(\n",
    "    x=[\n",
    "        r\"0\",\n",
    "        r\"$t_1$\",\n",
    "        r\"$t_2$\",\n",
    "        r\"$t_3$\",\n",
    "        r\"$t_4$\",\n",
    "        r\"$t_1 t_2$\",\n",
    "        r\"$t_1 t_3$\",\n",
    "        r\"$t_1 t_4$\",\n",
    "        r\"$t_2 t_3$\",\n",
    "        r\"$t_2 t_4$\",\n",
    "        r\"$t_3 t_4$\",\n",
    "        r\"$t_1 t_2 t_3$\",\n",
    "        r\"$t_1 t_2 t_4$\",\n",
    "        r\"$t_1 t_3 t_4$\",\n",
    "        r\"$t_2 t_3 t_4$\",\n",
    "        r\"$t_1 t_2 t_3 t_4$\",\n",
    "    ],\n",
    "    y=expected_outcomes,\n",
    "    alpha=0.5,\n",
    "    label=r\"E[Y|T]\",\n",
    ")"
   ]
  },
  {
   "cell_type": "markdown",
   "metadata": {},
   "source": [
    "### Factorial model and sample dataset for k=5"
   ]
  },
  {
   "cell_type": "code",
   "execution_count": null,
   "metadata": {},
   "outputs": [],
   "source": [
    "n = 1000\n",
    "k = 5\n",
    "degree = 5\n",
    "sigma = 0.1\n",
    "sparsity = 0.5\n",
    "\n",
    "fm = FM.FactorialModel(\n",
    "    n=n,\n",
    "    k=k,\n",
    "    degree=degree,\n",
    "    sigma=sigma,\n",
    "    sparsity=sparsity,\n",
    "    beta_seed=42,\n",
    ")\n",
    "t, y = fm.sample(seed=0)"
   ]
  },
  {
   "cell_type": "code",
   "execution_count": null,
   "metadata": {},
   "outputs": [
    {
     "name": "stdout",
     "output_type": "stream",
     "text": [
      "alpha=0.001\n",
      "betas=[ 0.0000000e+00 -1.1775770e-02  7.4759305e-01  1.2007688e-02\n",
      "  5.1933096e-04  5.9438688e-03  0.0000000e+00 -5.9729721e-02\n",
      "  0.0000000e+00 -0.0000000e+00  2.6839564e-02  1.4461634e-02\n",
      " -0.0000000e+00  0.0000000e+00  3.7092009e-01 -8.6962891e-01\n",
      "  4.2758536e-01  0.0000000e+00  1.4639428e-01 -7.6126275e-03\n",
      " -0.0000000e+00  0.0000000e+00  1.1022424e+00 -0.0000000e+00\n",
      " -3.3549345e-01 -3.0247265e-01 -0.0000000e+00  4.0273056e-03\n",
      "  1.3373104e-01 -1.2975444e-01 -6.8424918e-02 -0.0000000e+00]\n"
     ]
    }
   ],
   "source": [
    "# Fit Lasso regression with cross validation for alpha\n",
    "pf = preprocessing.PolynomialFeatures(\n",
    "    degree=degree, interaction_only=True, include_bias=True,\n",
    ")\n",
    "T = pf.fit_transform(t)\n",
    "T_train, T_test, y_train, y_test = train_test_split(T, y, test_size=0.2, random_state=42)\n",
    "alpha_cv = [0.001, 0.01, 0.1, 0.5]\n",
    "model = LassoCV(alphas=alpha_cv, cv=5, random_state=42)\n",
    "model.fit(T_train, y_train)\n",
    "print(f'alpha={model.alpha_}\\nbetas={model.coef_}')\n",
    "\n",
    "y_pred = model.predict(T_test)\n",
    "mse = mean_squared_error(y_test, y_pred)\n",
    "print(f\"Mean Squared Error of y: {mse}\")\n",
    "\n",
    "beta_actual = fm.beta\n",
    "beta_hat = model.coef_\n",
    "mse_beta = mean_squared_error(beta_actual, beta_hat)\n",
    "print(f\"Mean Squared Error of beta: {mse_beta}\")"
   ]
  },
  {
   "cell_type": "code",
   "execution_count": null,
   "metadata": {},
   "outputs": [
    {
     "name": "stdout",
     "output_type": "stream",
     "text": [
      "expected_outcomes=[ 0.   -0.01  0.75  0.01  0.    0.01  0.74 -0.06 -0.01 -0.01  0.79  0.76\n",
      "  0.75  0.01  0.39 -0.86  1.14  0.75  0.89 -0.07  0.32 -0.87  1.9   1.16\n",
      " -0.44 -0.78  2.25  1.67 -0.17 -0.99  0.7   1.21]\n"
     ]
    }
   ],
   "source": [
    "# Compute expected outcomes as linear combinations of betas\n",
    "betas = model.coef_\n",
    "beta_mask = pf.fit_transform(pf.powers_)\n",
    "expected_outcomes = beta_mask @ betas\n",
    "print(f'expected_outcomes={np.round(expected_outcomes,2)}')"
   ]
  },
  {
   "cell_type": "code",
   "execution_count": null,
   "metadata": {},
   "outputs": [
    {
     "name": "stdout",
     "output_type": "stream",
     "text": [
      "(32,) (32,)\n"
     ]
    }
   ],
   "source": [
    "print(betas.shape, expected_outcomes.shape)"
   ]
  },
  {
   "cell_type": "code",
   "execution_count": null,
   "metadata": {},
   "outputs": [
    {
     "name": "stdout",
     "output_type": "stream",
     "text": [
      "Max clusters: 1; cluster labels: [0 0 0 0 0 0 0 0 0 0 0 0 0 0 0 0 0 0 0 0 0 0 0 0 0 0 0 0 0 0 0 0]; score: -19.45\n",
      "Max clusters: 2; cluster labels: [1 1 0 1 1 1 0 1 1 1 0 0 0 1 1 1 0 0 0 1 1 1 0 0 1 1 0 0 1 1 0 0]; score: -6.12\n",
      "Max clusters: 3; cluster labels: [1 1 0 1 1 1 0 1 1 1 0 0 0 1 0 1 0 0 0 1 0 1 2 0 1 1 2 2 1 1 0 0]; score: -3.23\n",
      "Max clusters: 4; cluster labels: [3 3 0 3 3 3 0 3 3 3 0 0 0 3 3 1 0 0 0 3 3 1 2 0 1 1 2 2 3 1 0 0]; score: -1.01\n",
      "Max clusters: 5; cluster labels: [3 3 0 3 3 3 0 3 3 3 0 0 0 3 3 4 0 0 0 3 3 4 2 0 1 4 2 2 3 4 0 0]; score: -0.85\n",
      "Max clusters: 6; cluster labels: [3 3 0 3 3 3 0 3 3 3 0 0 0 3 0 4 5 0 0 3 3 4 2 5 1 4 2 2 3 4 0 5]; score: -0.48\n",
      "Max clusters: 7; cluster labels: [3 3 0 3 3 3 0 3 3 3 0 0 0 3 6 4 5 0 0 3 6 4 2 5 1 4 2 2 3 4 0 5]; score: -0.25\n",
      "Max clusters: 8; cluster labels: [3 3 0 3 3 3 0 3 3 3 0 0 0 3 6 4 5 0 0 3 6 4 2 5 1 4 7 2 3 4 0 5]; score: -0.10\n",
      "Max clusters: 9; cluster labels: [3 3 0 3 3 3 0 3 3 3 0 0 0 3 6 4 5 0 0 3 6 4 2 5 1 4 7 8 3 4 0 5]; score: -0.08\n",
      "Max clusters: 10; cluster labels: [3 3 0 3 3 3 0 3 3 3 0 0 0 3 6 4 5 0 0 3 6 4 2 5 1 4 7 8 9 4 0 5]; score: -0.05\n",
      "Max clusters: 11; cluster labels: [ 3  3  0  3  3  3  0  3  3  3  0  0  0  3  6  4  5  0 10  3  6  4  2  5\n",
      "  1  4  7  8  9  4  0  5]; score: -0.04\n",
      "Max clusters: 12; cluster labels: [ 3  3  0  3  3  3  0  3  3  3  0  0  0  3  6  4  5  0 10  3  6  4  2  5\n",
      "  1  4  7  8  9 11  0  5]; score: -0.02\n",
      "Max clusters: 13; cluster labels: [ 3  3  0  3  3  3  0  3  3  3  0  0  0  3  6  4 12  0 10  3  6  4  2 12\n",
      "  1  4  7  8  9 11  0  5]; score: -0.02\n",
      "Max clusters: 14; cluster labels: [ 3  3  0  3  3  3  0 13  3  3  0  0  0  3  6  4 12  0 10 13  6  4  2 12\n",
      "  1  4  7  8  9 11  0  5]; score: -0.01\n",
      "Max clusters: 15; cluster labels: [ 3  3  0  3  3  3  0 13  3  3  0  0  0  3  6  4 12  0 10 13  6  4  2 12\n",
      "  1 14  7  8  9 11  0  5]; score: -0.01\n",
      "Max clusters: 16; cluster labels: [ 3  3  0  3  3  3  0 13  3  3  0  0  0  3 15  4 12  0 10 13  6  4  2 12\n",
      "  1 14  7  8  9 11  0  5]; score: -0.00\n",
      "Max clusters: 17; cluster labels: [ 3  3  0  3  3  3  0 13  3  3  0  0  0  3 15  4 12  0 10 13  6  4  2 12\n",
      "  1 14  7  8  9 11 16  5]; score: -0.00\n",
      "Max clusters: 18; cluster labels: [ 3  3  0  3  3  3  0 13  3  3 17  0  0  3 15  4 12  0 10 13  6  4  2 12\n",
      "  1 14  7  8  9 11 16  5]; score: -0.00\n",
      "Max clusters: 19; cluster labels: [ 3  3  0 18  3 18  0 13  3  3 17  0  0 18 15  4 12  0 10 13  6  4  2 12\n",
      "  1 14  7  8  9 11 16  5]; score: -0.00\n",
      "Max clusters: 20; cluster labels: [ 3  3  0 18  3 18  0 13  3  3 17  0  0 18 15  4 19  0 10 13  6  4  2 12\n",
      "  1 14  7  8  9 11 16  5]; score: -0.00\n",
      "Max clusters: 21; cluster labels: [16  3  0 20 16 16  0 13  3  3 18  0  0 20  6 11 19  0 10 13 15 11  2  5\n",
      "  1  8  7  9 12  4 14 17]; score: -0.00\n",
      "Max clusters: 22; cluster labels: [16  3  0 20 16 16 21 13  3  3 18  0  0 20  6 11 19  0 10 13 15 11  2  5\n",
      "  1  8  7  9 12  4 14 17]; score: -0.00\n",
      "Max clusters: 23; cluster labels: [16  3  0 20 16 16 21 13  3  3 18 22  0 20  6 11 19  0 10 13 15 11  2  5\n",
      "  1  8  7  9 12  4 14 17]; score: -0.00\n",
      "Max clusters: 24; cluster labels: [16  3  0 20 16 16 21 13  3  3 18 22  0 20  6 23 19  0 10 13 15 11  2  5\n",
      "  1  8  7  9 12  4 14 17]; score: -0.00\n",
      "Max clusters: 25; cluster labels: [16  3  0 20 16 16 21 13  3  3 18 22  0 20  6 23 19  0 10 24 15 11  2  5\n",
      "  1  8  7  9 12  4 14 17]; score: -0.00\n",
      "Max clusters: 26; cluster labels: [16  3  0 20 16 16 21 13  3 25 18 22  0 20  6 23 19  0 10 24 15 11  2  5\n",
      "  1  8  7  9 12  4 14 17]; score: -0.00\n",
      "Max clusters: 27; cluster labels: [16  3  0 20 16 26 21 13  3 25 18 22  0 20  6 23 19  0 10 24 15 11  2  5\n",
      "  1  8  7  9 12  4 14 17]; score: -0.00\n",
      "Max clusters: 28; cluster labels: [16  3 27 20 16 26 21 13  3 25 18 22  0 20  6 23 19  0 10 24 15 11  2  5\n",
      "  1  8  7  9 12  4 14 17]; score: -0.00\n",
      "Max clusters: 29; cluster labels: [16  3 27 20 16 26 21 13  3 25 18 22 28 20  6 23 19  0 10 24 15 11  2  5\n",
      "  1  8  7  9 12  4 14 17]; score: -0.00\n",
      "Max clusters: 30; cluster labels: [16  3 27 20 16 26 21 13 29 25 18 22 28 20  6 23 19  0 10 24 15 11  2  5\n",
      "  1  8  7  9 12  4 14 17]; score: -0.00\n",
      "Max clusters: 31; cluster labels: [30  3 27 20 16 26 21 13 29 25 18 22 28 20  6 23 19  0 10 24 15 11  2  5\n",
      "  1  8  7  9 12  4 14 17]; score: -0.00\n"
     ]
    }
   ],
   "source": [
    "# Cluster treatment combinations by expected outcomes\n",
    "for i in range(1, 2**k):\n",
    "    kmeans = KMeans(n_clusters=i, random_state=0).fit(expected_outcomes.reshape(-1, 1))\n",
    "    score = kmeans.score(expected_outcomes.reshape(-1, 1))\n",
    "    print(f'Max clusters: {i}; cluster labels: {kmeans.labels_}; score: {score:.2f}')"
   ]
  },
  {
   "cell_type": "code",
   "execution_count": null,
   "metadata": {},
   "outputs": [
    {
     "data": {
      "image/png": "[encoded data removed]",
      "text/plain": [
       "<Figure size 640x480 with 1 Axes>"
      ]
     },
     "metadata": {},
     "output_type": "display_data"
    }
   ],
   "source": [
    "# Plot betas and expected outcomes\n",
    "_ = sns.barplot(\n",
    "    x=[\n",
    "        r\"0\",\n",
    "        r\"$t_1$\",\n",
    "        r\"$t_2$\",\n",
    "        r\"$t_3$\",\n",
    "        r\"$t_4$\",\n",
    "        r\"$t_5$\",\n",
    "        r\"$t_1 t_2$\",\n",
    "        r\"$t_1 t_3$\",\n",
    "        r\"$t_1 t_4$\",\n",
    "        r\"$t_1 t_5$\",\n",
    "        r\"$t_2 t_3$\",\n",
    "        r\"$t_2 t_4$\",\n",
    "        r\"$t_2 t_5$\",\n",
    "        r\"$t_3 t_4$\",\n",
    "        r\"$t_3 t_5$\",\n",
    "        r\"$t_4 t_5$\",\n",
    "        r\"$t_1 t_2 t_3$\",\n",
    "        r\"$t_1 t_2 t_4$\",\n",
    "        r\"$t_1 t_2 t_5$\",\n",
    "        r\"$t_1 t_3 t_4$\",\n",
    "        r\"$t_1 t_3 t_5$\",\n",
    "        r\"$t_1 t_4 t_5$\",\n",
    "        r\"$t_2 t_3 t_4$\",\n",
    "        r\"$t_2 t_3 t_5$\",\n",
    "        r\"$t_2 t_4 t_5$\",\n",
    "        r\"$t_3 t_4 t_5$\",\n",
    "        r\"$t_1 t_2 t_3 t_4$\",\n",
    "        r\"$t_1 t_2 t_3 t_5$\",\n",
    "        r\"$t_1 t_2 t_4 t_5$\",\n",
    "        r\"$t_1 t_3 t_4 t_5$\",\n",
    "        r\"$t_2 t_3 t_4 t_5$\",\n",
    "        r\"$t_1 t_2 t_3 t_4 t_5$\",\n",
    "    ],\n",
    "    y=betas,\n",
    "    alpha=0.5,\n",
    "    label=r\"$\\beta$\",\n",
    ")\n",
    "\n",
    "_ = sns.barplot(\n",
    "    x=[\n",
    "        r\"0\",\n",
    "        r\"$t_1$\",\n",
    "        r\"$t_2$\",\n",
    "        r\"$t_3$\",\n",
    "        r\"$t_4$\",\n",
    "        r\"$t_5$\",\n",
    "        r\"$t_1 t_2$\",\n",
    "        r\"$t_1 t_3$\",\n",
    "        r\"$t_1 t_4$\",\n",
    "        r\"$t_1 t_5$\",\n",
    "        r\"$t_2 t_3$\",\n",
    "        r\"$t_2 t_4$\",\n",
    "        r\"$t_2 t_5$\",\n",
    "        r\"$t_3 t_4$\",\n",
    "        r\"$t_3 t_5$\",\n",
    "        r\"$t_4 t_5$\",\n",
    "        r\"$t_1 t_2 t_3$\",\n",
    "        r\"$t_1 t_2 t_4$\",\n",
    "        r\"$t_1 t_2 t_5$\",\n",
    "        r\"$t_1 t_3 t_4$\",\n",
    "        r\"$t_1 t_3 t_5$\",\n",
    "        r\"$t_1 t_4 t_5$\",\n",
    "        r\"$t_2 t_3 t_4$\",\n",
    "        r\"$t_2 t_3 t_5$\",\n",
    "        r\"$t_2 t_4 t_5$\",\n",
    "        r\"$t_3 t_4 t_5$\",\n",
    "        r\"$t_1 t_2 t_3 t_4$\",\n",
    "        r\"$t_1 t_2 t_3 t_5$\",\n",
    "        r\"$t_1 t_2 t_4 t_5$\",\n",
    "        r\"$t_1 t_3 t_4 t_5$\",\n",
    "        r\"$t_2 t_3 t_4 t_5$\",\n",
    "        r\"$t_1 t_2 t_3 t_4 t_5$\",\n",
    "    ],\n",
    "    y=expected_outcomes,\n",
    "    alpha=0.5,\n",
    "    label=r\"E[Y|T]\",\n",
    ")"
   ]
  },
  {
   "attachments": {},
   "cell_type": "markdown",
   "metadata": {},
   "source": [
    "### Generate data for m less than sp"
   ]
  },
  {
   "cell_type": "code",
   "execution_count": null,
   "metadata": {},
   "outputs": [],
   "source": [
    "#s = sparsity * 2^k\n",
    "#if k is 10: 1024 * 0.5 = 512\n",
    "for n in range(1, 10000, 20):\n",
    "    k = 10\n",
    "    degree = 3\n",
    "    sigma = 0.1\n",
    "    sparsity = 0.5\n",
    "\n",
    "    fm = FM.FactorialModel(\n",
    "        n=n,\n",
    "        k=k,\n",
    "        degree=degree,\n",
    "        sigma=sigma,\n",
    "        sparsity=sparsity,\n",
    "        beta_seed=42,\n",
    "    )\n",
    "    t, y = fm.sample(seed=0)"
   ]
  }
 ],
 "metadata": {
  "kernelspec": {
   "display_name": "base",
   "language": "python",
   "name": "python3"
  },
  "language_info": {
   "codemirror_mode": {
    "name": "ipython",
    "version": 3
   },
   "file_extension": ".py",
   "mimetype": "text/x-python",
   "name": "python",
   "nbconvert_exporter": "python",
   "pygments_lexer": "ipython3",
   "version": "3.10.9"
  },
  "vscode": {
   "interpreter": {
    "hash": "eebfdbda06c0fad39ac275854ff2a899db249160fd4d105286e33d75d7d6841a"
   }
  }
 },
 "nbformat": 4,
 "nbformat_minor": 2
}
