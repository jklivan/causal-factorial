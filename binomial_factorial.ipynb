{
 "cells": [
  {
   "cell_type": "code",
   "execution_count": 1,
   "metadata": {},
   "outputs": [],
   "source": [
    "%load_ext autoreload\n",
    "%autoreload 2\n",
    "\n",
    "import numpy as np\n",
    "import statsmodels.api as sm\n",
    "\n",
    "from sklearn import preprocessing"
   ]
  },
  {
   "cell_type": "code",
   "execution_count": 2,
   "metadata": {},
   "outputs": [],
   "source": [
    "class BinomialFactorial(object):\n",
    "    def __init__(\n",
    "        self,\n",
    "        n,\n",
    "        p_t=0.5,\n",
    "        k=1,\n",
    "        sigma=0.1,\n",
    "        order=1,\n",
    "        sparsity=0.5,\n",
    "        beta_seed=42,\n",
    "    ) -> None:\n",
    "        self.n = n\n",
    "        self.p_t = p_t\n",
    "        self.k = k\n",
    "        self.sigma = sigma\n",
    "        self.order = order\n",
    "        self.sparsity = sparsity\n",
    "        self.beta_seed = beta_seed\n",
    "        # initialize beta random number generator\n",
    "        self.rng_beta = np.random.default_rng(beta_seed)\n",
    "        # initialize interaction expansion transformation\n",
    "        self.xfm = preprocessing.PolynomialFeatures(\n",
    "            degree=self.order + 1, interaction_only=True, include_bias=True\n",
    "        )\n",
    "        _ = self.xfm.fit_transform(np.zeros((1, self.k), dtype=\"float32\"))\n",
    "        # sample ground truth betas\n",
    "        self.beta = self.rng_beta.normal(0, 1, self.xfm.n_output_features_).astype(\n",
    "            \"float32\"\n",
    "        )\n",
    "        zero_indices = self.rng_beta.choice(\n",
    "            self.xfm.n_output_features_,\n",
    "            size=int(self.xfm.n_output_features_ * self.sparsity),\n",
    "            replace=False,\n",
    "        )\n",
    "        self.beta[zero_indices] = 0.0\n",
    "\n",
    "    def sample(self, seed=None):\n",
    "        self.rng = np.random.default_rng(seed)\n",
    "        # sample treatment array\n",
    "        t = self.rng.binomial(1, self.p_t, (self.n, self.k)).astype(\"float32\")\n",
    "        # expand treatment array\n",
    "        T = self.xfm.fit_transform(t)\n",
    "        # build response surface\n",
    "        self.mu = T @ self.beta\n",
    "        # sample outcome\n",
    "        self.eps = self.rng.normal(0, self.sigma, size=self.n)\n",
    "        y = self.mu + self.eps\n",
    "        return t, y"
   ]
  },
  {
   "cell_type": "markdown",
   "metadata": {},
   "source": [
    "## Initalize Dataset"
   ]
  },
  {
   "cell_type": "code",
   "execution_count": 9,
   "metadata": {},
   "outputs": [],
   "source": [
    "n = 1000\n",
    "k = 3\n",
    "sigma = 0.1\n",
    "order = 3\n",
    "sparsity = 0.5\n",
    "\n",
    "ds = BinomialFactorial(\n",
    "    n=n,\n",
    "    k=k,\n",
    "    sigma=sigma,\n",
    "    order=order,\n",
    "    sparsity=sparsity,\n",
    "    beta_seed=42,\n",
    ")"
   ]
  },
  {
   "cell_type": "markdown",
   "metadata": {},
   "source": [
    "## Print the true beta terms \n",
    "Order is [intercept, $\\beta_{t_1}$, $\\beta_{t_2}$, $\\beta_{t_3}$, $\\beta_{t_1, t_2}$, $\\beta_{t_1, t_3}$, $\\beta_{t_2, t_3}$, $\\beta_{t_1, t_2, t_3}$]"
   ]
  },
  {
   "cell_type": "code",
   "execution_count": 10,
   "metadata": {},
   "outputs": [
    {
     "name": "stdout",
     "output_type": "stream",
     "text": [
      "[ 0.        -1.0399841  0.         0.        -1.9510351  0.\n",
      "  0.1278404 -0.3162426]\n"
     ]
    }
   ],
   "source": [
    "print(ds.beta)"
   ]
  },
  {
   "cell_type": "markdown",
   "metadata": {},
   "source": [
    "## Sample a dataset"
   ]
  },
  {
   "cell_type": "code",
   "execution_count": 17,
   "metadata": {},
   "outputs": [
    {
     "name": "stdout",
     "output_type": "stream",
     "text": [
      "(1000, 3) (1000,)\n"
     ]
    }
   ],
   "source": [
    "t, y = ds.sample(seed=0)\n",
    "print(t.shape, y.shape)"
   ]
  },
  {
   "cell_type": "markdown",
   "metadata": {},
   "source": [
    "## Fit an incorrect linear model"
   ]
  },
  {
   "cell_type": "code",
   "execution_count": 12,
   "metadata": {},
   "outputs": [
    {
     "name": "stdout",
     "output_type": "stream",
     "text": [
      "                            OLS Regression Results                            \n",
      "==============================================================================\n",
      "Dep. Variable:                      y   R-squared:                       0.812\n",
      "Model:                            OLS   Adj. R-squared:                  0.812\n",
      "Method:                 Least Squares   F-statistic:                     1437.\n",
      "Date:                Thu, 22 Feb 2024   Prob (F-statistic):               0.00\n",
      "Time:                        11:49:15   Log-Likelihood:                -783.35\n",
      "No. Observations:                1000   AIC:                             1575.\n",
      "Df Residuals:                     996   BIC:                             1594.\n",
      "Df Model:                           3                                         \n",
      "Covariance Type:            nonrobust                                         \n",
      "==============================================================================\n",
      "                 coef    std err          t      P>|t|      [0.025      0.975]\n",
      "------------------------------------------------------------------------------\n",
      "const          0.5058      0.034     14.866      0.000       0.439       0.573\n",
      "x1            -2.0670      0.034    -61.356      0.000      -2.133      -2.001\n",
      "x2            -0.9472      0.034    -28.111      0.000      -1.013      -0.881\n",
      "x3             0.0754      0.034      2.244      0.025       0.009       0.141\n",
      "==============================================================================\n",
      "Omnibus:                     4668.259   Durbin-Watson:                   2.090\n",
      "Prob(Omnibus):                  0.000   Jarque-Bera (JB):              131.381\n",
      "Skew:                          -0.195   Prob(JB):                     2.96e-29\n",
      "Kurtosis:                       1.268   Cond. No.                         3.79\n",
      "==============================================================================\n",
      "\n",
      "Notes:\n",
      "[1] Standard Errors assume that the covariance matrix of the errors is correctly specified.\n"
     ]
    }
   ],
   "source": [
    "m = sm.OLS(y, sm.add_constant(t))\n",
    "results = m.fit()\n",
    "print(results.summary())"
   ]
  },
  {
   "cell_type": "markdown",
   "metadata": {},
   "source": [
    "## Fit a well specified linear model"
   ]
  },
  {
   "cell_type": "code",
   "execution_count": 16,
   "metadata": {},
   "outputs": [
    {
     "name": "stdout",
     "output_type": "stream",
     "text": [
      "(1000, 8)\n"
     ]
    }
   ],
   "source": [
    "T = preprocessing.PolynomialFeatures(\n",
    "    degree=order + 1, interaction_only=True, include_bias=True,\n",
    ").fit_transform(t)\n",
    "print(T.shape)"
   ]
  },
  {
   "cell_type": "code",
   "execution_count": 18,
   "metadata": {},
   "outputs": [
    {
     "name": "stdout",
     "output_type": "stream",
     "text": [
      "                            OLS Regression Results                            \n",
      "==============================================================================\n",
      "Dep. Variable:                      y   R-squared:                       0.993\n",
      "Model:                            OLS   Adj. R-squared:                  0.993\n",
      "Method:                 Least Squares   F-statistic:                 2.093e+04\n",
      "Date:                Thu, 22 Feb 2024   Prob (F-statistic):               0.00\n",
      "Time:                        11:50:46   Log-Likelihood:                 881.00\n",
      "No. Observations:                1000   AIC:                            -1746.\n",
      "Df Residuals:                     992   BIC:                            -1707.\n",
      "Df Model:                           7                                         \n",
      "Covariance Type:            nonrobust                                         \n",
      "==============================================================================\n",
      "                 coef    std err          t      P>|t|      [0.025      0.975]\n",
      "------------------------------------------------------------------------------\n",
      "const          0.0085      0.009      0.964      0.335      -0.009       0.026\n",
      "x1            -1.0455      0.013    -81.708      0.000      -1.071      -1.020\n",
      "x2            -0.0041      0.012     -0.327      0.744      -0.029       0.020\n",
      "x3             0.0047      0.013      0.359      0.719      -0.021       0.030\n",
      "x4            -1.9355      0.018   -107.599      0.000      -1.971      -1.900\n",
      "x5            -0.0082      0.018     -0.456      0.649      -0.043       0.027\n",
      "x6             0.1175      0.018      6.602      0.000       0.083       0.152\n",
      "x7            -0.3124      0.026    -12.170      0.000      -0.363      -0.262\n",
      "==============================================================================\n",
      "Omnibus:                        1.542   Durbin-Watson:                   1.996\n",
      "Prob(Omnibus):                  0.463   Jarque-Bera (JB):                1.618\n",
      "Skew:                           0.086   Prob(JB):                        0.445\n",
      "Kurtosis:                       2.903   Cond. No.                         17.5\n",
      "==============================================================================\n",
      "\n",
      "Notes:\n",
      "[1] Standard Errors assume that the covariance matrix of the errors is correctly specified.\n"
     ]
    }
   ],
   "source": [
    "m = sm.OLS(y, T)\n",
    "results = m.fit()\n",
    "print(results.summary())"
   ]
  },
  {
   "cell_type": "code",
   "execution_count": 20,
   "metadata": {},
   "outputs": [
    {
     "name": "stdout",
     "output_type": "stream",
     "text": [
      "[ 0.        -1.0399841  0.         0.        -1.9510351  0.\n",
      "  0.1278404 -0.3162426]\n"
     ]
    }
   ],
   "source": [
    "print(ds.beta)"
   ]
  },
  {
   "cell_type": "markdown",
   "metadata": {},
   "source": [
    "we see that the predicted coefficients, coef, are good approximations of the true beta parameters of the model"
   ]
  },
  {
   "cell_type": "markdown",
   "metadata": {},
   "source": []
  }
 ],
 "metadata": {
  "kernelspec": {
   "display_name": "ml-field-experiments",
   "language": "python",
   "name": "python3"
  },
  "language_info": {
   "codemirror_mode": {
    "name": "ipython",
    "version": 3
   },
   "file_extension": ".py",
   "mimetype": "text/x-python",
   "name": "python",
   "nbconvert_exporter": "python",
   "pygments_lexer": "ipython3",
   "version": "3.10.12"
  }
 },
 "nbformat": 4,
 "nbformat_minor": 2
}
