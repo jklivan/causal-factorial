{
 "cells": [
  {
   "cell_type": "code",
   "execution_count": 1,
   "metadata": {},
   "outputs": [],
   "source": [
    "import rpy2\n",
    "import rpy2.robjects as robjects\n",
    "r = robjects.r\n",
    "from rpy2.robjects import pandas2ri\n",
    "from rpy2.robjects.packages import importr\n",
    "from sklearn.model_selection import train_test_split\n",
    "from sklearn.metrics import mean_squared_error\n",
    "from sklearn.linear_model import Lasso, LassoCV\n",
    "from sklearn.linear_model import LogisticRegression\n",
    "from sklearn.metrics import accuracy_score\n",
    "from sklearn.preprocessing import OneHotEncoder\n",
    "from sklearn import preprocessing\n",
    "import statsmodels.api as sm\n",
    "import pandas as pd\n",
    "from itertools import combinations"
   ]
  },
  {
   "cell_type": "code",
   "execution_count": 2,
   "metadata": {},
   "outputs": [
    {
     "ename": "FileNotFoundError",
     "evalue": "[Errno 2] No such file or directory: 'lakisha_aer.dta'",
     "output_type": "error",
     "traceback": [
      "\u001b[0;31m---------------------------------------------------------------------------\u001b[0m",
      "\u001b[0;31mFileNotFoundError\u001b[0m                         Traceback (most recent call last)",
      "Cell \u001b[0;32mIn[2], line 1\u001b[0m\n\u001b[0;32m----> 1\u001b[0m df \u001b[39m=\u001b[39m pd\u001b[39m.\u001b[39;49mread_stata(\u001b[39m'\u001b[39;49m\u001b[39mlakisha_aer.dta\u001b[39;49m\u001b[39m'\u001b[39;49m)\n\u001b[1;32m      2\u001b[0m df\u001b[39m.\u001b[39mhead()\n",
      "File \u001b[0;32m~/miniforge3/lib/python3.10/site-packages/pandas/io/stata.py:2090\u001b[0m, in \u001b[0;36mread_stata\u001b[0;34m(filepath_or_buffer, convert_dates, convert_categoricals, index_col, convert_missing, preserve_dtypes, columns, order_categoricals, chunksize, iterator, compression, storage_options)\u001b[0m\n\u001b[1;32m   2087\u001b[0m     \u001b[39mreturn\u001b[39;00m reader\n\u001b[1;32m   2089\u001b[0m \u001b[39mwith\u001b[39;00m reader:\n\u001b[0;32m-> 2090\u001b[0m     \u001b[39mreturn\u001b[39;00m reader\u001b[39m.\u001b[39;49mread()\n",
      "File \u001b[0;32m~/miniforge3/lib/python3.10/site-packages/pandas/io/stata.py:1702\u001b[0m, in \u001b[0;36mStataReader.read\u001b[0;34m(self, nrows, convert_dates, convert_categoricals, index_col, convert_missing, preserve_dtypes, columns, order_categoricals)\u001b[0m\n\u001b[1;32m   1690\u001b[0m \u001b[39m@Appender\u001b[39m(_read_method_doc)\n\u001b[1;32m   1691\u001b[0m \u001b[39mdef\u001b[39;00m \u001b[39mread\u001b[39m(\n\u001b[1;32m   1692\u001b[0m     \u001b[39mself\u001b[39m,\n\u001b[0;32m   (...)\u001b[0m\n\u001b[1;32m   1700\u001b[0m     order_categoricals: \u001b[39mbool\u001b[39m \u001b[39m|\u001b[39m \u001b[39mNone\u001b[39;00m \u001b[39m=\u001b[39m \u001b[39mNone\u001b[39;00m,\n\u001b[1;32m   1701\u001b[0m ) \u001b[39m-\u001b[39m\u001b[39m>\u001b[39m DataFrame:\n\u001b[0;32m-> 1702\u001b[0m     \u001b[39mself\u001b[39;49m\u001b[39m.\u001b[39;49m_ensure_open()\n\u001b[1;32m   1703\u001b[0m     \u001b[39m# Handle empty file or chunk.  If reading incrementally raise\u001b[39;00m\n\u001b[1;32m   1704\u001b[0m     \u001b[39m# StopIteration.  If reading the whole thing return an empty\u001b[39;00m\n\u001b[1;32m   1705\u001b[0m     \u001b[39m# data frame.\u001b[39;00m\n\u001b[1;32m   1706\u001b[0m     \u001b[39mif\u001b[39;00m (\u001b[39mself\u001b[39m\u001b[39m.\u001b[39m_nobs \u001b[39m==\u001b[39m \u001b[39m0\u001b[39m) \u001b[39mand\u001b[39;00m (nrows \u001b[39mis\u001b[39;00m \u001b[39mNone\u001b[39;00m):\n",
      "File \u001b[0;32m~/miniforge3/lib/python3.10/site-packages/pandas/io/stata.py:1176\u001b[0m, in \u001b[0;36mStataReader._ensure_open\u001b[0;34m(self)\u001b[0m\n\u001b[1;32m   1172\u001b[0m \u001b[39m\u001b[39m\u001b[39m\"\"\"\u001b[39;00m\n\u001b[1;32m   1173\u001b[0m \u001b[39mEnsure the file has been opened and its header data read.\u001b[39;00m\n\u001b[1;32m   1174\u001b[0m \u001b[39m\"\"\"\u001b[39;00m\n\u001b[1;32m   1175\u001b[0m \u001b[39mif\u001b[39;00m \u001b[39mnot\u001b[39;00m \u001b[39mhasattr\u001b[39m(\u001b[39mself\u001b[39m, \u001b[39m\"\u001b[39m\u001b[39m_path_or_buf\u001b[39m\u001b[39m\"\u001b[39m):\n\u001b[0;32m-> 1176\u001b[0m     \u001b[39mself\u001b[39;49m\u001b[39m.\u001b[39;49m_open_file()\n",
      "File \u001b[0;32m~/miniforge3/lib/python3.10/site-packages/pandas/io/stata.py:1189\u001b[0m, in \u001b[0;36mStataReader._open_file\u001b[0;34m(self)\u001b[0m\n\u001b[1;32m   1182\u001b[0m \u001b[39mif\u001b[39;00m \u001b[39mnot\u001b[39;00m \u001b[39mself\u001b[39m\u001b[39m.\u001b[39m_entered:\n\u001b[1;32m   1183\u001b[0m     warnings\u001b[39m.\u001b[39mwarn(\n\u001b[1;32m   1184\u001b[0m         \u001b[39m\"\u001b[39m\u001b[39mStataReader is being used without using a context manager. \u001b[39m\u001b[39m\"\u001b[39m\n\u001b[1;32m   1185\u001b[0m         \u001b[39m\"\u001b[39m\u001b[39mUsing StataReader as a context manager is the only supported method.\u001b[39m\u001b[39m\"\u001b[39m,\n\u001b[1;32m   1186\u001b[0m         \u001b[39mResourceWarning\u001b[39;00m,\n\u001b[1;32m   1187\u001b[0m         stacklevel\u001b[39m=\u001b[39mfind_stack_level(),\n\u001b[1;32m   1188\u001b[0m     )\n\u001b[0;32m-> 1189\u001b[0m handles \u001b[39m=\u001b[39m get_handle(\n\u001b[1;32m   1190\u001b[0m     \u001b[39mself\u001b[39;49m\u001b[39m.\u001b[39;49m_original_path_or_buf,\n\u001b[1;32m   1191\u001b[0m     \u001b[39m\"\u001b[39;49m\u001b[39mrb\u001b[39;49m\u001b[39m\"\u001b[39;49m,\n\u001b[1;32m   1192\u001b[0m     storage_options\u001b[39m=\u001b[39;49m\u001b[39mself\u001b[39;49m\u001b[39m.\u001b[39;49m_storage_options,\n\u001b[1;32m   1193\u001b[0m     is_text\u001b[39m=\u001b[39;49m\u001b[39mFalse\u001b[39;49;00m,\n\u001b[1;32m   1194\u001b[0m     compression\u001b[39m=\u001b[39;49m\u001b[39mself\u001b[39;49m\u001b[39m.\u001b[39;49m_compression,\n\u001b[1;32m   1195\u001b[0m )\n\u001b[1;32m   1196\u001b[0m \u001b[39mif\u001b[39;00m \u001b[39mhasattr\u001b[39m(handles\u001b[39m.\u001b[39mhandle, \u001b[39m\"\u001b[39m\u001b[39mseekable\u001b[39m\u001b[39m\"\u001b[39m) \u001b[39mand\u001b[39;00m handles\u001b[39m.\u001b[39mhandle\u001b[39m.\u001b[39mseekable():\n\u001b[1;32m   1197\u001b[0m     \u001b[39m# If the handle is directly seekable, use it without an extra copy.\u001b[39;00m\n\u001b[1;32m   1198\u001b[0m     \u001b[39mself\u001b[39m\u001b[39m.\u001b[39m_path_or_buf \u001b[39m=\u001b[39m handles\u001b[39m.\u001b[39mhandle\n",
      "File \u001b[0;32m~/miniforge3/lib/python3.10/site-packages/pandas/io/common.py:868\u001b[0m, in \u001b[0;36mget_handle\u001b[0;34m(path_or_buf, mode, encoding, compression, memory_map, is_text, errors, storage_options)\u001b[0m\n\u001b[1;32m    859\u001b[0m         handle \u001b[39m=\u001b[39m \u001b[39mopen\u001b[39m(\n\u001b[1;32m    860\u001b[0m             handle,\n\u001b[1;32m    861\u001b[0m             ioargs\u001b[39m.\u001b[39mmode,\n\u001b[0;32m   (...)\u001b[0m\n\u001b[1;32m    864\u001b[0m             newline\u001b[39m=\u001b[39m\u001b[39m\"\u001b[39m\u001b[39m\"\u001b[39m,\n\u001b[1;32m    865\u001b[0m         )\n\u001b[1;32m    866\u001b[0m     \u001b[39melse\u001b[39;00m:\n\u001b[1;32m    867\u001b[0m         \u001b[39m# Binary mode\u001b[39;00m\n\u001b[0;32m--> 868\u001b[0m         handle \u001b[39m=\u001b[39m \u001b[39mopen\u001b[39;49m(handle, ioargs\u001b[39m.\u001b[39;49mmode)\n\u001b[1;32m    869\u001b[0m     handles\u001b[39m.\u001b[39mappend(handle)\n\u001b[1;32m    871\u001b[0m \u001b[39m# Convert BytesIO or file objects passed with an encoding\u001b[39;00m\n",
      "\u001b[0;31mFileNotFoundError\u001b[0m: [Errno 2] No such file or directory: 'lakisha_aer.dta'"
     ]
    }
   ],
   "source": [
    "df = pd.read_stata('lakisha_aer.dta')\n",
    "df.head()"
   ]
  },
  {
   "cell_type": "code",
   "execution_count": null,
   "metadata": {},
   "outputs": [],
   "source": []
  }
 ],
 "metadata": {
  "kernelspec": {
   "display_name": "base",
   "language": "python",
   "name": "python3"
  },
  "language_info": {
   "codemirror_mode": {
    "name": "ipython",
    "version": 3
   },
   "file_extension": ".py",
   "mimetype": "text/x-python",
   "name": "python",
   "nbconvert_exporter": "python",
   "pygments_lexer": "ipython3",
   "version": "3.10.9"
  },
  "orig_nbformat": 4,
  "vscode": {
   "interpreter": {
    "hash": "eebfdbda06c0fad39ac275854ff2a899db249160fd4d105286e33d75d7d6841a"
   }
  }
 },
 "nbformat": 4,
 "nbformat_minor": 2
}
