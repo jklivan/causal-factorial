{
 "cells": [
  {
   "cell_type": "markdown",
   "metadata": {},
   "source": [
    "## CausalANOVA Implementation"
   ]
  },
  {
   "cell_type": "code",
   "execution_count": 63,
   "metadata": {},
   "outputs": [
    {
     "name": "stdout",
     "output_type": "stream",
     "text": [
      "The autoreload extension is already loaded. To reload it, use:\n",
      "  %reload_ext autoreload\n"
     ]
    }
   ],
   "source": [
    "%load_ext autoreload\n",
    "%autoreload 2"
   ]
  },
  {
   "cell_type": "code",
   "execution_count": 64,
   "metadata": {},
   "outputs": [],
   "source": [
    "import numpy as np\n",
    "import pandas as pd\n",
    "import seaborn as sns\n",
    "import statsmodels.api as sm\n",
    "import class_FM as FM\n",
    "import rpy2.robjects as ro\n",
    "\n",
    "from rpy2.robjects.packages import importr\n",
    "from rpy2.robjects import pandas2ri\n",
    "from rpy2.robjects.conversion import localconverter\n",
    "from sklearn import preprocessing"
   ]
  },
  {
   "cell_type": "code",
   "execution_count": 65,
   "metadata": {},
   "outputs": [
    {
     "name": "stderr",
     "output_type": "stream",
     "text": [
      "R[write to console]: trying URL 'https://cran.uib.no/src/contrib/FindIt_1.2.0.tar.gz'\n",
      "\n",
      "R[write to console]: Content type 'application/x-gzip'\n",
      "R[write to console]:  length 150340 bytes (146 KB)\n",
      "\n",
      "R[write to console]: =\n",
      "R[write to console]: =\n",
      "R[write to console]: =\n",
      "R[write to console]: =\n",
      "R[write to console]: =\n",
      "R[write to console]: =\n",
      "R[write to console]: =\n",
      "R[write to console]: =\n",
      "R[write to console]: =\n",
      "R[write to console]: =\n",
      "R[write to console]: =\n",
      "R[write to console]: =\n",
      "R[write to console]: =\n",
      "R[write to console]: =\n",
      "R[write to console]: =\n",
      "R[write to console]: =\n",
      "R[write to console]: =\n",
      "R[write to console]: =\n",
      "R[write to console]: =\n",
      "R[write to console]: =\n",
      "R[write to console]: =\n",
      "R[write to console]: =\n",
      "R[write to console]: =\n",
      "R[write to console]: =\n",
      "R[write to console]: =\n",
      "R[write to console]: =\n",
      "R[write to console]: =\n",
      "R[write to console]: =\n",
      "R[write to console]: =\n",
      "R[write to console]: =\n",
      "R[write to console]: =\n",
      "R[write to console]: =\n",
      "R[write to console]: =\n",
      "R[write to console]: =\n",
      "R[write to console]: =\n",
      "R[write to console]: =\n",
      "R[write to console]: =\n",
      "R[write to console]: =\n",
      "R[write to console]: =\n",
      "R[write to console]: =\n",
      "R[write to console]: =\n",
      "R[write to console]: =\n",
      "R[write to console]: =\n",
      "R[write to console]: =\n",
      "R[write to console]: =\n",
      "R[write to console]: =\n",
      "R[write to console]: =\n",
      "R[write to console]: =\n",
      "R[write to console]: =\n",
      "R[write to console]: =\n",
      "R[write to console]: \n",
      "\n",
      "R[write to console]: downloaded 146 KB\n",
      "\n",
      "\n",
      "* installing *source* package ‘FindIt’ ...\n",
      "** package ‘FindIt’ successfully unpacked and MD5 sums checked\n",
      "** using staged installation\n",
      "** R\n",
      "** data\n",
      "*** moving datasets to lazyload DB\n",
      "** byte-compile and prepare package for lazy loading\n",
      "** help\n",
      "*** installing help indices\n",
      "** building package indices\n",
      "** testing if installed package can be loaded from temporary location\n",
      "** testing if installed package can be loaded from final location\n",
      "** testing if installed package keeps a record of temporary installation path\n",
      "* DONE (FindIt)\n",
      "R[write to console]: \n",
      "\n",
      "R[write to console]: \n",
      "R[write to console]: The downloaded source packages are in\n",
      "\t‘/private/var/folders/pg/dtpn_hn11nd280g5vwz2x3_r0000gn/T/RtmpaWSNXT/downloaded_packages’\n",
      "R[write to console]: \n",
      "R[write to console]: \n",
      "\n",
      "R[write to console]: Updating HTML index of packages in '.Library'\n",
      "\n",
      "R[write to console]: Making 'packages.html' ...\n",
      "R[write to console]:  done\n",
      "\n"
     ]
    }
   ],
   "source": [
    "# Import required R packages\n",
    "utils = importr('utils')\n",
    "utils.chooseCRANmirror(ind=66)\n",
    "utils.install_packages('FindIt')\n",
    "base = importr(\"base\")\n",
    "findit = importr(\"FindIt\")"
   ]
  },
  {
   "cell_type": "markdown",
   "metadata": {},
   "source": [
    "### Initialize factorial model and sample dataset"
   ]
  },
  {
   "cell_type": "code",
   "execution_count": 66,
   "metadata": {},
   "outputs": [],
   "source": [
    "n = 1000\n",
    "k = 3\n",
    "degree = 3\n",
    "sigma = 0.1\n",
    "sparsity = 0.5\n",
    "\n",
    "fm = FM.FactorialModel(\n",
    "    n=n,\n",
    "    k=k,\n",
    "    degree=degree,\n",
    "    sigma=sigma,\n",
    "    sparsity=sparsity,\n",
    "    beta_seed=42,\n",
    ")\n",
    "t, y = fm.sample(seed=0)"
   ]
  },
  {
   "cell_type": "markdown",
   "metadata": {},
   "source": [
    "### Fit OLS model with sample data"
   ]
  },
  {
   "cell_type": "code",
   "execution_count": 67,
   "metadata": {},
   "outputs": [
    {
     "name": "stdout",
     "output_type": "stream",
     "text": [
      "                            OLS Regression Results                            \n",
      "==============================================================================\n",
      "Dep. Variable:                      y   R-squared:                       0.993\n",
      "Model:                            OLS   Adj. R-squared:                  0.993\n",
      "Method:                 Least Squares   F-statistic:                 2.093e+04\n",
      "Date:                Mon, 25 Mar 2024   Prob (F-statistic):               0.00\n",
      "Time:                        09:55:37   Log-Likelihood:                 881.00\n",
      "No. Observations:                1000   AIC:                            -1746.\n",
      "Df Residuals:                     992   BIC:                            -1707.\n",
      "Df Model:                           7                                         \n",
      "Covariance Type:            nonrobust                                         \n",
      "==============================================================================\n",
      "                 coef    std err          t      P>|t|      [0.025      0.975]\n",
      "------------------------------------------------------------------------------\n",
      "const          0.0085      0.009      0.964      0.335      -0.009       0.026\n",
      "x1            -1.0455      0.013    -81.708      0.000      -1.071      -1.020\n",
      "x2            -0.0041      0.012     -0.327      0.744      -0.029       0.020\n",
      "x3             0.0047      0.013      0.359      0.719      -0.021       0.030\n",
      "x4            -1.9355      0.018   -107.599      0.000      -1.971      -1.900\n",
      "x5            -0.0082      0.018     -0.456      0.649      -0.043       0.027\n",
      "x6             0.1175      0.018      6.602      0.000       0.083       0.152\n",
      "x7            -0.3124      0.026    -12.170      0.000      -0.363      -0.262\n",
      "==============================================================================\n",
      "Omnibus:                        1.542   Durbin-Watson:                   1.996\n",
      "Prob(Omnibus):                  0.463   Jarque-Bera (JB):                1.618\n",
      "Skew:                           0.086   Prob(JB):                        0.445\n",
      "Kurtosis:                       2.903   Cond. No.                         17.5\n",
      "==============================================================================\n",
      "\n",
      "Notes:\n",
      "[1] Standard Errors assume that the covariance matrix of the errors is correctly specified.\n"
     ]
    }
   ],
   "source": [
    "pf = preprocessing.PolynomialFeatures(\n",
    "    degree=degree, interaction_only=True, include_bias=True,\n",
    ")\n",
    "T = pf.fit_transform(t)\n",
    "m = sm.OLS(y, T)\n",
    "results = m.fit()\n",
    "print(results.summary())"
   ]
  },
  {
   "cell_type": "markdown",
   "metadata": {},
   "source": [
    "### Fit CausalANOVA model with sample data"
   ]
  },
  {
   "cell_type": "code",
   "execution_count": 68,
   "metadata": {},
   "outputs": [
    {
     "name": "stdout",
     "output_type": "stream",
     "text": [
      "\n",
      "Check: the number of levels for factors and whether they are ordered.\n",
      "   levels ordered\n",
      "t1      2   FALSE\n",
      "t2      2   FALSE\n",
      "t3      2   FALSE\n",
      "\n",
      "Analyzing all two-way and three-way interactions...\n",
      " \n",
      "Model:\n",
      " outcome ~ . * . * .\n",
      "<environment: 0x17f39d548>\n",
      "******\n",
      "Range:\n",
      "******\n",
      "         range\n",
      "t1       2.095\n",
      "t2       0.991\n",
      "t3       0.019\n",
      "t1:t2    1.046\n",
      "t1:t3    0.082\n",
      "t2:t3    0.019\n",
      "t1:t2:t3 0.078\n",
      "*******************************\n",
      "Average Marginal Effects (AME):\n",
      "*******************************\n",
      " Factor Levels base    AME Std.Err 2.5%CI 97.5%CI\n",
      "     t1    0.0      2.0954  0.0064 2.0828  2.1080\n",
      "     t1    1.0  *** 0.0000  0.0000 0.0000  0.0000\n",
      "     t2    0.0      0.9912  0.0064 0.9786  1.0037\n",
      "     t2    1.0  *** 0.0000  0.0000 0.0000  0.0000\n",
      "     t3    0.0      0.0188  0.0064 0.0062  0.0314\n",
      "     t3    1.0  *** 0.0000  0.0000 0.0000  0.0000\n",
      "\n",
      "********************************************\n",
      "Average Marginal Interaction Effects (AMIE):\n",
      "********************************************\n",
      "Two-way Interactions:\n",
      " Factor Level1 Level2 base   AMIE Std.Err 2.5%CI 97.5%CI\n",
      "  t1:t2    0.0    0.0      0.0000  0.0000 0.0000  0.0000\n",
      "  t1:t2    1.0    0.0      1.0458  0.0064 1.0333  1.0584\n",
      "  t1:t2    0.0    1.0      1.0458  0.0064 1.0333  1.0584\n",
      "  t1:t2    1.0    1.0  *** 0.0000  0.0000 0.0000  0.0000\n",
      "  t1:t3    0.0    0.0      0.0000  0.0000 0.0000  0.0000\n",
      "  t1:t3    1.0    0.0      0.0822  0.0064 0.0696  0.0948\n",
      "  t1:t3    0.0    1.0      0.0822  0.0064 0.0696  0.0948\n",
      "  t1:t3    1.0    1.0  *** 0.0000  0.0000 0.0000  0.0000\n",
      "  t2:t3    0.0    0.0      0.0000  0.0000 0.0000  0.0000\n",
      "  t2:t3    1.0    0.0      0.0193  0.0064 0.0068  0.0319\n",
      "  t2:t3    0.0    1.0      0.0193  0.0064 0.0068  0.0319\n",
      "  t2:t3    1.0    1.0  *** 0.0000  0.0000 0.0000  0.0000\n",
      "\n",
      "Three-way Interactions:\n",
      "   Factor Level1 Level2 Level3 base   AMIE Std.Err 2.5%CI 97.5%CI\n",
      " t1:t2:t3    0.0    0.0    0.0      0.0781  0.0064 0.0655  0.0907\n",
      " t1:t2:t3    1.0    0.0    0.0      0.0000  0.0000 0.0000  0.0000\n",
      " t1:t2:t3    0.0    1.0    0.0      0.0000  0.0000 0.0000  0.0000\n",
      " t1:t2:t3    1.0    1.0    0.0      0.0781  0.0064 0.0655  0.0907\n",
      " t1:t2:t3    0.0    0.0    1.0      0.0000  0.0000 0.0000  0.0000\n",
      " t1:t2:t3    1.0    0.0    1.0      0.0781  0.0064 0.0655  0.0907\n",
      " t1:t2:t3    0.0    1.0    1.0      0.0781  0.0000 0.0781  0.0781\n",
      " t1:t2:t3    1.0    1.0    1.0  *** 0.0000  0.0000 0.0000  0.0000\n",
      "$range\n",
      "         range\n",
      "t1       2.095\n",
      "t2       0.991\n",
      "t3       0.019\n",
      "t1:t2    1.046\n",
      "t1:t3    0.082\n",
      "t2:t3    0.019\n",
      "t1:t2:t3 0.078\n",
      "\n",
      "$range.name\n",
      "[1] \"t1\"       \"t2\"       \"t3\"       \"t1:t2\"    \"t1:t3\"    \"t2:t3\"    \"t1:t2:t3\"\n",
      "\n",
      "$AME\n",
      "    Factor Levels base    AME Std.Err 2.5%CI 97.5%CI\n",
      "t11     t1    0.0      2.0954  0.0064 2.0828  2.1080\n",
      "t12     t1    1.0  *** 0.0000  0.0000 0.0000  0.0000\n",
      "t21     t2    0.0      0.9912  0.0064 0.9786  1.0037\n",
      "t22     t2    1.0  *** 0.0000  0.0000 0.0000  0.0000\n",
      "t31     t3    0.0      0.0188  0.0064 0.0062  0.0314\n",
      "t32     t3    1.0  *** 0.0000  0.0000 0.0000  0.0000\n",
      "\n",
      "$AMIE2\n",
      "            Factor Level1 Level2 base   AMIE Std.Err 2.5%CI 97.5%CI\n",
      "t10.0:t20.0  t1:t2    0.0    0.0      0.0000  0.0000 0.0000  0.0000\n",
      "t11.0:t20.0  t1:t2    1.0    0.0      1.0458  0.0064 1.0333  1.0584\n",
      "t10.0:t21.0  t1:t2    0.0    1.0      1.0458  0.0064 1.0333  1.0584\n",
      "t11.0:t21.0  t1:t2    1.0    1.0  *** 0.0000  0.0000 0.0000  0.0000\n",
      "t10.0:t30.0  t1:t3    0.0    0.0      0.0000  0.0000 0.0000  0.0000\n",
      "t11.0:t30.0  t1:t3    1.0    0.0      0.0822  0.0064 0.0696  0.0948\n",
      "t10.0:t31.0  t1:t3    0.0    1.0      0.0822  0.0064 0.0696  0.0948\n",
      "t11.0:t31.0  t1:t3    1.0    1.0  *** 0.0000  0.0000 0.0000  0.0000\n",
      "t20.0:t30.0  t2:t3    0.0    0.0      0.0000  0.0000 0.0000  0.0000\n",
      "t21.0:t30.0  t2:t3    1.0    0.0      0.0193  0.0064 0.0068  0.0319\n",
      "t20.0:t31.0  t2:t3    0.0    1.0      0.0193  0.0064 0.0068  0.0319\n",
      "t21.0:t31.0  t2:t3    1.0    1.0  *** 0.0000  0.0000 0.0000  0.0000\n",
      "\n",
      "$AMIE3\n",
      "                    Factor Level1 Level2 Level3 base   AMIE Std.Err 2.5%CI\n",
      "t10.0:t20.0:t30.0 t1:t2:t3    0.0    0.0    0.0      0.0781  0.0064 0.0655\n",
      "t11.0:t20.0:t30.0 t1:t2:t3    1.0    0.0    0.0      0.0000  0.0000 0.0000\n",
      "t10.0:t21.0:t30.0 t1:t2:t3    0.0    1.0    0.0      0.0000  0.0000 0.0000\n",
      "t11.0:t21.0:t30.0 t1:t2:t3    1.0    1.0    0.0      0.0781  0.0064 0.0655\n",
      "t10.0:t20.0:t31.0 t1:t2:t3    0.0    0.0    1.0      0.0000  0.0000 0.0000\n",
      "t11.0:t20.0:t31.0 t1:t2:t3    1.0    0.0    1.0      0.0781  0.0064 0.0655\n",
      "t10.0:t21.0:t31.0 t1:t2:t3    0.0    1.0    1.0      0.0781  0.0000 0.0781\n",
      "t11.0:t21.0:t31.0 t1:t2:t3    1.0    1.0    1.0  *** 0.0000  0.0000 0.0000\n",
      "                  97.5%CI\n",
      "t10.0:t20.0:t30.0  0.0907\n",
      "t11.0:t20.0:t30.0  0.0000\n",
      "t10.0:t21.0:t30.0  0.0000\n",
      "t11.0:t21.0:t30.0  0.0907\n",
      "t10.0:t20.0:t31.0  0.0000\n",
      "t11.0:t20.0:t31.0  0.0907\n",
      "t10.0:t21.0:t31.0  0.0781\n",
      "t11.0:t21.0:t31.0  0.0000\n",
      "\n",
      "\n"
     ]
    }
   ],
   "source": [
    "# Convert NumPy arrays to pandas DataFrame\n",
    "data = pd.DataFrame(t.astype(\"str\"), columns=[\"t1\", \"t2\", \"t3\"], dtype=\"category\")\n",
    "data[\"outcome\"] = y\n",
    "\n",
    "# Convert pandas DataFrame to R data.frame\n",
    "with localconverter(ro.default_converter + pandas2ri.converter):\n",
    "    r_data = ro.conversion.py2rpy(data)\n",
    "\n",
    "ro.globalenv[\"r_data\"] = r_data\n",
    "\n",
    "fac_level = ro.IntVector([2, 2, 2])\n",
    "ro.globalenv[\"fac_level\"] = fac_level\n",
    "\n",
    "_ = ro.r(\n",
    "    \"\"\"\n",
    "fit <- CausalANOVA(formula=outcome ~ t1 + t2 + t3, family=\"gaussian\", data=r_data, nway=3)\n",
    "\"\"\"\n",
    ")\n",
    "print(ro.r(\"summary(fit)\"))"
   ]
  },
  {
   "cell_type": "code",
   "execution_count": 110,
   "metadata": {},
   "outputs": [],
   "source": [
    "# Compute intercept and coefs of CausalANOVA model\n",
    "intercept = ro.r(\"fit$intercept\")\n",
    "coefs = ro.r(\"fit$coefs\")"
   ]
  },
  {
   "cell_type": "code",
   "execution_count": 111,
   "metadata": {},
   "outputs": [
    {
     "name": "stdout",
     "output_type": "stream",
     "text": [
      "[-1.0477065  -0.4955793  -0.00938642 -0.52292408 -0.04110023 -0.00967245\n",
      " -0.03905588 -1.00948974]\n"
     ]
    }
   ],
   "source": [
    "# Create array of coefficients representing AMIEs\n",
    "num_coefs = len(coefs) + 1\n",
    "AMIEs = np.full(num_coefs, intercept[0])\n",
    "for i in range(num_coefs - 1):\n",
    "    AMIEs[i] = coefs[i][-1]\n",
    "print(AMIEs)"
   ]
  },
  {
   "cell_type": "markdown",
   "metadata": {},
   "source": [
    "### Compute expected outcomes from OLS model betas"
   ]
  },
  {
   "cell_type": "code",
   "execution_count": 118,
   "metadata": {},
   "outputs": [
    {
     "name": "stdout",
     "output_type": "stream",
     "text": [
      "[ 0.00854169 -1.03693452  0.00446431  0.01320234 -2.9764847  -1.0404512\n",
      "  0.1266586  -3.17491494]\n"
     ]
    }
   ],
   "source": [
    "# Compute expected outcomes as linear combination of betas\n",
    "betas = results.params\n",
    "beta_mask = pf.fit_transform(pf.powers_)\n",
    "expected_outcomes = beta_mask @ betas\n",
    "print(expected_outcomes)"
   ]
  },
  {
   "cell_type": "markdown",
   "metadata": {},
   "source": [
    "### Plot betas, AMIEs and expected outcomes"
   ]
  },
  {
   "cell_type": "code",
   "execution_count": 119,
   "metadata": {},
   "outputs": [
    {
     "data": {
      "image/png": "[encoded data removed]",
      "text/plain": [
       "<Figure size 640x480 with 1 Axes>"
      ]
     },
     "metadata": {},
     "output_type": "display_data"
    }
   ],
   "source": [
    "_ = sns.barplot(\n",
    "    x=[\n",
    "        r\"0\",\n",
    "        r\"$t_1$\",\n",
    "        r\"$t_2$\",\n",
    "        r\"$t_3$\",\n",
    "        r\"$t_1 t_2$\",\n",
    "        r\"$t_1 t_3$\",\n",
    "        r\"$t_2 t_3$\",\n",
    "        r\"$t_1 t_2 t_3$\",\n",
    "    ],\n",
    "    y=betas,\n",
    "    alpha=0.5,\n",
    "    label=r\"$\\beta$\",\n",
    ")\n",
    "\n",
    "_ = sns.barplot(\n",
    "    x=[\n",
    "        r\"0\",\n",
    "        r\"$t_1$\",\n",
    "        r\"$t_2$\",\n",
    "        r\"$t_3$\",\n",
    "        r\"$t_1 t_2$\",\n",
    "        r\"$t_1 t_3$\",\n",
    "        r\"$t_2 t_3$\",\n",
    "        r\"$t_1 t_2 t_3$\",\n",
    "    ],\n",
    "    y=AMIEs,\n",
    "    alpha=0.5,\n",
    "    label=r\"AMIE\",\n",
    ")\n",
    "\n",
    "_ = sns.barplot(\n",
    "    x=[\n",
    "        r\"0\",\n",
    "        r\"$t_1$\",\n",
    "        r\"$t_2$\",\n",
    "        r\"$t_3$\",\n",
    "        r\"$t_1 t_2$\",\n",
    "        r\"$t_1 t_3$\",\n",
    "        r\"$t_2 t_3$\",\n",
    "        r\"$t_1 t_2 t_3$\",\n",
    "    ],\n",
    "    y=expected_outcomes,\n",
    "    alpha=0.5,\n",
    "    label=r\"E[Y|T]\",\n",
    ")"
   ]
  },
  {
   "cell_type": "code",
   "execution_count": null,
   "metadata": {},
   "outputs": [],
   "source": []
  }
 ],
 "metadata": {
  "kernelspec": {
   "display_name": "causal-factorial",
   "language": "python",
   "name": "python3"
  },
  "language_info": {
   "codemirror_mode": {
    "name": "ipython",
    "version": 3
   },
   "file_extension": ".py",
   "mimetype": "text/x-python",
   "name": "python",
   "nbconvert_exporter": "python",
   "pygments_lexer": "ipython3",
   "version": "3.12.2"
  }
 },
 "nbformat": 4,
 "nbformat_minor": 2
}
