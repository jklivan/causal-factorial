{
 "cells": [
  {
   "cell_type": "code",
   "execution_count": 1,
   "metadata": {},
   "outputs": [],
   "source": [
    "import rpy2\n",
    "import rpy2.robjects as robjects\n",
    "r = robjects.r\n",
    "from rpy2.robjects import pandas2ri\n",
    "from rpy2.robjects.packages import importr\n",
    "from sklearn.model_selection import train_test_split\n",
    "from sklearn.metrics import mean_squared_error\n",
    "from sklearn.linear_model import Lasso, LassoCV\n",
    "from sklearn.linear_model import LogisticRegression\n",
    "from sklearn.metrics import accuracy_score\n",
    "from sklearn.preprocessing import OneHotEncoder\n",
    "from sklearn import preprocessing\n",
    "import statsmodels.api as sm\n",
    "import pandas as pd\n",
    "from itertools import combinations"
   ]
  },
  {
   "attachments": {},
   "cell_type": "markdown",
   "metadata": {},
   "source": [
    "# Download Carlson Data"
   ]
  },
  {
   "cell_type": "code",
   "execution_count": 2,
   "metadata": {},
   "outputs": [
    {
     "name": "stderr",
     "output_type": "stream",
     "text": [
      "R[write to console]: trying URL 'https://CRAN.R-project.org/bin/macosx/big-sur-arm64/contrib/4.3/FindIt_1.2.0.tgz'\n",
      "\n",
      "R[write to console]: Content type 'application/x-gzip'\n",
      "R[write to console]:  length 430138 bytes (420 KB)\n",
      "\n",
      "R[write to console]: =\n",
      "R[write to console]: =\n",
      "R[write to console]: =\n",
      "R[write to console]: =\n",
      "R[write to console]: =\n",
      "R[write to console]: =\n",
      "R[write to console]: =\n",
      "R[write to console]: =\n",
      "R[write to console]: =\n",
      "R[write to console]: =\n",
      "R[write to console]: =\n",
      "R[write to console]: =\n",
      "R[write to console]: =\n",
      "R[write to console]: =\n",
      "R[write to console]: =\n",
      "R[write to console]: =\n",
      "R[write to console]: =\n",
      "R[write to console]: =\n",
      "R[write to console]: =\n",
      "R[write to console]: =\n",
      "R[write to console]: =\n",
      "R[write to console]: =\n",
      "R[write to console]: =\n",
      "R[write to console]: =\n",
      "R[write to console]: =\n",
      "R[write to console]: =\n",
      "R[write to console]: =\n",
      "R[write to console]: =\n",
      "R[write to console]: =\n",
      "R[write to console]: =\n",
      "R[write to console]: =\n",
      "R[write to console]: =\n",
      "R[write to console]: =\n",
      "R[write to console]: =\n",
      "R[write to console]: =\n",
      "R[write to console]: =\n",
      "R[write to console]: =\n",
      "R[write to console]: =\n",
      "R[write to console]: =\n",
      "R[write to console]: =\n",
      "R[write to console]: =\n",
      "R[write to console]: =\n",
      "R[write to console]: =\n",
      "R[write to console]: =\n",
      "R[write to console]: =\n",
      "R[write to console]: =\n",
      "R[write to console]: =\n",
      "R[write to console]: =\n",
      "R[write to console]: =\n",
      "R[write to console]: =\n",
      "R[write to console]: \n",
      "\n",
      "R[write to console]: downloaded 420 KB\n",
      "\n",
      "\n"
     ]
    },
    {
     "name": "stdout",
     "output_type": "stream",
     "text": [
      "\n",
      "The downloaded binary packages are in\n",
      "\t/var/folders/x2/9ng2kgzn3_163q6jl10rdmkr0000gn/T//RtmpwUf5No/downloaded_packages\n",
      "      won  newRecordF  promise  coeth_voting  relevantdegree  respcodeS   \n",
      "1       1           6        1             2               1          1  \\\n",
      "2       0           7        3             1               2          1   \n",
      "3       1           7        3             1               2          1   \n",
      "4       0           3        2             1               2          1   \n",
      "5       0           7        1             1               1          1   \n",
      "...   ...         ...      ...           ...             ...        ...   \n",
      "3228    1           4        1             1               2        544   \n",
      "3229    1           5        1             2               2        544   \n",
      "3230    0           2        2             1               1        544   \n",
      "3231    0           7        1             2               2        544   \n",
      "3232    1           3        1             1               1        544   \n",
      "\n",
      "       contestresp  \n",
      "1     1.014310e+09  \n",
      "2     1.014310e+09  \n",
      "3     1.014210e+09  \n",
      "4     1.014210e+09  \n",
      "5     1.014110e+09  \n",
      "...            ...  \n",
      "3228  3.302633e+11  \n",
      "3229  3.302623e+11  \n",
      "3230  3.302623e+11  \n",
      "3231  3.302613e+11  \n",
      "3232  3.302613e+11  \n",
      "\n",
      "[3232 rows x 7 columns]\n",
      "\n",
      "Check: the number of levels for factors and whether they are ordered.\n",
      "           levels ordered\n",
      "newRecordF      7    TRUE\n",
      "promise         3    TRUE\n",
      "\n",
      "Specified Two-way Interactions.\n",
      "       Fac.1   Fac.2\n",
      "1 newRecordF promise\n"
     ]
    }
   ],
   "source": [
    "base = importr('base')\n",
    "utils = importr('utils')\n",
    "r('install.packages(\"FindIt\", repos=\"https://CRAN.R-project.org/\")')\n",
    "findit = importr('FindIt')\n",
    "'''using data from example in FindIt'''\n",
    "robjects.r('data(\"Carlson\", package = \"FindIt\")')\n",
    "carlson = robjects.r['Carlson']\n",
    "carlson_df = pandas2ri.rpy2py(carlson)\n",
    "print(carlson_df)\n",
    "\n",
    "'''trying a couple variables to use the 2 way amie'''\n",
    "new_Record = robjects.r('''\n",
    "Carlson$newRecordF<- factor(Carlson$newRecordF,ordered=TRUE,\n",
    "levels=c(\"YesLC\", \"YesDis\",\"YesMP\",\n",
    "\"noLC\",\"noDis\",\"noMP\",\"noBusi\"))''')\n",
    "promise = robjects.r('''\n",
    "Carlson$promise <- factor(Carlson$promise,ordered=TRUE,levels=c(\"jobs\",\"clinic\",\"education\"))\n",
    "''')\n",
    "model = robjects.r('''\n",
    "\n",
    "fit2 <- CausalANOVA(formula=won ~ newRecordF + promise,\n",
    "int2.formula = ~ newRecordF:promise,\n",
    "data=Carlson, pair.id=Carlson$contestresp,diff=TRUE,\n",
    "cluster=Carlson$respcodeS, nway=2)\n",
    "''')"
   ]
  },
  {
   "cell_type": "markdown",
   "metadata": {},
   "source": []
  },
  {
   "cell_type": "code",
   "execution_count": 3,
   "metadata": {},
   "outputs": [
    {
     "name": "stdout",
     "output_type": "stream",
     "text": [
      "[[-1. -1. -1. ...  1.  1. -1.]\n",
      " [-1. -1. -1. ... -1. -1.  1.]\n",
      " [-1. -1. -1. ... -1. -1.  1.]\n",
      " ...\n",
      " [-1.  1. -1. ... -1.  1. -1.]\n",
      " [-1. -1. -1. ...  1. -1.  1.]\n",
      " [-1. -1.  1. ... -1.  1. -1.]]\n"
     ]
    }
   ],
   "source": [
    "#One Hot Encode\n",
    "enc = OneHotEncoder(handle_unknown='ignore')\n",
    "X = carlson_df.iloc[:,1:-2]\n",
    "y = carlson_df.iloc[:,0].to_numpy() *2 - 1\n",
    "trans_x = enc.fit_transform(X).toarray() *2 - 1\n",
    "\n",
    "#0-6 are record, \n",
    "print(trans_x)"
   ]
  },
  {
   "cell_type": "code",
   "execution_count": null,
   "metadata": {},
   "outputs": [],
   "source": []
  }
 ],
 "metadata": {
  "kernelspec": {
   "display_name": "base",
   "language": "python",
   "name": "python3"
  },
  "language_info": {
   "codemirror_mode": {
    "name": "ipython",
    "version": 3
   },
   "file_extension": ".py",
   "mimetype": "text/x-python",
   "name": "python",
   "nbconvert_exporter": "python",
   "pygments_lexer": "ipython3",
   "version": "3.10.9"
  },
  "orig_nbformat": 4,
  "vscode": {
   "interpreter": {
    "hash": "eebfdbda06c0fad39ac275854ff2a899db249160fd4d105286e33d75d7d6841a"
   }
  }
 },
 "nbformat": 4,
 "nbformat_minor": 2
}
