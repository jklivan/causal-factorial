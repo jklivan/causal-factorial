{
 "cells": [
  {
   "cell_type": "markdown",
   "metadata": {},
   "source": [
    "## Lasso regression for sparse data"
   ]
  },
  {
   "cell_type": "code",
   "execution_count": 236,
   "metadata": {},
   "outputs": [
    {
     "name": "stdout",
     "output_type": "stream",
     "text": [
      "The autoreload extension is already loaded. To reload it, use:\n",
      "  %reload_ext autoreload\n"
     ]
    }
   ],
   "source": [
    "%load_ext autoreload\n",
    "%autoreload 2"
   ]
  },
  {
   "cell_type": "code",
   "execution_count": 336,
   "metadata": {},
   "outputs": [],
   "source": [
    "import numpy as np\n",
    "import pandas as pd\n",
    "import seaborn as sns\n",
    "import statsmodels.api as sm\n",
    "import class_FM as FM\n",
    "from sklearn import preprocessing\n",
    "from sklearn.linear_model import Lasso, LassoCV\n",
    "from sklearn.model_selection import train_test_split\n",
    "from sklearn.cluster import KMeans\n",
    "from sklearn.metrics import mean_squared_error\n",
    "import matplotlib.pyplot as plt\n",
    "import math\n",
    "from itertools import combinations"
   ]
  },
  {
   "cell_type": "markdown",
   "metadata": {},
   "source": [
    "### Initialize factorial model and sample dataset for k=3"
   ]
  },
  {
   "cell_type": "code",
   "execution_count": 239,
   "metadata": {},
   "outputs": [],
   "source": [
    "n = 1000\n",
    "k = 3\n",
    "degree = 3\n",
    "sigma = 0.1\n",
    "sparsity = 0.5\n",
    "\n",
    "fm = FM.FactorialModel(\n",
    "    n=n,\n",
    "    k=k,\n",
    "    degree=degree,\n",
    "    sigma=sigma,\n",
    "    sparsity=sparsity,\n",
    "    beta_seed=42,\n",
    ")\n",
    "t, y = fm.sample(seed=0)\n"
   ]
  },
  {
   "cell_type": "markdown",
   "metadata": {},
   "source": [
    "### Fit Lasso regression with cross validation for alpha"
   ]
  },
  {
   "cell_type": "code",
   "execution_count": 240,
   "metadata": {},
   "outputs": [
    {
     "name": "stdout",
     "output_type": "stream",
     "text": [
      "alpha=0.001\n",
      "betas=[ 0.         -0.4637748   0.          0.00316042 -0.86222917 -0.00868506\n",
      "  0.03107935 -0.11330512]\n",
      "Mean Squared Error of y: 0.010163565628389128\n",
      "Mean Squared Error of beta: 0.00020646901975851506\n"
     ]
    }
   ],
   "source": [
    "pf = preprocessing.PolynomialFeatures(\n",
    "    degree=degree, interaction_only=True, include_bias=True,\n",
    ")\n",
    "T = pf.fit_transform(t)\n",
    "T_train, T_test, y_train, y_test = train_test_split(T, y, test_size=0.2, random_state=42)\n",
    "alpha_cv = [0.001, 0.01, 0.1, 0.5]\n",
    "model = LassoCV(alphas=alpha_cv, cv=5, random_state=42)\n",
    "model.fit(T_train, y_train)\n",
    "print(f'alpha={model.alpha_}\\nbetas={model.coef_}')\n",
    "\n",
    "y_pred = model.predict(T_test)\n",
    "mse = mean_squared_error(y_test, y_pred)\n",
    "print(f\"Mean Squared Error of y: {mse}\")\n",
    "\n",
    "beta_actual = fm.beta\n",
    "beta_hat = model.coef_\n",
    "mse_beta = mean_squared_error(beta_actual, beta_hat)\n",
    "print(f\"Mean Squared Error of beta: {mse_beta}\")"
   ]
  },
  {
   "cell_type": "markdown",
   "metadata": {},
   "source": [
    "### Compute expected outcomes as linear combinations of betas"
   ]
  },
  {
   "cell_type": "code",
   "execution_count": 241,
   "metadata": {},
   "outputs": [
    {
     "name": "stdout",
     "output_type": "stream",
     "text": [
      "expected_outcomes=[ 0.   -0.46  0.    0.   -1.33 -0.47  0.03 -1.41]\n"
     ]
    }
   ],
   "source": [
    "betas = model.coef_\n",
    "beta_mask = pf.fit_transform(pf.powers_)\n",
    "expected_outcomes = beta_mask @ betas\n",
    "print(f'expected_outcomes={np.round(expected_outcomes,2)}')"
   ]
  },
  {
   "cell_type": "markdown",
   "metadata": {},
   "source": [
    "### Cluster treatment combinations by expected outcomes"
   ]
  },
  {
   "cell_type": "code",
   "execution_count": 242,
   "metadata": {},
   "outputs": [
    {
     "name": "stdout",
     "output_type": "stream",
     "text": [
      "Max clusters: 1; cluster labels: [0 0 0 0 0 0 0 0]; score: -2.54\n",
      "Max clusters: 2; cluster labels: [1 1 1 1 0 1 1 0]; score: -0.31\n",
      "Max clusters: 3; cluster labels: [1 2 1 1 0 2 1 0]; score: -0.00\n",
      "Max clusters: 4; cluster labels: [1 2 1 1 0 2 1 3]; score: -0.00\n",
      "Max clusters: 5; cluster labels: [1 2 1 1 0 2 4 3]; score: -0.00\n",
      "Max clusters: 6; cluster labels: [1 5 1 1 0 2 4 3]; score: -0.00\n",
      "Max clusters: 7; cluster labels: [6 5 6 1 0 2 4 3]; score: -0.00\n"
     ]
    }
   ],
   "source": [
    "for i in range(1, 2**k):\n",
    "    kmeans = KMeans(n_clusters=i, random_state=0).fit(expected_outcomes.reshape(-1, 1))\n",
    "    score = kmeans.score(expected_outcomes.reshape(-1, 1))\n",
    "    print(f'Max clusters: {i}; cluster labels: {kmeans.labels_}; score: {score:.2f}')"
   ]
  },
  {
   "cell_type": "markdown",
   "metadata": {},
   "source": [
    "### Plot betas and expected outcomes"
   ]
  },
  {
   "cell_type": "code",
   "execution_count": 243,
   "metadata": {},
   "outputs": [
    {
     "data": {
      "image/png": "[encoded data removed]",
      "text/plain": [
       "<Figure size 640x480 with 1 Axes>"
      ]
     },
     "metadata": {},
     "output_type": "display_data"
    }
   ],
   "source": [
    "_ = sns.barplot(\n",
    "    x=[\n",
    "        r\"0\",\n",
    "        r\"$t_1$\",\n",
    "        r\"$t_2$\",\n",
    "        r\"$t_3$\",\n",
    "        r\"$t_1 t_2$\",\n",
    "        r\"$t_1 t_3$\",\n",
    "        r\"$t_2 t_3$\",\n",
    "        r\"$t_1 t_2 t_3$\",\n",
    "    ],\n",
    "    y=betas,\n",
    "    alpha=0.5,\n",
    "    label=r\"$\\beta$\",\n",
    ")\n",
    "\n",
    "_ = sns.barplot(\n",
    "    x=[\n",
    "        r\"0\",\n",
    "        r\"$t_1$\",\n",
    "        r\"$t_2$\",\n",
    "        r\"$t_3$\",\n",
    "        r\"$t_1 t_2$\",\n",
    "        r\"$t_1 t_3$\",\n",
    "        r\"$t_2 t_3$\",\n",
    "        r\"$t_1 t_2 t_3$\",\n",
    "    ],\n",
    "    y=expected_outcomes,\n",
    "    alpha=0.5,\n",
    "    label=r\"E[Y|T]\",\n",
    ")"
   ]
  },
  {
   "cell_type": "markdown",
   "metadata": {},
   "source": [
    "### Factorial model and sample dataset for k=4"
   ]
  },
  {
   "cell_type": "code",
   "execution_count": 244,
   "metadata": {},
   "outputs": [],
   "source": [
    "n = 1000\n",
    "k = 4\n",
    "degree = 4\n",
    "sigma = 0.1\n",
    "sparsity = 0.5\n",
    "\n",
    "fm = FM.FactorialModel(\n",
    "    n=n,\n",
    "    k=k,\n",
    "    degree=degree,\n",
    "    sigma=sigma,\n",
    "    sparsity=sparsity,\n",
    "    beta_seed=42,\n",
    ")\n",
    "t, y = fm.sample(seed=0)"
   ]
  },
  {
   "cell_type": "code",
   "execution_count": 245,
   "metadata": {},
   "outputs": [
    {
     "name": "stdout",
     "output_type": "stream",
     "text": [
      "alpha=0.001\n",
      "betas=[ 0.         -0.543451    0.3862214   0.4831172   0.         -0.01750211\n",
      "  0.06066966 -0.15994355  0.00780474  0.01052252  0.01000153 -0.\n",
      " -0.01050108 -0.          0.18682475 -0.41272694]\n",
      "Mean Squared Error of y: 0.009933492641711969\n",
      "Mean Squared Error of beta: 0.0003990872937720269\n"
     ]
    }
   ],
   "source": [
    "# Fit Lasso regression with cross validation for alpha\n",
    "pf = preprocessing.PolynomialFeatures(\n",
    "    degree=degree, interaction_only=True, include_bias=True,\n",
    ")\n",
    "T = pf.fit_transform(t)\n",
    "T_train, T_test, y_train, y_test = train_test_split(T, y, test_size=0.2, random_state=42)\n",
    "alpha_cv = [0.001, 0.01, 0.1, 0.5]\n",
    "model = LassoCV(alphas=alpha_cv, cv=5, random_state=42)\n",
    "model.fit(T_train, y_train)\n",
    "print(f'alpha={model.alpha_}\\nbetas={model.coef_}')\n",
    "\n",
    "y_pred = model.predict(T_test)\n",
    "mse = mean_squared_error(y_test, y_pred)\n",
    "print(f\"Mean Squared Error of y: {mse}\")\n",
    "\n",
    "beta_actual = fm.beta\n",
    "beta_hat = model.coef_\n",
    "mse_beta = mean_squared_error(beta_actual, beta_hat)\n",
    "print(f\"Mean Squared Error of beta: {mse_beta}\")"
   ]
  },
  {
   "cell_type": "code",
   "execution_count": 246,
   "metadata": {},
   "outputs": [
    {
     "name": "stdout",
     "output_type": "stream",
     "text": [
      "expected_outcomes=[ 0.   -0.54  0.39  0.48  0.   -0.17  0.   -0.7   0.88  0.4   0.49  0.38\n",
      " -0.33 -0.15  1.08  0.  ]\n"
     ]
    }
   ],
   "source": [
    "# Compute expected outcomes as linear combinations of betas\n",
    "betas = model.coef_\n",
    "beta_mask = pf.fit_transform(pf.powers_)\n",
    "expected_outcomes = beta_mask @ betas\n",
    "print(f'expected_outcomes={np.round(expected_outcomes,2)}')"
   ]
  },
  {
   "cell_type": "code",
   "execution_count": 247,
   "metadata": {},
   "outputs": [
    {
     "name": "stdout",
     "output_type": "stream",
     "text": [
      "(16,) (16,)\n"
     ]
    }
   ],
   "source": [
    "print(betas.shape, expected_outcomes.shape)"
   ]
  },
  {
   "cell_type": "code",
   "execution_count": 248,
   "metadata": {},
   "outputs": [
    {
     "name": "stdout",
     "output_type": "stream",
     "text": [
      "Max clusters: 1; cluster labels: [0 0 0 0 0 0 0 0 0 0 0 0 0 0 0 0]; score: -3.53\n",
      "Max clusters: 2; cluster labels: [0 0 1 1 0 0 0 0 1 1 1 1 0 0 1 0]; score: -1.02\n",
      "Max clusters: 3; cluster labels: [2 0 1 1 2 2 2 0 1 1 1 1 0 2 1 2]; score: -0.58\n",
      "Max clusters: 4; cluster labels: [3 0 1 1 3 3 3 0 2 1 1 1 0 3 2 3]; score: -0.14\n",
      "Max clusters: 5; cluster labels: [3 4 1 1 3 0 3 4 2 1 1 1 0 0 2 3]; score: -0.07\n",
      "Max clusters: 6; cluster labels: [0 3 2 2 0 4 0 3 5 2 2 2 4 4 1 0]; score: -0.05\n",
      "Max clusters: 7; cluster labels: [3 4 1 1 3 5 3 4 6 1 1 1 0 5 2 3]; score: -0.03\n",
      "Max clusters: 8; cluster labels: [4 6 2 2 4 1 4 3 0 2 2 2 7 1 5 4]; score: -0.01\n",
      "Max clusters: 9; cluster labels: [2 8 7 1 2 5 2 4 3 7 1 7 0 5 6 2]; score: -0.00\n",
      "Max clusters: 10; cluster labels: [2 8 7 1 2 5 2 4 3 7 1 7 0 9 6 2]; score: -0.00\n",
      "Max clusters: 11; cluster labels: [ 2  8  7  1  2  5  2  4  3 10  1  7  0  9  6  2]; score: -0.00\n",
      "Max clusters: 12; cluster labels: [ 2  8  7 11  2  5  2  4  3 10  1  7  0  9  6  2]; score: -0.00\n",
      "Max clusters: 13; cluster labels: [ 2  8  7 11  2  5  2  4  3 10  1 12  0  9  6  2]; score: -0.00\n",
      "Max clusters: 14; cluster labels: [ 2  8  7 11  2  5  2  4  3 10  1 12  0  9  6 13]; score: -0.00\n",
      "Max clusters: 15; cluster labels: [ 2  8  7 11  2  5 14  4  3 10  1 12  0  9  6 13]; score: -0.00\n"
     ]
    }
   ],
   "source": [
    "# Cluster treatment combinations by expected outcomes\n",
    "for i in range(1, 2**k):\n",
    "    kmeans = KMeans(n_clusters=i, random_state=0).fit(expected_outcomes.reshape(-1, 1))\n",
    "    score = kmeans.score(expected_outcomes.reshape(-1, 1))\n",
    "    print(f'Max clusters: {i}; cluster labels: {kmeans.labels_}; score: {score:.2f}')"
   ]
  },
  {
   "cell_type": "code",
   "execution_count": 249,
   "metadata": {},
   "outputs": [
    {
     "data": {
      "image/png": "[encoded data removed]",
      "text/plain": [
       "<Figure size 640x480 with 1 Axes>"
      ]
     },
     "metadata": {},
     "output_type": "display_data"
    }
   ],
   "source": [
    "# Plot betas and expected outcomes\n",
    "_ = sns.barplot(\n",
    "    x=[\n",
    "        r\"0\",\n",
    "        r\"$t_1$\",\n",
    "        r\"$t_2$\",\n",
    "        r\"$t_3$\",\n",
    "        r\"$t_4$\",\n",
    "        r\"$t_1 t_2$\",\n",
    "        r\"$t_1 t_3$\",\n",
    "        r\"$t_1 t_4$\",\n",
    "        r\"$t_2 t_3$\",\n",
    "        r\"$t_2 t_4$\",\n",
    "        r\"$t_3 t_4$\",\n",
    "        r\"$t_1 t_2 t_3$\",\n",
    "        r\"$t_1 t_2 t_4$\",\n",
    "        r\"$t_1 t_3 t_4$\",\n",
    "        r\"$t_2 t_3 t_4$\",\n",
    "        r\"$t_1 t_2 t_3 t_4$\",\n",
    "    ],\n",
    "    y=betas,\n",
    "    alpha=0.5,\n",
    "    label=r\"$\\beta$\",\n",
    ")\n",
    "\n",
    "_ = sns.barplot(\n",
    "    x=[\n",
    "        r\"0\",\n",
    "        r\"$t_1$\",\n",
    "        r\"$t_2$\",\n",
    "        r\"$t_3$\",\n",
    "        r\"$t_4$\",\n",
    "        r\"$t_1 t_2$\",\n",
    "        r\"$t_1 t_3$\",\n",
    "        r\"$t_1 t_4$\",\n",
    "        r\"$t_2 t_3$\",\n",
    "        r\"$t_2 t_4$\",\n",
    "        r\"$t_3 t_4$\",\n",
    "        r\"$t_1 t_2 t_3$\",\n",
    "        r\"$t_1 t_2 t_4$\",\n",
    "        r\"$t_1 t_3 t_4$\",\n",
    "        r\"$t_2 t_3 t_4$\",\n",
    "        r\"$t_1 t_2 t_3 t_4$\",\n",
    "    ],\n",
    "    y=expected_outcomes,\n",
    "    alpha=0.5,\n",
    "    label=r\"E[Y|T]\",\n",
    ")"
   ]
  },
  {
   "cell_type": "markdown",
   "metadata": {},
   "source": [
    "### Factorial model and sample dataset for k=5"
   ]
  },
  {
   "cell_type": "code",
   "execution_count": 250,
   "metadata": {},
   "outputs": [],
   "source": [
    "n = 1000\n",
    "k = 5\n",
    "degree = 5\n",
    "sigma = 0.1\n",
    "sparsity = 0.5\n",
    "\n",
    "fm = FM.FactorialModel(\n",
    "    n=n,\n",
    "    k=k,\n",
    "    degree=degree,\n",
    "    sigma=sigma,\n",
    "    sparsity=sparsity,\n",
    "    beta_seed=42,\n",
    ")\n",
    "t, y = fm.sample(seed=0)"
   ]
  },
  {
   "cell_type": "code",
   "execution_count": 251,
   "metadata": {},
   "outputs": [
    {
     "name": "stdout",
     "output_type": "stream",
     "text": [
      "alpha=0.001\n",
      "betas=[ 0.         -0.00615014  0.36288005  0.          0.00563909  0.00419086\n",
      "  0.00781563 -0.0254381   0.          0.          0.03989441  0.0122317\n",
      " -0.          0.          0.17361246 -0.43732393  0.19791085  0.\n",
      "  0.08772841 -0.         -0.          0.          0.5031516  -0.\n",
      " -0.1523685  -0.15900049 -0.          0.          0.         -0.02823868\n",
      " -0.         -0.        ]\n",
      "Mean Squared Error of y: 0.010939823856963767\n",
      "Mean Squared Error of beta: 0.005701355170458555\n"
     ]
    }
   ],
   "source": [
    "# Fit Lasso regression with cross validation for alpha\n",
    "pf = preprocessing.PolynomialFeatures(\n",
    "    degree=degree, interaction_only=True, include_bias=True,\n",
    ")\n",
    "T = pf.fit_transform(t)\n",
    "T_train, T_test, y_train, y_test = train_test_split(T, y, test_size=0.2, random_state=42)\n",
    "alpha_cv = [0.001, 0.01, 0.1, 0.5]\n",
    "model = LassoCV(alphas=alpha_cv, cv=5, random_state=42)\n",
    "model.fit(T_train, y_train)\n",
    "print(f'alpha={model.alpha_}\\nbetas={model.coef_}')\n",
    "\n",
    "y_pred = model.predict(T_test)\n",
    "mse = mean_squared_error(y_test, y_pred)\n",
    "print(f\"Mean Squared Error of y: {mse}\")\n",
    "\n",
    "beta_actual = fm.beta\n",
    "beta_hat = model.coef_\n",
    "mse_beta = mean_squared_error(beta_actual, beta_hat)\n",
    "print(f\"Mean Squared Error of beta: {mse_beta}\")"
   ]
  },
  {
   "cell_type": "code",
   "execution_count": 252,
   "metadata": {},
   "outputs": [
    {
     "name": "stdout",
     "output_type": "stream",
     "text": [
      "expected_outcomes=[ 0.   -0.01  0.36  0.    0.01  0.    0.36 -0.03 -0.   -0.    0.4   0.38\n",
      "  0.37  0.01  0.18 -0.43  0.58  0.38  0.46 -0.03  0.15 -0.43  0.92  0.58\n",
      " -0.2  -0.41  1.1   0.84 -0.12 -0.47  0.35  0.59]\n"
     ]
    }
   ],
   "source": [
    "# Compute expected outcomes as linear combinations of betas\n",
    "betas = model.coef_\n",
    "beta_mask = pf.fit_transform(pf.powers_)\n",
    "expected_outcomes = beta_mask @ betas\n",
    "print(f'expected_outcomes={np.round(expected_outcomes,2)}')"
   ]
  },
  {
   "cell_type": "code",
   "execution_count": 253,
   "metadata": {},
   "outputs": [
    {
     "name": "stdout",
     "output_type": "stream",
     "text": [
      "(32,) (32,)\n"
     ]
    }
   ],
   "source": [
    "print(betas.shape, expected_outcomes.shape)"
   ]
  },
  {
   "cell_type": "code",
   "execution_count": 254,
   "metadata": {},
   "outputs": [
    {
     "name": "stdout",
     "output_type": "stream",
     "text": [
      "Max clusters: 1; cluster labels: [0 0 0 0 0 0 0 0 0 0 0 0 0 0 0 0 0 0 0 0 0 0 0 0 0 0 0 0 0 0 0 0]; score: -4.76\n",
      "Max clusters: 2; cluster labels: [1 1 0 1 1 1 0 1 1 1 0 0 0 1 1 1 0 0 0 1 1 1 0 0 1 1 0 0 1 1 0 0]; score: -1.45\n",
      "Max clusters: 3; cluster labels: [1 1 0 1 1 1 0 1 1 1 0 0 0 1 0 1 0 0 0 1 0 1 2 0 1 1 2 2 1 1 0 0]; score: -0.80\n",
      "Max clusters: 4; cluster labels: [1 1 3 1 1 1 3 1 1 1 3 3 3 1 1 0 3 3 3 1 1 0 2 3 0 0 2 2 1 0 3 3]; score: -0.24\n",
      "Max clusters: 5; cluster labels: [1 1 0 1 1 1 0 1 1 1 0 0 0 1 1 3 4 0 0 1 1 3 2 4 1 3 2 2 1 3 0 4]; score: -0.15\n",
      "Max clusters: 6; cluster labels: [4 4 5 4 4 4 5 4 4 4 5 5 5 4 0 2 3 5 5 4 0 2 1 3 4 2 1 1 4 2 5 3]; score: -0.09\n",
      "Max clusters: 7; cluster labels: [2 2 0 2 2 2 0 2 2 2 0 0 0 2 5 1 4 0 0 2 5 1 3 4 6 1 3 3 6 1 0 4]; score: -0.05\n",
      "Max clusters: 8; cluster labels: [5 5 0 5 5 5 0 5 5 5 0 0 0 5 6 3 4 0 0 5 6 3 2 4 1 3 7 2 1 3 0 4]; score: -0.02\n",
      "Max clusters: 9; cluster labels: [4 4 1 4 4 4 1 4 4 4 1 1 1 4 6 3 5 1 8 4 6 3 2 5 0 3 7 2 0 3 1 5]; score: -0.01\n",
      "Max clusters: 10; cluster labels: [5 5 0 5 5 5 0 5 5 5 0 0 0 5 6 3 4 0 9 5 6 3 2 4 8 3 7 2 1 3 0 4]; score: -0.01\n",
      "Max clusters: 11; cluster labels: [ 5  5  0  5  5  5  0  5  5  5  0  0  0  5  6  3  4  0  9  5  6  3  2  4\n",
      "  8  3  7 10  1  3  0  4]; score: -0.01\n",
      "Max clusters: 12; cluster labels: [ 4  4  0  4  4  4  0  4  4  4  0  0  0  4  6  3  5  0  9  4  6  3  2  5\n",
      "  1  3  7 10  8 11  0  5]; score: -0.00\n",
      "Max clusters: 13; cluster labels: [ 5  5  0  5  5  5  0 11  5  5  0  0  0  5  6  3  4  0  9 11  6  3  2  4\n",
      "  8  3  7 10  1 12  0  4]; score: -0.00\n",
      "Max clusters: 14; cluster labels: [ 1  1  0  1  1  1  0 12  1  1 11 11  0  1  7  3  4 11  8 12  7  3  2  4\n",
      "  5  3  6 10  9 13  0  4]; score: -0.00\n",
      "Max clusters: 15; cluster labels: [ 8  8 14  8  8  8 14  5  8  8  4  4 14  8 13  2  1  4 12  5  0  2 10  1\n",
      "  6  2  7  3  9 11 14  1]; score: -0.00\n",
      "Max clusters: 16; cluster labels: [ 5  5  0  5  5  5  0 11  5  5 13 14  0  5 15  3  4 14  9 11  6  3  2  4\n",
      "  8  3  7 10  1 12  0  4]; score: -0.00\n",
      "Max clusters: 17; cluster labels: [ 5  5  0  5  5  5  0 11  5  5 13 14  0  5 15  3  4 14  9 11  6  3  2  4\n",
      "  8 16  7 10  1 12  0  4]; score: -0.00\n",
      "Max clusters: 18; cluster labels: [ 5  5  0  5  5  5  0 11  5  5 13 14  0  5 15  3  4 14  9 11  6  3  2  4\n",
      "  8 16  7 10  1 12 17  4]; score: -0.00\n",
      "Max clusters: 19; cluster labels: [17 17  4 17  9  9  4  2 17 17 11 15  4  9  7  5  1 15  8  2 13  5  6  1\n",
      "  0 16  3 12 10 14 18  1]; score: -0.00\n",
      "Max clusters: 20; cluster labels: [ 5  5  0  5 19 19  0 11  5  5 13 14  0 19 15  3  4 14  9 11  6  3  2  4\n",
      "  8 16  7 10  1 12 17 18]; score: -0.00\n",
      "Max clusters: 21; cluster labels: [ 8 20 17  8 18 18 17  1  8  8 15  0 17 18  5  3  4  0 11  1 14  3 10  4\n",
      "  7 16  6  2  9 13 12 19]; score: -0.00\n",
      "Max clusters: 22; cluster labels: [18 21  0 18  4  4  0 11 18 18 15 14  0  4 12 20  5 14  8 11  6  3  2  5\n",
      " 10 16  7  9  1 13 17 19]; score: -0.00\n",
      "Max clusters: 23; cluster labels: [18 21  0 18  4  4  0 11 18 18 15 14  0  4 12 20  5 14  8 22  6  3  2  5\n",
      " 10 16  7  9  1 13 17 19]; score: -0.00\n",
      "Max clusters: 24; cluster labels: [18 21 23 18  4  4 23 11 18 18 15 14  0  4 12 20  5 14  8 22  6  3  2  5\n",
      " 10 16  7  9  1 13 17 19]; score: -0.00\n",
      "Max clusters: 25; cluster labels: [18 21 23 18  4  4 23 11 18 18 15 14  0  4 12 20 24 14  8 22  6  3  2  5\n",
      " 10 16  7  9  1 13 17 19]; score: -0.00\n",
      "Max clusters: 26; cluster labels: [ 1 20  9  1 18 18  9 22  1 25  2 15 23 18  6 19 24 15 11 13 14  3 10  4\n",
      "  8 16  5  0  7 12 17 21]; score: -0.00\n",
      "Max clusters: 27; cluster labels: [24 22 13 24 26 17 13 11 24  0 16  2 25 26  5 21  4  2 10 20 14  3  1 23\n",
      "  6 15  7  9  8 12 18 19]; score: -0.00\n",
      "Max clusters: 28; cluster labels: [20  0 12 20 25 16 12 13 20 26 15 27 23 25 14  3  4  2 10 22  5 21  1 24\n",
      "  6 17  7  9  8 11 19 18]; score: -0.00\n",
      "Max clusters: 29; cluster labels: [18 21 27 18 25  4 23 11 18 28 15 26  0 25 12 20 24 14  8 22  6  3  2  5\n",
      " 10 16  7  9  1 13 17 19]; score: -0.00\n",
      "Max clusters: 30; cluster labels: [29 21 27 29 25  4 23 11 18 28 15 26  0 25 12 20 24 14  8 22  6  3  2  5\n",
      " 10 16  7  9  1 13 17 19]; score: -0.00\n",
      "Max clusters: 31; cluster labels: [29 21 27 29 25  4 23 11 18 28 15 26  0 25 12 20 24 14  8 22  6  3  2  5\n",
      " 10 16  7  9  1 13 17 19]; score: -0.00\n"
     ]
    },
    {
     "name": "stderr",
     "output_type": "stream",
     "text": [
      "/tmp/ipykernel_141/426641171.py:3: ConvergenceWarning: Number of distinct clusters (30) found smaller than n_clusters (31). Possibly due to duplicate points in X.\n",
      "  kmeans = KMeans(n_clusters=i, random_state=0).fit(expected_outcomes.reshape(-1, 1))\n"
     ]
    }
   ],
   "source": [
    "# Cluster treatment combinations by expected outcomes\n",
    "for i in range(1, 2**k):\n",
    "    kmeans = KMeans(n_clusters=i, random_state=0).fit(expected_outcomes.reshape(-1, 1))\n",
    "    score = kmeans.score(expected_outcomes.reshape(-1, 1))\n",
    "    print(f'Max clusters: {i}; cluster labels: {kmeans.labels_}; score: {score:.2f}')"
   ]
  },
  {
   "cell_type": "code",
   "execution_count": 255,
   "metadata": {},
   "outputs": [
    {
     "data": {
      "image/png": "[encoded data removed]",
      "text/plain": [
       "<Figure size 640x480 with 1 Axes>"
      ]
     },
     "metadata": {},
     "output_type": "display_data"
    }
   ],
   "source": [
    "# Plot betas and expected outcomes\n",
    "_ = sns.barplot(\n",
    "    x=[\n",
    "        r\"0\",\n",
    "        r\"$t_1$\",\n",
    "        r\"$t_2$\",\n",
    "        r\"$t_3$\",\n",
    "        r\"$t_4$\",\n",
    "        r\"$t_5$\",\n",
    "        r\"$t_1 t_2$\",\n",
    "        r\"$t_1 t_3$\",\n",
    "        r\"$t_1 t_4$\",\n",
    "        r\"$t_1 t_5$\",\n",
    "        r\"$t_2 t_3$\",\n",
    "        r\"$t_2 t_4$\",\n",
    "        r\"$t_2 t_5$\",\n",
    "        r\"$t_3 t_4$\",\n",
    "        r\"$t_3 t_5$\",\n",
    "        r\"$t_4 t_5$\",\n",
    "        r\"$t_1 t_2 t_3$\",\n",
    "        r\"$t_1 t_2 t_4$\",\n",
    "        r\"$t_1 t_2 t_5$\",\n",
    "        r\"$t_1 t_3 t_4$\",\n",
    "        r\"$t_1 t_3 t_5$\",\n",
    "        r\"$t_1 t_4 t_5$\",\n",
    "        r\"$t_2 t_3 t_4$\",\n",
    "        r\"$t_2 t_3 t_5$\",\n",
    "        r\"$t_2 t_4 t_5$\",\n",
    "        r\"$t_3 t_4 t_5$\",\n",
    "        r\"$t_1 t_2 t_3 t_4$\",\n",
    "        r\"$t_1 t_2 t_3 t_5$\",\n",
    "        r\"$t_1 t_2 t_4 t_5$\",\n",
    "        r\"$t_1 t_3 t_4 t_5$\",\n",
    "        r\"$t_2 t_3 t_4 t_5$\",\n",
    "        r\"$t_1 t_2 t_3 t_4 t_5$\",\n",
    "    ],\n",
    "    y=betas,\n",
    "    alpha=0.5,\n",
    "    label=r\"$\\beta$\",\n",
    ")\n",
    "\n",
    "_ = sns.barplot(\n",
    "    x=[\n",
    "        r\"0\",\n",
    "        r\"$t_1$\",\n",
    "        r\"$t_2$\",\n",
    "        r\"$t_3$\",\n",
    "        r\"$t_4$\",\n",
    "        r\"$t_5$\",\n",
    "        r\"$t_1 t_2$\",\n",
    "        r\"$t_1 t_3$\",\n",
    "        r\"$t_1 t_4$\",\n",
    "        r\"$t_1 t_5$\",\n",
    "        r\"$t_2 t_3$\",\n",
    "        r\"$t_2 t_4$\",\n",
    "        r\"$t_2 t_5$\",\n",
    "        r\"$t_3 t_4$\",\n",
    "        r\"$t_3 t_5$\",\n",
    "        r\"$t_4 t_5$\",\n",
    "        r\"$t_1 t_2 t_3$\",\n",
    "        r\"$t_1 t_2 t_4$\",\n",
    "        r\"$t_1 t_2 t_5$\",\n",
    "        r\"$t_1 t_3 t_4$\",\n",
    "        r\"$t_1 t_3 t_5$\",\n",
    "        r\"$t_1 t_4 t_5$\",\n",
    "        r\"$t_2 t_3 t_4$\",\n",
    "        r\"$t_2 t_3 t_5$\",\n",
    "        r\"$t_2 t_4 t_5$\",\n",
    "        r\"$t_3 t_4 t_5$\",\n",
    "        r\"$t_1 t_2 t_3 t_4$\",\n",
    "        r\"$t_1 t_2 t_3 t_5$\",\n",
    "        r\"$t_1 t_2 t_4 t_5$\",\n",
    "        r\"$t_1 t_3 t_4 t_5$\",\n",
    "        r\"$t_2 t_3 t_4 t_5$\",\n",
    "        r\"$t_1 t_2 t_3 t_4 t_5$\",\n",
    "    ],\n",
    "    y=expected_outcomes,\n",
    "    alpha=0.5,\n",
    "    label=r\"E[Y|T]\",\n",
    ")"
   ]
  },
  {
   "cell_type": "markdown",
   "metadata": {},
   "source": [
    "### Generate data for m less than sp"
   ]
  },
  {
   "cell_type": "code",
   "execution_count": 616,
   "metadata": {},
   "outputs": [],
   "source": [
    "#s = sparsity * len(beta)\n",
    "#if k is 10: 88\n",
    "# so error low if 88 * log(176) >= 197\n",
    "from sklearn.metrics import zero_one_loss\n",
    "def run_generation(n_max, k, sparsity, step):\n",
    "    mse_dict = {}\n",
    "    for n in range(20, n_max, step):\n",
    "        mse_sum = 0\n",
    "        mse_beta_sum=0\n",
    "        for seed in [0,1,2,3,4]:\n",
    "            #dictionary for mse's\n",
    "\n",
    "            degree = k\n",
    "            sigma = 0.5\n",
    "\n",
    "            fm = FM.FactorialModel(\n",
    "                n=n,\n",
    "                k=k,\n",
    "                degree=degree,\n",
    "                sigma=sigma,\n",
    "                sparsity=sparsity,\n",
    "                beta_seed=seed,\n",
    "            )\n",
    "            t, y = fm.sample(seed=seed, contrast_coding = True)\n",
    "\n",
    "\n",
    "            pf = preprocessing.PolynomialFeatures(\n",
    "            degree=degree, interaction_only=True, include_bias=True,\n",
    "            )\n",
    "            T = pf.fit_transform(t)\n",
    "            T_train, T_test, y_train, y_test = train_test_split(T, y, test_size=0.2, random_state=seed)\n",
    "    #         alpha_cv = [0.001, 0.01, 0.1, 0.5]\n",
    "    #         model = LassoCV(alphas=alpha_cv, cv=5, random_state=42, max_iter=10000)\n",
    "            model = Lasso(alpha = 0.11, max_iter = 10000)\n",
    "            model.fit(T_train, y_train)\n",
    "            # print(f'alpha={model.alpha_}\\nbetas={model.coef_}')\n",
    "\n",
    "            y_pred = model.predict(T_test)\n",
    "            mse_sum += np.sqrt(mean_squared_error(fm.beta, model.coef_))\n",
    "            # print(f\"Mean Squared Error of y: {mse}\")\n",
    "\n",
    "            beta_actual = fm.beta\n",
    "            beta_hat = model.coef_\n",
    "            beta_hat[beta_hat!=0] = 1\n",
    "            beta_actual[beta_actual!=0] = 1\n",
    "            mse_beta_sum += zero_one_loss(beta_actual, beta_hat)\n",
    "            # print(f\"Mean Squared Error of beta: {mse_beta}\")\n",
    "\n",
    "        mse_dict[n] = (mse_sum/5, mse_beta_sum/5)\n",
    "    return mse_dict, len(fm.beta)"
   ]
  },
  {
   "cell_type": "code",
   "execution_count": 617,
   "metadata": {},
   "outputs": [],
   "source": [
    "def draw_charts(mse_dict, sparsity, length, k):\n",
    "    n = list(mse_dict.keys())\n",
    "    mse, mse_beta = zip(*mse_dict.values())\n",
    "\n",
    "    fig, ax1 = plt.subplots()\n",
    "\n",
    "    # Plot the first line (mse) on the first y-axis\n",
    "    color = 'tab:red'\n",
    "    ax1.set_xlabel('m')\n",
    "    ax1.set_ylabel('mse', color=color)\n",
    "    ax1.plot(n, mse, color=color)\n",
    "    ax1.tick_params(axis='y', labelcolor=color)\n",
    "    ax1.set_ylim(0, .1)\n",
    "    # Create a second y-axis for the second line (mse_beta)\n",
    "    ax2 = ax1.twinx()\n",
    "    color = 'tab:blue'\n",
    "    ax2.set_ylabel('0-1 Loss Beta', color=color)\n",
    "    ax2.plot(n, mse_beta, color=color)\n",
    "    ax2.tick_params(axis='y', labelcolor=color)\n",
    "    ax2.set_ylim(0,.26)\n",
    "    tipping_point = calc_tipping_point(sparsity, length, k)  \n",
    "    ax1.axvline(x=tipping_point, linestyle='--', color='gray')\n",
    "    fig.tight_layout()  # For layout\n",
    "    plt.title('MSE and 0-1 Loss Beta vs m')\n",
    "    plt.show()"
   ]
  },
  {
   "cell_type": "code",
   "execution_count": 618,
   "metadata": {},
   "outputs": [],
   "source": [
    "def calc_tipping_point(sparsity, length, k):\n",
    "    return np.log(math.e /(1-sparsity)) *(1-sparsity) * length"
   ]
  },
  {
   "cell_type": "code",
   "execution_count": 619,
   "metadata": {},
   "outputs": [
    {
     "data": {
      "image/png": "[encoded data removed]",
      "text/plain": [
       "<Figure size 640x480 with 2 Axes>"
      ]
     },
     "metadata": {},
     "output_type": "display_data"
    },
    {
     "name": "stdout",
     "output_type": "stream",
     "text": [
      "133.60322111662592\n"
     ]
    }
   ],
   "source": [
    "n_max = 1000\n",
    "k = 8\n",
    "sparsity = 0.8\n",
    "mse_dict, length = run_generation(n_max, k, sparsity, 20)\n",
    "draw_charts(mse_dict, sparsity, length, k)\n",
    "print(calc_tipping_point(sparsity, length, k))"
   ]
  },
  {
   "cell_type": "code",
   "execution_count": 260,
   "metadata": {},
   "outputs": [
    {
     "data": {
      "image/png": "[encoded data removed]",
      "text/plain": [
       "<Figure size 640x480 with 2 Axes>"
      ]
     },
     "metadata": {},
     "output_type": "display_data"
    },
    {
     "name": "stdout",
     "output_type": "stream",
     "text": [
      "128.0\n"
     ]
    }
   ],
   "source": [
    "n_max = 2000\n",
    "k = 5\n",
    "sparsity = 0.2\n",
    "mse_dict, length = run_generation(n_max, k, sparsity, 20)\n",
    "draw_charts(mse_dict)\n",
    "print(calc_tipping_point(sparsity, length, k))"
   ]
  },
  {
   "cell_type": "code",
   "execution_count": 261,
   "metadata": {},
   "outputs": [
    {
     "name": "stderr",
     "output_type": "stream",
     "text": [
      "\n",
      "KeyboardInterrupt\n",
      "\n"
     ]
    }
   ],
   "source": [
    "n_max = 2000\n",
    "k = 10\n",
    "sparsity = 0.2\n",
    "mse_dict, length = run_generation(n_max, k, sparsity, 20)\n",
    "draw_charts(mse_dict)\n",
    "print(calc_tipping_point(sparsity, length, k))"
   ]
  },
  {
   "cell_type": "markdown",
   "metadata": {},
   "source": [
    "# Compare with Forward - Non-Heredity"
   ]
  },
  {
   "cell_type": "code",
   "execution_count": 521,
   "metadata": {},
   "outputs": [],
   "source": [
    "def forward_selection(X, y, p_value):\n",
    "    kept_features = []\n",
    "    total_features = X.columns.tolist()\n",
    "    # print(total_features)\n",
    "    # print(y)\n",
    "    # print(X)\n",
    "\n",
    "    while True:\n",
    "        remaining_features = list(set(total_features) - set(kept_features))\n",
    "\n",
    "        new_pval = pd.Series(index=remaining_features)\n",
    "        \n",
    "        for new_column in remaining_features:\n",
    "            # print(X[kept_features + [new_column]])\n",
    "            test_columns = list(set([new_column]) | set(kept_features))\n",
    "            model = sm.OLS(y, sm.add_constant(X[test_columns])).fit(disp=0)\n",
    "            new_pval[new_column] = model.pvalues[new_column]\n",
    "        \n",
    "        min_p_value = new_pval.min()\n",
    "        if min_p_value < p_value:\n",
    "            kept_features.append(new_pval.idxmin())\n",
    "        else:\n",
    "            break\n",
    "    return kept_features\n",
    "def interactions(X, y, p_value, original_features, kept_features, i):\n",
    "    \n",
    "    combo_features = []\n",
    "    if i == 0:\n",
    "        for feature1, feature2 in combinations(original_features,2):\n",
    "            # print(feature1, feature2)\n",
    "            X[f\"{feature1}*{feature2}\"] = X[feature1] * X[feature2]\n",
    "            combo_features.append(f\"{feature1}*{feature2}\")\n",
    "    else:\n",
    "        for feature1 in original_features:\n",
    "            for feature2 in kept_features:\n",
    "                if str(feature1) in str(feature2):\n",
    "                    continue\n",
    "                else:\n",
    "                    X[f\"{feature1}*{feature2}\"] = X[feature1] * X[feature2]\n",
    "    kept_features = []\n",
    "    # print(y)\n",
    "    while True:\n",
    "        remaining_features = list(set(combo_features) - set(kept_features))\n",
    "\n",
    "        new_pval = pd.Series(index=remaining_features)\n",
    "        \n",
    "        for new_column in remaining_features:\n",
    "            # print(X[kept_features + [new_column]])\n",
    "            test_columns = list(set(original_features) | set([new_column]) | set(kept_features))\n",
    "            model = sm.OLS(y, sm.add_constant(X[test_columns])).fit(disp=0)\n",
    "            new_pval[new_column] = model.pvalues[new_column]\n",
    "        \n",
    "        min_p_value = new_pval.min()\n",
    "        if min_p_value < p_value:\n",
    "            kept_features.append(new_pval.idxmin())\n",
    "        else:\n",
    "            break\n",
    "    return kept_features"
   ]
  },
  {
   "cell_type": "code",
   "execution_count": 654,
   "metadata": {},
   "outputs": [],
   "source": [
    "k=5\n",
    "fm = FM.FactorialModel(\n",
    "    n=120,\n",
    "    k=k,\n",
    "    degree=k,\n",
    "    sigma=0.1,\n",
    "    sparsity=0.5,\n",
    "    beta_seed=7,\n",
    "    antiheredity=False\n",
    ")\n",
    "t, y = fm.sample(seed=0, contrast_coding = True)\n"
   ]
  },
  {
   "cell_type": "code",
   "execution_count": 655,
   "metadata": {},
   "outputs": [
    {
     "name": "stdout",
     "output_type": "stream",
     "text": [
      "[ 0.          0.         -0.27413785  0.          0.         -0.9916465\n",
      "  0.0601436   1.3402152   0.         -0.6204749   0.48984206  0.356887\n",
      "  0.          0.         -0.02925182  0.6953032   0.         -0.45761576\n",
      "  0.          0.          0.         -0.23509113 -1.2674465   0.\n",
      "  0.15675108 -0.18693094  0.         -0.5386929  -0.04850094  0.\n",
      "  0.          0.        ]\n"
     ]
    }
   ],
   "source": [
    "t_train, t_test, y_train, y_test = train_test_split(t, y, test_size=0.01, random_state=40)\n",
    "alpha_cv = [0.001, 0.01, 0.1, 0.5]\n",
    "model = LassoCV(alphas=alpha_cv, cv=5, random_state=40, max_iter=10000)\n",
    "model.fit(t_train, y_train)\n",
    "# print(f'alpha={model.alpha_}\\nbetas={model.coef_}')\n",
    "y_pred = model.predict(t_test)\n",
    "mse = mean_squared_error(y_test, y_pred)\n",
    "# print(f\"Mean Squared Error of y: {mse}\")\n",
    "beta_actual = fm.beta\n",
    "beta_hat = model.coef_\n",
    "# beta_hat[beta_hat != 0] = 1\n",
    "# beta_actual[beta_actual != 0] = 1\n",
    "# mse_beta= zero_one_loss(beta_actual, beta_hat)\n",
    "print(beta_actual)"
   ]
  },
  {
   "cell_type": "code",
   "execution_count": 656,
   "metadata": {},
   "outputs": [
    {
     "name": "stdout",
     "output_type": "stream",
     "text": [
      "[4]\n",
      "[]\n",
      "[]\n",
      "[]\n",
      "[]\n",
      "[]\n",
      "[4]\n",
      "const   -0.228947\n",
      "4       -1.048647\n",
      "dtype: float64\n"
     ]
    },
    {
     "name": "stderr",
     "output_type": "stream",
     "text": [
      "/tmp/ipykernel_141/2571546691.py:11: FutureWarning: The default dtype for empty Series will be 'object' instead of 'float64' in a future version. Specify a dtype explicitly to silence this warning.\n",
      "  new_pval = pd.Series(index=remaining_features)\n",
      "/tmp/ipykernel_141/2571546691.py:11: FutureWarning: The default dtype for empty Series will be 'object' instead of 'float64' in a future version. Specify a dtype explicitly to silence this warning.\n",
      "  new_pval = pd.Series(index=remaining_features)\n",
      "/tmp/ipykernel_141/2571546691.py:45: FutureWarning: The default dtype for empty Series will be 'object' instead of 'float64' in a future version. Specify a dtype explicitly to silence this warning.\n",
      "  new_pval = pd.Series(index=remaining_features)\n",
      "/tmp/ipykernel_141/2571546691.py:45: FutureWarning: The default dtype for empty Series will be 'object' instead of 'float64' in a future version. Specify a dtype explicitly to silence this warning.\n",
      "  new_pval = pd.Series(index=remaining_features)\n",
      "/tmp/ipykernel_141/2571546691.py:45: FutureWarning: The default dtype for empty Series will be 'object' instead of 'float64' in a future version. Specify a dtype explicitly to silence this warning.\n",
      "  new_pval = pd.Series(index=remaining_features)\n",
      "/tmp/ipykernel_141/2571546691.py:45: FutureWarning: The default dtype for empty Series will be 'object' instead of 'float64' in a future version. Specify a dtype explicitly to silence this warning.\n",
      "  new_pval = pd.Series(index=remaining_features)\n",
      "/tmp/ipykernel_141/2571546691.py:45: FutureWarning: The default dtype for empty Series will be 'object' instead of 'float64' in a future version. Specify a dtype explicitly to silence this warning.\n",
      "  new_pval = pd.Series(index=remaining_features)\n"
     ]
    }
   ],
   "source": [
    "#forward selection\n",
    "T_train, T_test, y_train, y_test = train_test_split(t, y, test_size=0.01, random_state=40)\n",
    "T_train = pd.DataFrame(T_train)\n",
    "y_train = pd.DataFrame(y_train)\n",
    "kept_features = forward_selection(T_train, y_train, 0.05)\n",
    "print(kept_features)\n",
    "original_features = kept_features\n",
    "for i in range(k):\n",
    "    int_features = interactions(T_train, y_train, 0.05, original_features, kept_features, i)\n",
    "    print(int_features)\n",
    "    if len(int_features) > 0:\n",
    "        original_features.extend(int_features)\n",
    "print(original_features)\n",
    "model = sm.OLS(y_train, sm.add_constant(T_train[original_features])).fit(disp=0)\n",
    "print(model.params)"
   ]
  },
  {
   "cell_type": "code",
   "execution_count": 657,
   "metadata": {},
   "outputs": [
    {
     "name": "stdout",
     "output_type": "stream",
     "text": [
      "[ 0.00000000e+00  0.00000000e+00 -2.12023586e-01  4.43779165e-04\n",
      "  0.00000000e+00 -9.71979976e-01  1.43941073e-02  1.27571511e+00\n",
      "  0.00000000e+00 -5.58820724e-01  4.41242278e-01  3.10759008e-01\n",
      "  0.00000000e+00  0.00000000e+00 -3.08735226e-03  6.47583663e-01\n",
      " -0.00000000e+00 -4.31682825e-01  0.00000000e+00  0.00000000e+00\n",
      " -0.00000000e+00 -1.98801666e-01 -1.20658374e+00  0.00000000e+00\n",
      "  1.15392625e-01 -1.33360341e-01  0.00000000e+00 -4.92409855e-01\n",
      " -6.56109164e-03 -0.00000000e+00 -0.00000000e+00 -0.00000000e+00]\n"
     ]
    }
   ],
   "source": [
    "#lasso\n",
    "pf = preprocessing.PolynomialFeatures(\n",
    "degree=k, interaction_only=True, include_bias=True,\n",
    ")\n",
    "T = pf.fit_transform(t)\n",
    "\n",
    "t_train, t_test, y_train, y_test = train_test_split(T, y, test_size=0.01, random_state=40)\n",
    "alpha_cv = [0.001, 0.01, 0.1, 0.5]\n",
    "model = Lasso(alpha=0.03, max_iter=10000)\n",
    "model.fit(t_train, y_train)\n",
    "print(model.coef_)"
   ]
  },
  {
   "cell_type": "code",
   "execution_count": 658,
   "metadata": {},
   "outputs": [
    {
     "name": "stdout",
     "output_type": "stream",
     "text": [
      "0.03125\n"
     ]
    }
   ],
   "source": [
    "model_beta = model.coef_\n",
    "model_beta[model_beta!=0] = 1\n",
    "beta_real = beta_actual\n",
    "beta_real[beta_real!=0] =1\n",
    "print(zero_one_loss(beta_real,model_beta))"
   ]
  },
  {
   "cell_type": "code",
   "execution_count": 395,
   "metadata": {},
   "outputs": [],
   "source": [
    "\n",
    "\n",
    "fm = FM.FactorialModel(\n",
    "    n=40,\n",
    "    k=4,\n",
    "    degree=5,\n",
    "    sigma=0.1,\n",
    "    sparsity=0.9,\n",
    "    beta_seed=40,\n",
    "    antiheredity=True\n",
    ")\n",
    "t, y = fm.sample(seed=0, contrast_coding = True)\n"
   ]
  },
  {
   "cell_type": "code",
   "execution_count": null,
   "metadata": {},
   "outputs": [],
   "source": []
  },
  {
   "cell_type": "code",
   "execution_count": null,
   "metadata": {},
   "outputs": [],
   "source": []
  },
  {
   "cell_type": "code",
   "execution_count": null,
   "metadata": {},
   "outputs": [],
   "source": []
  },
  {
   "cell_type": "code",
   "execution_count": null,
   "metadata": {},
   "outputs": [],
   "source": []
  }
 ],
 "metadata": {
  "kernelspec": {
   "display_name": "Python 3 (ipykernel)",
   "language": "python",
   "name": "python3"
  },
  "language_info": {
   "codemirror_mode": {
    "name": "ipython",
    "version": 3
   },
   "file_extension": ".py",
   "mimetype": "text/x-python",
   "name": "python",
   "nbconvert_exporter": "python",
   "pygments_lexer": "ipython3",
   "version": "3.8.10"
  },
  "vscode": {
   "interpreter": {
    "hash": "eebfdbda06c0fad39ac275854ff2a899db249160fd4d105286e33d75d7d6841a"
   }
  }
 },
 "nbformat": 4,
 "nbformat_minor": 2
}
