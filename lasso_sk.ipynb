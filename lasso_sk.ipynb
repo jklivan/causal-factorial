{
 "cells": [
  {
   "cell_type": "markdown",
   "metadata": {},
   "source": [
    "## Lasso regression for sparse data"
   ]
  },
  {
   "cell_type": "code",
   "execution_count": 683,
   "metadata": {},
   "outputs": [
    {
     "name": "stdout",
     "output_type": "stream",
     "text": [
      "The autoreload extension is already loaded. To reload it, use:\n",
      "  %reload_ext autoreload\n"
     ]
    }
   ],
   "source": [
    "%load_ext autoreload\n",
    "%autoreload 2"
   ]
  },
  {
   "cell_type": "code",
   "execution_count": 684,
   "metadata": {},
   "outputs": [],
   "source": [
    "import numpy as np\n",
    "import pandas as pd\n",
    "import seaborn as sns\n",
    "import statsmodels.api as sm\n",
    "import class_FM as FM\n",
    "from sklearn import preprocessing\n",
    "from sklearn.linear_model import Lasso, LassoCV\n",
    "from sklearn.model_selection import train_test_split\n",
    "from sklearn.cluster import KMeans\n",
    "from sklearn.metrics import mean_squared_error\n",
    "import matplotlib.pyplot as plt\n",
    "import math\n",
    "from itertools import combinations"
   ]
  },
  {
   "cell_type": "markdown",
   "metadata": {},
   "source": [
    "### Initialize factorial model and sample dataset for k=3"
   ]
  },
  {
   "cell_type": "code",
   "execution_count": 239,
   "metadata": {},
   "outputs": [],
   "source": [
    "n = 1000\n",
    "k = 3\n",
    "degree = 3\n",
    "sigma = 0.1\n",
    "sparsity = 0.5\n",
    "\n",
    "fm = FM.FactorialModel(\n",
    "    n=n,\n",
    "    k=k,\n",
    "    degree=degree,\n",
    "    sigma=sigma,\n",
    "    sparsity=sparsity,\n",
    "    beta_seed=42,\n",
    ")\n",
    "t, y = fm.sample(seed=0)\n"
   ]
  },
  {
   "cell_type": "markdown",
   "metadata": {},
   "source": [
    "### Fit Lasso regression with cross validation for alpha"
   ]
  },
  {
   "cell_type": "code",
   "execution_count": 240,
   "metadata": {},
   "outputs": [
    {
     "name": "stdout",
     "output_type": "stream",
     "text": [
      "alpha=0.001\n",
      "betas=[ 0.         -0.4637748   0.          0.00316042 -0.86222917 -0.00868506\n",
      "  0.03107935 -0.11330512]\n",
      "Mean Squared Error of y: 0.010163565628389128\n",
      "Mean Squared Error of beta: 0.00020646901975851506\n"
     ]
    }
   ],
   "source": [
    "pf = preprocessing.PolynomialFeatures(\n",
    "    degree=degree, interaction_only=True, include_bias=True,\n",
    ")\n",
    "T = pf.fit_transform(t)\n",
    "T_train, T_test, y_train, y_test = train_test_split(T, y, test_size=0.2, random_state=42)\n",
    "alpha_cv = [0.001, 0.01, 0.1, 0.5]\n",
    "model = LassoCV(alphas=alpha_cv, cv=5, random_state=42)\n",
    "model.fit(T_train, y_train)\n",
    "print(f'alpha={model.alpha_}\\nbetas={model.coef_}')\n",
    "\n",
    "y_pred = model.predict(T_test)\n",
    "mse = mean_squared_error(y_test, y_pred)\n",
    "print(f\"Mean Squared Error of y: {mse}\")\n",
    "\n",
    "beta_actual = fm.beta\n",
    "beta_hat = model.coef_\n",
    "mse_beta = mean_squared_error(beta_actual, beta_hat)\n",
    "print(f\"Mean Squared Error of beta: {mse_beta}\")"
   ]
  },
  {
   "cell_type": "markdown",
   "metadata": {},
   "source": [
    "### Compute expected outcomes as linear combinations of betas"
   ]
  },
  {
   "cell_type": "code",
   "execution_count": 241,
   "metadata": {},
   "outputs": [
    {
     "name": "stdout",
     "output_type": "stream",
     "text": [
      "expected_outcomes=[ 0.   -0.46  0.    0.   -1.33 -0.47  0.03 -1.41]\n"
     ]
    }
   ],
   "source": [
    "betas = model.coef_\n",
    "beta_mask = pf.fit_transform(pf.powers_)\n",
    "expected_outcomes = beta_mask @ betas\n",
    "print(f'expected_outcomes={np.round(expected_outcomes,2)}')"
   ]
  },
  {
   "cell_type": "markdown",
   "metadata": {},
   "source": [
    "### Cluster treatment combinations by expected outcomes"
   ]
  },
  {
   "cell_type": "code",
   "execution_count": 242,
   "metadata": {},
   "outputs": [
    {
     "name": "stdout",
     "output_type": "stream",
     "text": [
      "Max clusters: 1; cluster labels: [0 0 0 0 0 0 0 0]; score: -2.54\n",
      "Max clusters: 2; cluster labels: [1 1 1 1 0 1 1 0]; score: -0.31\n",
      "Max clusters: 3; cluster labels: [1 2 1 1 0 2 1 0]; score: -0.00\n",
      "Max clusters: 4; cluster labels: [1 2 1 1 0 2 1 3]; score: -0.00\n",
      "Max clusters: 5; cluster labels: [1 2 1 1 0 2 4 3]; score: -0.00\n",
      "Max clusters: 6; cluster labels: [1 5 1 1 0 2 4 3]; score: -0.00\n",
      "Max clusters: 7; cluster labels: [6 5 6 1 0 2 4 3]; score: -0.00\n"
     ]
    }
   ],
   "source": [
    "for i in range(1, 2**k):\n",
    "    kmeans = KMeans(n_clusters=i, random_state=0).fit(expected_outcomes.reshape(-1, 1))\n",
    "    score = kmeans.score(expected_outcomes.reshape(-1, 1))\n",
    "    print(f'Max clusters: {i}; cluster labels: {kmeans.labels_}; score: {score:.2f}')"
   ]
  },
  {
   "cell_type": "markdown",
   "metadata": {},
   "source": [
    "### Plot betas and expected outcomes"
   ]
  },
  {
   "cell_type": "code",
   "execution_count": 243,
   "metadata": {},
   "outputs": [
    {
     "data": {
      "image/png": "[encoded data removed]",
      "text/plain": [
       "<Figure size 640x480 with 1 Axes>"
      ]
     },
     "metadata": {},
     "output_type": "display_data"
    }
   ],
   "source": [
    "_ = sns.barplot(\n",
    "    x=[\n",
    "        r\"0\",\n",
    "        r\"$t_1$\",\n",
    "        r\"$t_2$\",\n",
    "        r\"$t_3$\",\n",
    "        r\"$t_1 t_2$\",\n",
    "        r\"$t_1 t_3$\",\n",
    "        r\"$t_2 t_3$\",\n",
    "        r\"$t_1 t_2 t_3$\",\n",
    "    ],\n",
    "    y=betas,\n",
    "    alpha=0.5,\n",
    "    label=r\"$\\beta$\",\n",
    ")\n",
    "\n",
    "_ = sns.barplot(\n",
    "    x=[\n",
    "        r\"0\",\n",
    "        r\"$t_1$\",\n",
    "        r\"$t_2$\",\n",
    "        r\"$t_3$\",\n",
    "        r\"$t_1 t_2$\",\n",
    "        r\"$t_1 t_3$\",\n",
    "        r\"$t_2 t_3$\",\n",
    "        r\"$t_1 t_2 t_3$\",\n",
    "    ],\n",
    "    y=expected_outcomes,\n",
    "    alpha=0.5,\n",
    "    label=r\"E[Y|T]\",\n",
    ")"
   ]
  },
  {
   "cell_type": "markdown",
   "metadata": {},
   "source": [
    "### Factorial model and sample dataset for k=4"
   ]
  },
  {
   "cell_type": "code",
   "execution_count": 244,
   "metadata": {},
   "outputs": [],
   "source": [
    "n = 1000\n",
    "k = 4\n",
    "degree = 4\n",
    "sigma = 0.1\n",
    "sparsity = 0.5\n",
    "\n",
    "fm = FM.FactorialModel(\n",
    "    n=n,\n",
    "    k=k,\n",
    "    degree=degree,\n",
    "    sigma=sigma,\n",
    "    sparsity=sparsity,\n",
    "    beta_seed=42,\n",
    ")\n",
    "t, y = fm.sample(seed=0)"
   ]
  },
  {
   "cell_type": "code",
   "execution_count": 245,
   "metadata": {},
   "outputs": [
    {
     "name": "stdout",
     "output_type": "stream",
     "text": [
      "alpha=0.001\n",
      "betas=[ 0.         -0.543451    0.3862214   0.4831172   0.         -0.01750211\n",
      "  0.06066966 -0.15994355  0.00780474  0.01052252  0.01000153 -0.\n",
      " -0.01050108 -0.          0.18682475 -0.41272694]\n",
      "Mean Squared Error of y: 0.009933492641711969\n",
      "Mean Squared Error of beta: 0.0003990872937720269\n"
     ]
    }
   ],
   "source": [
    "# Fit Lasso regression with cross validation for alpha\n",
    "pf = preprocessing.PolynomialFeatures(\n",
    "    degree=degree, interaction_only=True, include_bias=True,\n",
    ")\n",
    "T = pf.fit_transform(t)\n",
    "T_train, T_test, y_train, y_test = train_test_split(T, y, test_size=0.2, random_state=42)\n",
    "alpha_cv = [0.001, 0.01, 0.1, 0.5]\n",
    "model = LassoCV(alphas=alpha_cv, cv=5, random_state=42)\n",
    "model.fit(T_train, y_train)\n",
    "print(f'alpha={model.alpha_}\\nbetas={model.coef_}')\n",
    "\n",
    "y_pred = model.predict(T_test)\n",
    "mse = mean_squared_error(y_test, y_pred)\n",
    "print(f\"Mean Squared Error of y: {mse}\")\n",
    "\n",
    "beta_actual = fm.beta\n",
    "beta_hat = model.coef_\n",
    "mse_beta = mean_squared_error(beta_actual, beta_hat)\n",
    "print(f\"Mean Squared Error of beta: {mse_beta}\")"
   ]
  },
  {
   "cell_type": "code",
   "execution_count": 246,
   "metadata": {},
   "outputs": [
    {
     "name": "stdout",
     "output_type": "stream",
     "text": [
      "expected_outcomes=[ 0.   -0.54  0.39  0.48  0.   -0.17  0.   -0.7   0.88  0.4   0.49  0.38\n",
      " -0.33 -0.15  1.08  0.  ]\n"
     ]
    }
   ],
   "source": [
    "# Compute expected outcomes as linear combinations of betas\n",
    "betas = model.coef_\n",
    "beta_mask = pf.fit_transform(pf.powers_)\n",
    "expected_outcomes = beta_mask @ betas\n",
    "print(f'expected_outcomes={np.round(expected_outcomes,2)}')"
   ]
  },
  {
   "cell_type": "code",
   "execution_count": 247,
   "metadata": {},
   "outputs": [
    {
     "name": "stdout",
     "output_type": "stream",
     "text": [
      "(16,) (16,)\n"
     ]
    }
   ],
   "source": [
    "print(betas.shape, expected_outcomes.shape)"
   ]
  },
  {
   "cell_type": "code",
   "execution_count": 248,
   "metadata": {},
   "outputs": [
    {
     "name": "stdout",
     "output_type": "stream",
     "text": [
      "Max clusters: 1; cluster labels: [0 0 0 0 0 0 0 0 0 0 0 0 0 0 0 0]; score: -3.53\n",
      "Max clusters: 2; cluster labels: [0 0 1 1 0 0 0 0 1 1 1 1 0 0 1 0]; score: -1.02\n",
      "Max clusters: 3; cluster labels: [2 0 1 1 2 2 2 0 1 1 1 1 0 2 1 2]; score: -0.58\n",
      "Max clusters: 4; cluster labels: [3 0 1 1 3 3 3 0 2 1 1 1 0 3 2 3]; score: -0.14\n",
      "Max clusters: 5; cluster labels: [3 4 1 1 3 0 3 4 2 1 1 1 0 0 2 3]; score: -0.07\n",
      "Max clusters: 6; cluster labels: [0 3 2 2 0 4 0 3 5 2 2 2 4 4 1 0]; score: -0.05\n",
      "Max clusters: 7; cluster labels: [3 4 1 1 3 5 3 4 6 1 1 1 0 5 2 3]; score: -0.03\n",
      "Max clusters: 8; cluster labels: [4 6 2 2 4 1 4 3 0 2 2 2 7 1 5 4]; score: -0.01\n",
      "Max clusters: 9; cluster labels: [2 8 7 1 2 5 2 4 3 7 1 7 0 5 6 2]; score: -0.00\n",
      "Max clusters: 10; cluster labels: [2 8 7 1 2 5 2 4 3 7 1 7 0 9 6 2]; score: -0.00\n",
      "Max clusters: 11; cluster labels: [ 2  8  7  1  2  5  2  4  3 10  1  7  0  9  6  2]; score: -0.00\n",
      "Max clusters: 12; cluster labels: [ 2  8  7 11  2  5  2  4  3 10  1  7  0  9  6  2]; score: -0.00\n",
      "Max clusters: 13; cluster labels: [ 2  8  7 11  2  5  2  4  3 10  1 12  0  9  6  2]; score: -0.00\n",
      "Max clusters: 14; cluster labels: [ 2  8  7 11  2  5  2  4  3 10  1 12  0  9  6 13]; score: -0.00\n",
      "Max clusters: 15; cluster labels: [ 2  8  7 11  2  5 14  4  3 10  1 12  0  9  6 13]; score: -0.00\n"
     ]
    }
   ],
   "source": [
    "# Cluster treatment combinations by expected outcomes\n",
    "for i in range(1, 2**k):\n",
    "    kmeans = KMeans(n_clusters=i, random_state=0).fit(expected_outcomes.reshape(-1, 1))\n",
    "    score = kmeans.score(expected_outcomes.reshape(-1, 1))\n",
    "    print(f'Max clusters: {i}; cluster labels: {kmeans.labels_}; score: {score:.2f}')"
   ]
  },
  {
   "cell_type": "code",
   "execution_count": 249,
   "metadata": {},
   "outputs": [
    {
     "data": {
      "image/png": "[encoded data removed]",
      "text/plain": [
       "<Figure size 640x480 with 1 Axes>"
      ]
     },
     "metadata": {},
     "output_type": "display_data"
    }
   ],
   "source": [
    "# Plot betas and expected outcomes\n",
    "_ = sns.barplot(\n",
    "    x=[\n",
    "        r\"0\",\n",
    "        r\"$t_1$\",\n",
    "        r\"$t_2$\",\n",
    "        r\"$t_3$\",\n",
    "        r\"$t_4$\",\n",
    "        r\"$t_1 t_2$\",\n",
    "        r\"$t_1 t_3$\",\n",
    "        r\"$t_1 t_4$\",\n",
    "        r\"$t_2 t_3$\",\n",
    "        r\"$t_2 t_4$\",\n",
    "        r\"$t_3 t_4$\",\n",
    "        r\"$t_1 t_2 t_3$\",\n",
    "        r\"$t_1 t_2 t_4$\",\n",
    "        r\"$t_1 t_3 t_4$\",\n",
    "        r\"$t_2 t_3 t_4$\",\n",
    "        r\"$t_1 t_2 t_3 t_4$\",\n",
    "    ],\n",
    "    y=betas,\n",
    "    alpha=0.5,\n",
    "    label=r\"$\\beta$\",\n",
    ")\n",
    "\n",
    "_ = sns.barplot(\n",
    "    x=[\n",
    "        r\"0\",\n",
    "        r\"$t_1$\",\n",
    "        r\"$t_2$\",\n",
    "        r\"$t_3$\",\n",
    "        r\"$t_4$\",\n",
    "        r\"$t_1 t_2$\",\n",
    "        r\"$t_1 t_3$\",\n",
    "        r\"$t_1 t_4$\",\n",
    "        r\"$t_2 t_3$\",\n",
    "        r\"$t_2 t_4$\",\n",
    "        r\"$t_3 t_4$\",\n",
    "        r\"$t_1 t_2 t_3$\",\n",
    "        r\"$t_1 t_2 t_4$\",\n",
    "        r\"$t_1 t_3 t_4$\",\n",
    "        r\"$t_2 t_3 t_4$\",\n",
    "        r\"$t_1 t_2 t_3 t_4$\",\n",
    "    ],\n",
    "    y=expected_outcomes,\n",
    "    alpha=0.5,\n",
    "    label=r\"E[Y|T]\",\n",
    ")"
   ]
  },
  {
   "cell_type": "markdown",
   "metadata": {},
   "source": [
    "### Factorial model and sample dataset for k=5"
   ]
  },
  {
   "cell_type": "code",
   "execution_count": 250,
   "metadata": {},
   "outputs": [],
   "source": [
    "n = 1000\n",
    "k = 5\n",
    "degree = 5\n",
    "sigma = 0.1\n",
    "sparsity = 0.5\n",
    "\n",
    "fm = FM.FactorialModel(\n",
    "    n=n,\n",
    "    k=k,\n",
    "    degree=degree,\n",
    "    sigma=sigma,\n",
    "    sparsity=sparsity,\n",
    "    beta_seed=42,\n",
    ")\n",
    "t, y = fm.sample(seed=0)"
   ]
  },
  {
   "cell_type": "code",
   "execution_count": 251,
   "metadata": {},
   "outputs": [
    {
     "name": "stdout",
     "output_type": "stream",
     "text": [
      "alpha=0.001\n",
      "betas=[ 0.         -0.00615014  0.36288005  0.          0.00563909  0.00419086\n",
      "  0.00781563 -0.0254381   0.          0.          0.03989441  0.0122317\n",
      " -0.          0.          0.17361246 -0.43732393  0.19791085  0.\n",
      "  0.08772841 -0.         -0.          0.          0.5031516  -0.\n",
      " -0.1523685  -0.15900049 -0.          0.          0.         -0.02823868\n",
      " -0.         -0.        ]\n",
      "Mean Squared Error of y: 0.010939823856963767\n",
      "Mean Squared Error of beta: 0.005701355170458555\n"
     ]
    }
   ],
   "source": [
    "# Fit Lasso regression with cross validation for alpha\n",
    "pf = preprocessing.PolynomialFeatures(\n",
    "    degree=degree, interaction_only=True, include_bias=True,\n",
    ")\n",
    "T = pf.fit_transform(t)\n",
    "T_train, T_test, y_train, y_test = train_test_split(T, y, test_size=0.2, random_state=42)\n",
    "alpha_cv = [0.001, 0.01, 0.1, 0.5]\n",
    "model = LassoCV(alphas=alpha_cv, cv=5, random_state=42)\n",
    "model.fit(T_train, y_train)\n",
    "print(f'alpha={model.alpha_}\\nbetas={model.coef_}')\n",
    "\n",
    "y_pred = model.predict(T_test)\n",
    "mse = mean_squared_error(y_test, y_pred)\n",
    "print(f\"Mean Squared Error of y: {mse}\")\n",
    "\n",
    "beta_actual = fm.beta\n",
    "beta_hat = model.coef_\n",
    "mse_beta = mean_squared_error(beta_actual, beta_hat)\n",
    "print(f\"Mean Squared Error of beta: {mse_beta}\")"
   ]
  },
  {
   "cell_type": "code",
   "execution_count": 252,
   "metadata": {},
   "outputs": [
    {
     "name": "stdout",
     "output_type": "stream",
     "text": [
      "expected_outcomes=[ 0.   -0.01  0.36  0.    0.01  0.    0.36 -0.03 -0.   -0.    0.4   0.38\n",
      "  0.37  0.01  0.18 -0.43  0.58  0.38  0.46 -0.03  0.15 -0.43  0.92  0.58\n",
      " -0.2  -0.41  1.1   0.84 -0.12 -0.47  0.35  0.59]\n"
     ]
    }
   ],
   "source": [
    "# Compute expected outcomes as linear combinations of betas\n",
    "betas = model.coef_\n",
    "beta_mask = pf.fit_transform(pf.powers_)\n",
    "expected_outcomes = beta_mask @ betas\n",
    "print(f'expected_outcomes={np.round(expected_outcomes,2)}')"
   ]
  },
  {
   "cell_type": "code",
   "execution_count": 253,
   "metadata": {},
   "outputs": [
    {
     "name": "stdout",
     "output_type": "stream",
     "text": [
      "(32,) (32,)\n"
     ]
    }
   ],
   "source": [
    "print(betas.shape, expected_outcomes.shape)"
   ]
  },
  {
   "cell_type": "code",
   "execution_count": 254,
   "metadata": {},
   "outputs": [
    {
     "name": "stdout",
     "output_type": "stream",
     "text": [
      "Max clusters: 1; cluster labels: [0 0 0 0 0 0 0 0 0 0 0 0 0 0 0 0 0 0 0 0 0 0 0 0 0 0 0 0 0 0 0 0]; score: -4.76\n",
      "Max clusters: 2; cluster labels: [1 1 0 1 1 1 0 1 1 1 0 0 0 1 1 1 0 0 0 1 1 1 0 0 1 1 0 0 1 1 0 0]; score: -1.45\n",
      "Max clusters: 3; cluster labels: [1 1 0 1 1 1 0 1 1 1 0 0 0 1 0 1 0 0 0 1 0 1 2 0 1 1 2 2 1 1 0 0]; score: -0.80\n",
      "Max clusters: 4; cluster labels: [1 1 3 1 1 1 3 1 1 1 3 3 3 1 1 0 3 3 3 1 1 0 2 3 0 0 2 2 1 0 3 3]; score: -0.24\n",
      "Max clusters: 5; cluster labels: [1 1 0 1 1 1 0 1 1 1 0 0 0 1 1 3 4 0 0 1 1 3 2 4 1 3 2 2 1 3 0 4]; score: -0.15\n",
      "Max clusters: 6; cluster labels: [4 4 5 4 4 4 5 4 4 4 5 5 5 4 0 2 3 5 5 4 0 2 1 3 4 2 1 1 4 2 5 3]; score: -0.09\n",
      "Max clusters: 7; cluster labels: [2 2 0 2 2 2 0 2 2 2 0 0 0 2 5 1 4 0 0 2 5 1 3 4 6 1 3 3 6 1 0 4]; score: -0.05\n",
      "Max clusters: 8; cluster labels: [5 5 0 5 5 5 0 5 5 5 0 0 0 5 6 3 4 0 0 5 6 3 2 4 1 3 7 2 1 3 0 4]; score: -0.02\n",
      "Max clusters: 9; cluster labels: [4 4 1 4 4 4 1 4 4 4 1 1 1 4 6 3 5 1 8 4 6 3 2 5 0 3 7 2 0 3 1 5]; score: -0.01\n",
      "Max clusters: 10; cluster labels: [5 5 0 5 5 5 0 5 5 5 0 0 0 5 6 3 4 0 9 5 6 3 2 4 8 3 7 2 1 3 0 4]; score: -0.01\n",
      "Max clusters: 11; cluster labels: [ 5  5  0  5  5  5  0  5  5  5  0  0  0  5  6  3  4  0  9  5  6  3  2  4\n",
      "  8  3  7 10  1  3  0  4]; score: -0.01\n",
      "Max clusters: 12; cluster labels: [ 4  4  0  4  4  4  0  4  4  4  0  0  0  4  6  3  5  0  9  4  6  3  2  5\n",
      "  1  3  7 10  8 11  0  5]; score: -0.00\n",
      "Max clusters: 13; cluster labels: [ 5  5  0  5  5  5  0 11  5  5  0  0  0  5  6  3  4  0  9 11  6  3  2  4\n",
      "  8  3  7 10  1 12  0  4]; score: -0.00\n",
      "Max clusters: 14; cluster labels: [ 1  1  0  1  1  1  0 12  1  1 11 11  0  1  7  3  4 11  8 12  7  3  2  4\n",
      "  5  3  6 10  9 13  0  4]; score: -0.00\n",
      "Max clusters: 15; cluster labels: [ 8  8 14  8  8  8 14  5  8  8  4  4 14  8 13  2  1  4 12  5  0  2 10  1\n",
      "  6  2  7  3  9 11 14  1]; score: -0.00\n",
      "Max clusters: 16; cluster labels: [ 5  5  0  5  5  5  0 11  5  5 13 14  0  5 15  3  4 14  9 11  6  3  2  4\n",
      "  8  3  7 10  1 12  0  4]; score: -0.00\n",
      "Max clusters: 17; cluster labels: [ 5  5  0  5  5  5  0 11  5  5 13 14  0  5 15  3  4 14  9 11  6  3  2  4\n",
      "  8 16  7 10  1 12  0  4]; score: -0.00\n",
      "Max clusters: 18; cluster labels: [ 5  5  0  5  5  5  0 11  5  5 13 14  0  5 15  3  4 14  9 11  6  3  2  4\n",
      "  8 16  7 10  1 12 17  4]; score: -0.00\n",
      "Max clusters: 19; cluster labels: [17 17  4 17  9  9  4  2 17 17 11 15  4  9  7  5  1 15  8  2 13  5  6  1\n",
      "  0 16  3 12 10 14 18  1]; score: -0.00\n",
      "Max clusters: 20; cluster labels: [ 5  5  0  5 19 19  0 11  5  5 13 14  0 19 15  3  4 14  9 11  6  3  2  4\n",
      "  8 16  7 10  1 12 17 18]; score: -0.00\n",
      "Max clusters: 21; cluster labels: [ 8 20 17  8 18 18 17  1  8  8 15  0 17 18  5  3  4  0 11  1 14  3 10  4\n",
      "  7 16  6  2  9 13 12 19]; score: -0.00\n",
      "Max clusters: 22; cluster labels: [18 21  0 18  4  4  0 11 18 18 15 14  0  4 12 20  5 14  8 11  6  3  2  5\n",
      " 10 16  7  9  1 13 17 19]; score: -0.00\n",
      "Max clusters: 23; cluster labels: [18 21  0 18  4  4  0 11 18 18 15 14  0  4 12 20  5 14  8 22  6  3  2  5\n",
      " 10 16  7  9  1 13 17 19]; score: -0.00\n",
      "Max clusters: 24; cluster labels: [18 21 23 18  4  4 23 11 18 18 15 14  0  4 12 20  5 14  8 22  6  3  2  5\n",
      " 10 16  7  9  1 13 17 19]; score: -0.00\n",
      "Max clusters: 25; cluster labels: [18 21 23 18  4  4 23 11 18 18 15 14  0  4 12 20 24 14  8 22  6  3  2  5\n",
      " 10 16  7  9  1 13 17 19]; score: -0.00\n",
      "Max clusters: 26; cluster labels: [ 1 20  9  1 18 18  9 22  1 25  2 15 23 18  6 19 24 15 11 13 14  3 10  4\n",
      "  8 16  5  0  7 12 17 21]; score: -0.00\n",
      "Max clusters: 27; cluster labels: [24 22 13 24 26 17 13 11 24  0 16  2 25 26  5 21  4  2 10 20 14  3  1 23\n",
      "  6 15  7  9  8 12 18 19]; score: -0.00\n",
      "Max clusters: 28; cluster labels: [20  0 12 20 25 16 12 13 20 26 15 27 23 25 14  3  4  2 10 22  5 21  1 24\n",
      "  6 17  7  9  8 11 19 18]; score: -0.00\n",
      "Max clusters: 29; cluster labels: [18 21 27 18 25  4 23 11 18 28 15 26  0 25 12 20 24 14  8 22  6  3  2  5\n",
      " 10 16  7  9  1 13 17 19]; score: -0.00\n",
      "Max clusters: 30; cluster labels: [29 21 27 29 25  4 23 11 18 28 15 26  0 25 12 20 24 14  8 22  6  3  2  5\n",
      " 10 16  7  9  1 13 17 19]; score: -0.00\n",
      "Max clusters: 31; cluster labels: [29 21 27 29 25  4 23 11 18 28 15 26  0 25 12 20 24 14  8 22  6  3  2  5\n",
      " 10 16  7  9  1 13 17 19]; score: -0.00\n"
     ]
    },
    {
     "name": "stderr",
     "output_type": "stream",
     "text": [
      "/tmp/ipykernel_141/426641171.py:3: ConvergenceWarning: Number of distinct clusters (30) found smaller than n_clusters (31). Possibly due to duplicate points in X.\n",
      "  kmeans = KMeans(n_clusters=i, random_state=0).fit(expected_outcomes.reshape(-1, 1))\n"
     ]
    }
   ],
   "source": [
    "# Cluster treatment combinations by expected outcomes\n",
    "for i in range(1, 2**k):\n",
    "    kmeans = KMeans(n_clusters=i, random_state=0).fit(expected_outcomes.reshape(-1, 1))\n",
    "    score = kmeans.score(expected_outcomes.reshape(-1, 1))\n",
    "    print(f'Max clusters: {i}; cluster labels: {kmeans.labels_}; score: {score:.2f}')"
   ]
  },
  {
   "cell_type": "code",
   "execution_count": 255,
   "metadata": {},
   "outputs": [
    {
     "data": {
      "image/png": "[encoded data removed]",
      "text/plain": [
       "<Figure size 640x480 with 1 Axes>"
      ]
     },
     "metadata": {},
     "output_type": "display_data"
    }
   ],
   "source": [
    "# Plot betas and expected outcomes\n",
    "_ = sns.barplot(\n",
    "    x=[\n",
    "        r\"0\",\n",
    "        r\"$t_1$\",\n",
    "        r\"$t_2$\",\n",
    "        r\"$t_3$\",\n",
    "        r\"$t_4$\",\n",
    "        r\"$t_5$\",\n",
    "        r\"$t_1 t_2$\",\n",
    "        r\"$t_1 t_3$\",\n",
    "        r\"$t_1 t_4$\",\n",
    "        r\"$t_1 t_5$\",\n",
    "        r\"$t_2 t_3$\",\n",
    "        r\"$t_2 t_4$\",\n",
    "        r\"$t_2 t_5$\",\n",
    "        r\"$t_3 t_4$\",\n",
    "        r\"$t_3 t_5$\",\n",
    "        r\"$t_4 t_5$\",\n",
    "        r\"$t_1 t_2 t_3$\",\n",
    "        r\"$t_1 t_2 t_4$\",\n",
    "        r\"$t_1 t_2 t_5$\",\n",
    "        r\"$t_1 t_3 t_4$\",\n",
    "        r\"$t_1 t_3 t_5$\",\n",
    "        r\"$t_1 t_4 t_5$\",\n",
    "        r\"$t_2 t_3 t_4$\",\n",
    "        r\"$t_2 t_3 t_5$\",\n",
    "        r\"$t_2 t_4 t_5$\",\n",
    "        r\"$t_3 t_4 t_5$\",\n",
    "        r\"$t_1 t_2 t_3 t_4$\",\n",
    "        r\"$t_1 t_2 t_3 t_5$\",\n",
    "        r\"$t_1 t_2 t_4 t_5$\",\n",
    "        r\"$t_1 t_3 t_4 t_5$\",\n",
    "        r\"$t_2 t_3 t_4 t_5$\",\n",
    "        r\"$t_1 t_2 t_3 t_4 t_5$\",\n",
    "    ],\n",
    "    y=betas,\n",
    "    alpha=0.5,\n",
    "    label=r\"$\\beta$\",\n",
    ")\n",
    "\n",
    "_ = sns.barplot(\n",
    "    x=[\n",
    "        r\"0\",\n",
    "        r\"$t_1$\",\n",
    "        r\"$t_2$\",\n",
    "        r\"$t_3$\",\n",
    "        r\"$t_4$\",\n",
    "        r\"$t_5$\",\n",
    "        r\"$t_1 t_2$\",\n",
    "        r\"$t_1 t_3$\",\n",
    "        r\"$t_1 t_4$\",\n",
    "        r\"$t_1 t_5$\",\n",
    "        r\"$t_2 t_3$\",\n",
    "        r\"$t_2 t_4$\",\n",
    "        r\"$t_2 t_5$\",\n",
    "        r\"$t_3 t_4$\",\n",
    "        r\"$t_3 t_5$\",\n",
    "        r\"$t_4 t_5$\",\n",
    "        r\"$t_1 t_2 t_3$\",\n",
    "        r\"$t_1 t_2 t_4$\",\n",
    "        r\"$t_1 t_2 t_5$\",\n",
    "        r\"$t_1 t_3 t_4$\",\n",
    "        r\"$t_1 t_3 t_5$\",\n",
    "        r\"$t_1 t_4 t_5$\",\n",
    "        r\"$t_2 t_3 t_4$\",\n",
    "        r\"$t_2 t_3 t_5$\",\n",
    "        r\"$t_2 t_4 t_5$\",\n",
    "        r\"$t_3 t_4 t_5$\",\n",
    "        r\"$t_1 t_2 t_3 t_4$\",\n",
    "        r\"$t_1 t_2 t_3 t_5$\",\n",
    "        r\"$t_1 t_2 t_4 t_5$\",\n",
    "        r\"$t_1 t_3 t_4 t_5$\",\n",
    "        r\"$t_2 t_3 t_4 t_5$\",\n",
    "        r\"$t_1 t_2 t_3 t_4 t_5$\",\n",
    "    ],\n",
    "    y=expected_outcomes,\n",
    "    alpha=0.5,\n",
    "    label=r\"E[Y|T]\",\n",
    ")"
   ]
  },
  {
   "cell_type": "markdown",
   "metadata": {},
   "source": [
    "### Generate data for m less than sp"
   ]
  },
  {
   "cell_type": "code",
   "execution_count": 717,
   "metadata": {},
   "outputs": [],
   "source": [
    "#s = sparsity * len(beta)\n",
    "#if k is 10: 88\n",
    "# so error low if 88 * log(176) >= 197\n",
    "from sklearn.metrics import zero_one_loss\n",
    "def run_generation(n_max, k, sparsity, step):\n",
    "    mse_dict = {}\n",
    "    for n in range(10, n_max, step):\n",
    "        mse_sum = 0\n",
    "        mse_beta_sum=0\n",
    "        for seed in [0,1,2,30,4]:\n",
    "            #dictionary for mse's\n",
    "\n",
    "            degree = k\n",
    "            sigma = .1\n",
    "\n",
    "            fm = FM.FactorialModel(\n",
    "                n=n,\n",
    "                k=k,\n",
    "                degree=degree,\n",
    "                sigma=sigma,\n",
    "                sparsity=sparsity,\n",
    "                beta_seed=seed,\n",
    "            )\n",
    "            t, y = fm.sample(seed=seed, contrast_coding = True)\n",
    "\n",
    "\n",
    "            pf = preprocessing.PolynomialFeatures(\n",
    "            degree=degree, interaction_only=True, include_bias=True,\n",
    "            )\n",
    "            T = pf.fit_transform(t)\n",
    "            T_train, T_test, y_train, y_test = train_test_split(T, y, test_size=0.1, random_state=seed)\n",
    "            alpha_cv = [0.001, 0.01, 0.1, 0.5]\n",
    "            model = LassoCV(alphas=alpha_cv,cv=5, random_state=42, max_iter=10000)\n",
    "#             model = Lasso(alpha = 0.05, max_iter = 10000)\n",
    "            model.fit(T_train, y_train)\n",
    "            # print(f'alpha={model.alpha_}\\nbetas={model.coef_}')\n",
    "\n",
    "            y_pred = model.predict(T_test)\n",
    "            mse_sum += mean_squared_error(y_test, y_pred)\n",
    "            # print(f\"Mean Squared Error of y: {mse}\")\n",
    "\n",
    "            beta_actual = fm.beta\n",
    "            beta_hat = model.coef_\n",
    "#             beta_hat[beta_hat!=0] = 1\n",
    "#             beta_actual[beta_actual!=0] = 1\n",
    "            mse_beta_sum += np.linalg.norm(beta_actual - beta_hat)\n",
    "            # print(f\"Mean Squared Error of beta: {mse_beta}\")\n",
    "#             print(zero_one_loss(beta_actual, beta_hat))\n",
    "\n",
    "        mse_dict[n] = (mse_sum/5, mse_beta_sum/5)\n",
    "    return mse_dict, len(fm.beta)"
   ]
  },
  {
   "cell_type": "code",
   "execution_count": 718,
   "metadata": {},
   "outputs": [],
   "source": [
    "def draw_charts(mse_dict, sparsity, length, k):\n",
    "    n = list(mse_dict.keys())\n",
    "    mse, mse_beta = zip(*mse_dict.values())\n",
    "\n",
    "    fig, ax1 = plt.subplots()\n",
    "\n",
    "    # Plot the first line (mse) on the first y-axis\n",
    "    color = 'tab:red'\n",
    "    ax1.set_xlabel('m')\n",
    "    ax1.set_ylabel('mse', color=color)\n",
    "    ax1.plot(n, mse, color=color)\n",
    "    ax1.tick_params(axis='y', labelcolor=color)\n",
    "    ax1.set_ylim(0, 2)\n",
    "#     Create a second y-axis for the second line (mse_beta)\n",
    "    ax2 = ax1.twinx()\n",
    "    color = 'tab:blue'\n",
    "    ax2.set_ylabel('Dif in Beta norm', color=color)\n",
    "    ax2.plot(n, mse_beta, color=color)\n",
    "    ax2.tick_params(axis='y', labelcolor=color)\n",
    "    ax2.set_ylim(0,1.5)\n",
    "    tipping_point = calc_tipping_point(sparsity, length, k)  \n",
    "    ax1.axvline(x=tipping_point, linestyle='--', color='gray')\n",
    "    fig.tight_layout()  # For layout\n",
    "    plt.title('MSE and Beta Norm Dif vs m')\n",
    "    plt.show()"
   ]
  },
  {
   "cell_type": "code",
   "execution_count": 719,
   "metadata": {},
   "outputs": [],
   "source": [
    "def calc_tipping_point(sparsity, length, k):\n",
    "    return np.log(math.e /(1-sparsity)) *(1-sparsity) * length"
   ]
  },
  {
   "cell_type": "code",
   "execution_count": 720,
   "metadata": {
    "scrolled": false
   },
   "outputs": [
    {
     "data": {
      "image/png": "[encoded data removed]",
      "text/plain": [
       "<Figure size 640x480 with 2 Axes>"
      ]
     },
     "metadata": {},
     "output_type": "display_data"
    },
    {
     "name": "stdout",
     "output_type": "stream",
     "text": [
      "14.349235676129526\n",
      "{10: (0.2001687744834512, 0.7892566680908203), 20: (0.12140835511837059, 0.38257030546665194), 30: (0.07818989452020571, 0.28410866409540175), 40: (0.013209316193550244, 0.15118612647056578), 50: (0.01999183497173923, 0.10542670041322708), 60: (0.023435765183513806, 0.07950107008218765), 70: (0.013485183451224788, 0.07001779749989509), 80: (0.020735975067434197, 0.06961588636040687), 90: (0.01864198289519643, 0.057359051704406736), 100: (0.013261868708400255, 0.051975805312395096), 110: (0.01213900202874713, 0.04418786019086838), 120: (0.010882656242135465, 0.05382787734270096), 130: (0.018124823898139984, 0.04808346927165985), 140: (0.014449648093868788, 0.04254432469606399), 150: (0.011926287837894881, 0.044198545068502425), 160: (0.013136364657432347, 0.04077965170145035), 170: (0.012027085630262935, 0.037844860926270485), 180: (0.010229026563469027, 0.037754353135824203), 190: (0.008830703385776923, 0.03679358474910259), 200: (0.00959700555894579, 0.02882450707256794), 210: (0.009756864408675223, 0.03582713566720486), 220: (0.01031174916395692, 0.027678659930825234), 230: (0.010473327850148036, 0.03216615132987499), 240: (0.012310387242289427, 0.02823352850973606), 250: (0.012153577685928134, 0.028149358183145522), 260: (0.00936028057631165, 0.030417360365390778), 270: (0.00926462302109186, 0.03019510619342327), 280: (0.010920028219006898, 0.021876474656164647), 290: (0.00930724034173974, 0.02960069514811039), 300: (0.011218059613789, 0.025494347140192986), 310: (0.011442927724288501, 0.02805377133190632), 320: (0.013286805538609036, 0.025125980377197266), 330: (0.009801015861950101, 0.02625456638634205), 340: (0.010400876895598604, 0.023211805522441863), 350: (0.011675092325941095, 0.025084997341036797), 360: (0.012603666809657407, 0.023190278746187686), 370: (0.010325777102938085, 0.020351352542638777), 380: (0.011567436455735821, 0.0224669199436903), 390: (0.008629792646938205, 0.026328856870532037), 400: (0.011123744691334692, 0.024016623198986054), 410: (0.009330878704563502, 0.022497540898621084), 420: (0.008879309264588655, 0.023992593958973886), 430: (0.008928506581170689, 0.01923450119793415), 440: (0.011322084587687464, 0.020112493261694907), 450: (0.010403003058735656, 0.018904642760753633), 460: (0.009689726672956497, 0.01929584816098213), 470: (0.009182890996520926, 0.01868741251528263), 480: (0.01027893337393759, 0.018364470452070236), 490: (0.010273017302215049, 0.021132685989141465), 500: (0.008523822166136941, 0.020355363190174103), 510: (0.011246060113047867, 0.02216065190732479), 520: (0.009891004934664249, 0.01872825566679239), 530: (0.010910688885891591, 0.020336154475808145), 540: (0.009351143072207597, 0.01990183275192976), 550: (0.010011657699512242, 0.014795274287462235), 560: (0.009775519403269298, 0.018622580729424954), 570: (0.009612197295890797, 0.019677373208105566), 580: (0.010693236732838632, 0.0190739331766963), 590: (0.008598963498664059, 0.018834384530782698), 600: (0.008942940467708445, 0.018238217756152152), 610: (0.0116186863706207, 0.0220084473490715), 620: (0.011346375447976445, 0.020443052053451538), 630: (0.011501348970828842, 0.018158923462033273), 640: (0.010278064816200687, 0.01737361904233694), 650: (0.010495484297774051, 0.01218444798141718), 660: (0.010280747887285092, 0.017100157029926778), 670: (0.010433390291554776, 0.017910162918269634), 680: (0.01159597125868762, 0.01763086039572954), 690: (0.011300765694910054, 0.019595771655440332), 700: (0.009599866257591964, 0.017856579460203647), 710: (0.010497281660286526, 0.018150196224451066), 720: (0.009574538101116328, 0.020534266903996467), 730: (0.009730675084965567, 0.02000163458287716), 740: (0.01073298289859675, 0.01894734464585781), 750: (0.009382495387242321, 0.018538453429937363), 760: (0.0100895788309715, 0.018632394447922706), 770: (0.010349683336199447, 0.02001582607626915), 780: (0.010328142026539321, 0.01983550228178501), 790: (0.009183685971420965, 0.015225409157574176), 800: (0.009780312326882428, 0.020487196370959283), 810: (0.011290333797997532, 0.02012799382209778), 820: (0.00949196179118348, 0.01836521364748478), 830: (0.010461330144654332, 0.01761233527213335), 840: (0.010921356201503082, 0.01847228854894638), 850: (0.010029824069694012, 0.017398318648338316), 860: (0.010465962361158673, 0.01591720376163721), 870: (0.01079338796817354, 0.014690788090229034), 880: (0.010296459502170301, 0.01802880670875311), 890: (0.009594591665303761, 0.019078107178211214), 900: (0.009469585140562892, 0.0197553426027298), 910: (0.010364841625264435, 0.01825089305639267), 920: (0.010208180527627649, 0.016623094864189624), 930: (0.010118693143007996, 0.019224183261394502), 940: (0.010192419691544195, 0.01890023984014988), 950: (0.010180103375274483, 0.01815375853329897), 960: (0.011321253003033407, 0.01885763704776764), 970: (0.009716428980842854, 0.018343969807028772), 980: (0.009345216057495498, 0.017933798581361772), 990: (0.011141579475539532, 0.01882220171391964), 1000: (0.00922458403221113, 0.019308171421289443), 1010: (0.011174363753631213, 0.020414619334042074), 1020: (0.010362205756816546, 0.01740386113524437), 1030: (0.008824249843753827, 0.014235084876418114), 1040: (0.009590722996162754, 0.020247672870755195), 1050: (0.009691149727094967, 0.016738884337246417), 1060: (0.010982930227938255, 0.016953816637396812), 1070: (0.009894001463521401, 0.020953183993697166), 1080: (0.01071336491464916, 0.01940286494791508), 1090: (0.01063479155285643, 0.01855689249932766), 1100: (0.009852824260030982, 0.016539891064167023), 1110: (0.010401478744969848, 0.017449185997247697), 1120: (0.0105573390339016, 0.014849500730633736), 1130: (0.010562702194728765, 0.015240770950913429), 1140: (0.009866036922940661, 0.017182502895593643), 1150: (0.01002535228030713, 0.017338716983795167), 1160: (0.010366680043707827, 0.01754926536232233), 1170: (0.010279100345092475, 0.01891308296471834), 1180: (0.009894787402072277, 0.016628376208245754), 1190: (0.010494039141162963, 0.016486096568405627), 1200: (0.010817376174566873, 0.018354575149714947), 1210: (0.009451111718554457, 0.017441652528941632), 1220: (0.010606952964158978, 0.016573994234204293), 1230: (0.009965724756503357, 0.016648932918906213), 1240: (0.009690529449018364, 0.0160810561850667), 1250: (0.010348225309301767, 0.019994278997182847), 1260: (0.010512350072254862, 0.017643310129642487), 1270: (0.010697768561235305, 0.017454717122018338), 1280: (0.01059411179064921, 0.018217162787914278), 1290: (0.009809971793009058, 0.016609375923871995), 1300: (0.009562763561020348, 0.017808003537356853), 1310: (0.010348425530369522, 0.019565211981534956), 1320: (0.010104192860912981, 0.018057449907064437), 1330: (0.010582009375699315, 0.0191301841288805), 1340: (0.010698631111162957, 0.017022406123578547), 1350: (0.010314303467519739, 0.017867750488221645), 1360: (0.010195227044891063, 0.01870226487517357), 1370: (0.010059136122726178, 0.017103709280490875), 1380: (0.01016871598580081, 0.0174230195581913), 1390: (0.009778008629998839, 0.016497855447232722), 1400: (0.009434101803004089, 0.01750057712197304), 1410: (0.010307773559617888, 0.01758718118071556), 1420: (0.009878316356463352, 0.01950196363031864), 1430: (0.010960137227245231, 0.017866770923137664), 1440: (0.009765152162706289, 0.019334851577878), 1450: (0.010228546096789316, 0.018237831816077233), 1460: (0.010202783742186174, 0.01675292756408453), 1470: (0.010319946447340824, 0.01670163944363594), 1480: (0.009868071493109767, 0.018310278467833997), 1490: (0.009431037162847326, 0.01587331239134073), 1500: (0.010943513851900639, 0.017276588641107083), 1510: (0.009768416310217501, 0.01836617514491081), 1520: (0.009900514558720014, 0.019837962090969087), 1530: (0.009944470526943064, 0.018295269459486008), 1540: (0.010219117992664667, 0.017819976061582567), 1550: (0.009858310425790167, 0.01864743772894144), 1560: (0.010090085853308839, 0.015543152950704098), 1570: (0.009542221099071619, 0.01554528046399355), 1580: (0.009831262703721347, 0.016587227024137972), 1590: (0.010785807917373554, 0.017556026577949524), 1600: (0.010289075105824292, 0.020857205614447594), 1610: (0.010532296279974002, 0.018444566801190377), 1620: (0.010454810416973274, 0.0178256643936038), 1630: (0.010798933739484023, 0.017113353684544565), 1640: (0.010675070955900515, 0.01949947774410248), 1650: (0.010190742680602341, 0.016977189294993877), 1660: (0.011291503859373284, 0.018979719653725625), 1670: (0.010462764453917792, 0.014876011945307254), 1680: (0.0109750891308975, 0.01855094376951456), 1690: (0.011615041502001558, 0.017670967802405357), 1700: (0.01158539833833073, 0.01720854137092829), 1710: (0.01054997389080559, 0.018356762081384658), 1720: (0.009990313554867776, 0.017171363718807696), 1730: (0.010518571804094054, 0.01689975820481777), 1740: (0.010229108106854928, 0.017207812145352365), 1750: (0.011165519079277183, 0.01723677422851324), 1760: (0.009633394459080782, 0.018211209401488303), 1770: (0.010371806591900568, 0.018005593679845333), 1780: (0.011040225452730666, 0.01735698189586401), 1790: (0.010585088841449852, 0.018236882984638214), 1800: (0.009867349440475199, 0.017053076811134816), 1810: (0.0096432518901297, 0.019564179331064226), 1820: (0.010573113138642135, 0.018187846057116985), 1830: (0.010915356350327214, 0.016180951334536075), 1840: (0.010546542746477754, 0.016150308027863502), 1850: (0.01078705556771983, 0.01685447432100773), 1860: (0.010094574644538144, 0.018080729618668558), 1870: (0.010842661329104306, 0.019082338362932206), 1880: (0.009952822025729039, 0.018885796517133714), 1890: (0.009738651288259662, 0.0158531678840518), 1900: (0.009659557049902609, 0.018540867418050767), 1910: (0.009156760831216828, 0.01750547084957361), 1920: (0.010488832207746743, 0.019666291773319244), 1930: (0.010051405403726739, 0.01844384428113699), 1940: (0.009232740564677539, 0.017256797291338444), 1950: (0.010980028252148338, 0.017161156237125396), 1960: (0.009912998214024093, 0.01697896160185337), 1970: (0.011189889108764482, 0.01728764586150646), 1980: (0.01048636464382542, 0.018128146603703498), 1990: (0.010409869854780531, 0.016939585097134113)}\n"
     ]
    }
   ],
   "source": [
    "n_max =2000\n",
    "k = 8\n",
    "sparsity = 0.99\n",
    "mse_dict, length = run_generation(n_max, k, sparsity, 10)\n",
    "draw_charts(mse_dict, sparsity, length, k)\n",
    "print(calc_tipping_point(sparsity, length, k))\n",
    "print(mse_dict)"
   ]
  },
  {
   "cell_type": "markdown",
   "metadata": {},
   "source": [
    "# Compare forward"
   ]
  },
  {
   "cell_type": "code",
   "execution_count": 213,
   "metadata": {},
   "outputs": [],
   "source": []
  },
  {
   "cell_type": "code",
   "execution_count": 214,
   "metadata": {},
   "outputs": [
    {
     "name": "stdout",
     "output_type": "stream",
     "text": [
      "[ 0.          0.42008284  0.48750722  0.11071539  0.1445329   0.\n",
      " -0.3190283  -0.31422603 -0.3484527   0.         -0.01964589  0.\n",
      "  0.         -0.3796484   0.         -0.2937078 ]\n"
     ]
    }
   ],
   "source": [
    "print(fm.beta)"
   ]
  },
  {
   "cell_type": "code",
   "execution_count": 628,
   "metadata": {},
   "outputs": [],
   "source": [
    "\n",
    "def add_interaction_terms(df, kept_features, all_features, max_degree):\n",
    "    base_df = df[kept_features].copy()\n",
    "    feature_dict = {}\n",
    "    # Generate combinations that include at least one kept feature\n",
    "    for degree in range(2, max_degree + 1):\n",
    "        combo_list = []\n",
    "        # Include combinations with at least one kept feature\n",
    "        valid_combos = [combo for k in range(1, degree) for combo in combinations(all_features, degree) if len(set(combo) & set(kept_features)) > 0]\n",
    "        for combo in valid_combos:\n",
    "            interaction_term = ' * '.join(str(item) for item in combo)\n",
    "            base_df[interaction_term] = df[list(combo)].prod(axis=1)\n",
    "            if len(combo) == degree:\n",
    "#                 print(f'interaction{interaction_term}')\n",
    "                combo_list.append(interaction_term)\n",
    "\n",
    "#             print(base_df.columns)\n",
    "        feature_dict[degree] = list(set(combo_list))\n",
    "\n",
    "    return base_df, feature_dict\n",
    "\n",
    "def forward_selection(X, y, p_value, degree):\n",
    "    kept_features = []\n",
    "    # total_features = X.columns.tolist()\n",
    "    \n",
    "    X = sm.add_constant(X)\n",
    "    model = sm.OLS(y, X).fit()\n",
    "#     print(model.summary())\n",
    "#     print(model.pvalues)\n",
    "    kept_features= [X.columns[i] for i in range(1, len(X.columns)-1) if model.pvalues[i] < p_value]\n",
    "#     print(kept_features)\n",
    "    all_features = X.columns[1:] \n",
    "    \n",
    "    interaction_df, feature_dict = add_interaction_terms(X, kept_features, all_features, degree)\n",
    "    interaction_df = sm.add_constant(interaction_df)\n",
    "    if len(kept_features)== 0:\n",
    "        return 0, 0\n",
    "    for i in range(2,degree+1):\n",
    "        test_features = kept_features + feature_dict[i]\n",
    "        test_df = interaction_df[test_features]\n",
    "        \n",
    "        model = sm.OLS(y, test_df).fit()\n",
    "#         print(model.pvalues)\n",
    "        kept_features = [column for column in test_df.columns if model.pvalues[column] < 0.05]\n",
    "    #update model\n",
    "    test_df = interaction_df[kept_features]\n",
    "    if test_df.shape[1] == 0:\n",
    "        return None, None\n",
    "    print(test_df)\n",
    "    model = sm.OLS(y,test_df).fit()\n",
    "#     print(kept_features)\n",
    "    print(f'kept{kept_features}')\n",
    "    return model, kept_features\n"
   ]
  },
  {
   "cell_type": "code",
   "execution_count": 646,
   "metadata": {},
   "outputs": [],
   "source": [
    "\n",
    "def run_multiple(k, n, seed):\n",
    "    fm = FM.FactorialModel(\n",
    "        n=n,\n",
    "        k=k,\n",
    "        degree=k,\n",
    "        sigma=0.1,\n",
    "        sparsity=0.8,\n",
    "        beta_seed=seed,\n",
    "        antiheredity=True\n",
    "    )\n",
    "    t, y = fm.sample(seed=seed, contrast_coding = True)\n",
    "\n",
    "    #forward\n",
    "    T_train, T_test, y_train, y_test = train_test_split(t, y, test_size=0.1, random_state=seed)\n",
    "    T_train = pd.DataFrame(T_train)\n",
    "    y_train = pd.DataFrame(y_train)\n",
    "    T_test = pd.DataFrame(T_test)\n",
    "    y_test = pd.DataFrame(y_test)\n",
    "    model, features = forward_selection(T_train, y_train, 0.05, k)\n",
    "#     print(features)\n",
    "    if model == 0 or model is None:\n",
    "        print(\"none\")\n",
    "        mse_for = 0\n",
    "    else:\n",
    "#         for item, name in zip(model.params, features):\n",
    "#             print(name, item)\n",
    "        T_test = sm.add_constant(T_test)\n",
    "        kept_features = T_test.columns[:]\n",
    "        all_features =  T_test.columns[1:]  \n",
    "        T_test, feature_dict = add_interaction_terms(T_test, kept_features, all_features, k)\n",
    "        # print(T_test.columns)\n",
    "#         print(feature_dict)\n",
    "#         print(f'features {features}')\n",
    "        T_test = T_test[features]\n",
    "#         print(T_test.columns)\n",
    "#         print(f'parameters {model.params}')\n",
    "        \n",
    "        y_pred = model.predict(T_test)\n",
    "        mse_for = mean_squared_error(y_pred,y_test)\n",
    "    \n",
    "    #lasso\n",
    "    pf = preprocessing.PolynomialFeatures(\n",
    "    degree=k, interaction_only=True, include_bias=True,\n",
    "    )\n",
    "    T = pf.fit_transform(t)\n",
    "    T_train, T_test, y_train, y_test = train_test_split(T, y, test_size=0.1, random_state=seed)\n",
    "\n",
    "\n",
    "    alpha_cv = [0.001, 0.01, 0.1, 0.5]\n",
    "    modellasso = Lasso(alpha=0.01, max_iter=10000)\n",
    "    modellasso.fit(T_train, y_train)\n",
    "#     T_test.columns = [str(col) for col in T_test.columns]\n",
    "    y_pred = modellasso.predict(T_test)\n",
    "    mse_lasso = mean_squared_error(y_pred, y_test)\n",
    "\n",
    "    return model, modellasso, fm.beta, mse_for, mse_lasso"
   ]
  },
  {
   "cell_type": "code",
   "execution_count": 647,
   "metadata": {},
   "outputs": [
    {
     "name": "stdout",
     "output_type": "stream",
     "text": [
      "none\n",
      "0\n",
      "0.128662109375\n",
      "      0 * 9 * 11  0 * 4 * 6 * 9  0 * 1 * 6 * 11  0 * 2 * 7 * 11  \\\n",
      "0            1.0            1.0             1.0            -1.0   \n",
      "1            1.0           -1.0            -1.0            -1.0   \n",
      "2           -1.0            1.0            -1.0             1.0   \n",
      "3           -1.0            1.0             1.0            -1.0   \n",
      "4            1.0           -1.0             1.0            -1.0   \n",
      "...          ...            ...             ...             ...   \n",
      "2695         1.0            1.0            -1.0            -1.0   \n",
      "2696         1.0            1.0             1.0             1.0   \n",
      "2697        -1.0           -1.0             1.0             1.0   \n",
      "2698        -1.0            1.0            -1.0            -1.0   \n",
      "2699         1.0           -1.0            -1.0            -1.0   \n",
      "\n",
      "      0 * 1 * 3 * 7  0 * 1 * 4 * 11  0 * 2 * 3 * 8  0 * 4 * 6 * 7  \\\n",
      "0               1.0            -1.0           -1.0           -1.0   \n",
      "1               1.0            -1.0            1.0            1.0   \n",
      "2               1.0            -1.0            1.0            1.0   \n",
      "3              -1.0             1.0           -1.0           -1.0   \n",
      "4              -1.0            -1.0           -1.0            1.0   \n",
      "...             ...             ...            ...            ...   \n",
      "2695            1.0             1.0            1.0           -1.0   \n",
      "2696            1.0             1.0            1.0            1.0   \n",
      "2697            1.0            -1.0            1.0           -1.0   \n",
      "2698           -1.0            -1.0           -1.0           -1.0   \n",
      "2699           -1.0             1.0            1.0           -1.0   \n",
      "\n",
      "      0 * 2 * 5 * 7 * 10  0 * 2 * 3 * 5 * 10  ...  \\\n",
      "0                    1.0                 1.0  ...   \n",
      "1                    1.0                -1.0  ...   \n",
      "2                   -1.0                 1.0  ...   \n",
      "3                   -1.0                 1.0  ...   \n",
      "4                    1.0                -1.0  ...   \n",
      "...                  ...                 ...  ...   \n",
      "2695                -1.0                -1.0  ...   \n",
      "2696                -1.0                 1.0  ...   \n",
      "2697                -1.0                -1.0  ...   \n",
      "2698                -1.0                -1.0  ...   \n",
      "2699                 1.0                -1.0  ...   \n",
      "\n",
      "      0 * 1 * 2 * 3 * 4 * 5 * 6 * 7 * 8 * 10  \\\n",
      "0                                        1.0   \n",
      "1                                       -1.0   \n",
      "2                                       -1.0   \n",
      "3                                       -1.0   \n",
      "4                                        1.0   \n",
      "...                                      ...   \n",
      "2695                                     1.0   \n",
      "2696                                     1.0   \n",
      "2697                                    -1.0   \n",
      "2698                                     1.0   \n",
      "2699                                     1.0   \n",
      "\n",
      "      0 * 3 * 4 * 5 * 6 * 7 * 8 * 9 * 10 * 11  \\\n",
      "0                                         1.0   \n",
      "1                                         1.0   \n",
      "2                                         1.0   \n",
      "3                                        -1.0   \n",
      "4                                         1.0   \n",
      "...                                       ...   \n",
      "2695                                      1.0   \n",
      "2696                                     -1.0   \n",
      "2697                                     -1.0   \n",
      "2698                                     -1.0   \n",
      "2699                                     -1.0   \n",
      "\n",
      "      0 * 1 * 2 * 4 * 5 * 6 * 7 * 9 * 10 * 11  \\\n",
      "0                                        -1.0   \n",
      "1                                        -1.0   \n",
      "2                                        -1.0   \n",
      "3                                         1.0   \n",
      "4                                        -1.0   \n",
      "...                                       ...   \n",
      "2695                                      1.0   \n",
      "2696                                      1.0   \n",
      "2697                                     -1.0   \n",
      "2698                                     -1.0   \n",
      "2699                                     -1.0   \n",
      "\n",
      "      0 * 1 * 2 * 3 * 4 * 5 * 6 * 7 * 10 * 11  \\\n",
      "0                                         1.0   \n",
      "1                                        -1.0   \n",
      "2                                         1.0   \n",
      "3                                         1.0   \n",
      "4                                        -1.0   \n",
      "...                                       ...   \n",
      "2695                                     -1.0   \n",
      "2696                                     -1.0   \n",
      "2697                                     -1.0   \n",
      "2698                                      1.0   \n",
      "2699                                      1.0   \n",
      "\n",
      "      0 * 1 * 2 * 3 * 4 * 5 * 7 * 8 * 10 * 11  \\\n",
      "0                                         1.0   \n",
      "1                                        -1.0   \n",
      "2                                        -1.0   \n",
      "3                                        -1.0   \n",
      "4                                         1.0   \n",
      "...                                       ...   \n",
      "2695                                     -1.0   \n",
      "2696                                     -1.0   \n",
      "2697                                     -1.0   \n",
      "2698                                      1.0   \n",
      "2699                                     -1.0   \n",
      "\n",
      "      0 * 1 * 2 * 3 * 4 * 5 * 7 * 8 * 9 * 11  \\\n",
      "0                                        1.0   \n",
      "1                                       -1.0   \n",
      "2                                        1.0   \n",
      "3                                        1.0   \n",
      "4                                       -1.0   \n",
      "...                                      ...   \n",
      "2695                                    -1.0   \n",
      "2696                                    -1.0   \n",
      "2697                                    -1.0   \n",
      "2698                                    -1.0   \n",
      "2699                                    -1.0   \n",
      "\n",
      "      0 * 1 * 2 * 4 * 5 * 6 * 7 * 8 * 10 * 11  \\\n",
      "0                                         1.0   \n",
      "1                                         1.0   \n",
      "2                                        -1.0   \n",
      "3                                        -1.0   \n",
      "4                                        -1.0   \n",
      "...                                       ...   \n",
      "2695                                     -1.0   \n",
      "2696                                      1.0   \n",
      "2697                                      1.0   \n",
      "2698                                      1.0   \n",
      "2699                                      1.0   \n",
      "\n",
      "      0 * 1 * 2 * 4 * 5 * 6 * 8 * 9 * 10 * 11  \\\n",
      "0                                        -1.0   \n",
      "1                                        -1.0   \n",
      "2                                        -1.0   \n",
      "3                                         1.0   \n",
      "4                                         1.0   \n",
      "...                                       ...   \n",
      "2695                                      1.0   \n",
      "2696                                      1.0   \n",
      "2697                                      1.0   \n",
      "2698                                     -1.0   \n",
      "2699                                      1.0   \n",
      "\n",
      "      0 * 1 * 2 * 3 * 4 * 5 * 6 * 7 * 8 * 9 * 10  \\\n",
      "0                                            1.0   \n",
      "1                                           -1.0   \n",
      "2                                           -1.0   \n",
      "3                                            1.0   \n",
      "4                                           -1.0   \n",
      "...                                          ...   \n",
      "2695                                        -1.0   \n",
      "2696                                        -1.0   \n",
      "2697                                        -1.0   \n",
      "2698                                         1.0   \n",
      "2699                                        -1.0   \n",
      "\n",
      "      0 * 1 * 2 * 3 * 4 * 5 * 6 * 7 * 8 * 9 * 10 * 11  \n",
      "0                                                -1.0  \n",
      "1                                                 1.0  \n",
      "2                                                 1.0  \n",
      "3                                                -1.0  \n",
      "4                                                -1.0  \n",
      "...                                               ...  \n",
      "2695                                              1.0  \n",
      "2696                                             -1.0  \n",
      "2697                                              1.0  \n",
      "2698                                             -1.0  \n",
      "2699                                             -1.0  \n",
      "\n",
      "[2700 rows x 152 columns]\n"
     ]
    },
    {
     "name": "stdout",
     "output_type": "stream",
     "text": [
      "kept['0 * 9 * 11', '0 * 4 * 6 * 9', '0 * 1 * 6 * 11', '0 * 2 * 7 * 11', '0 * 1 * 3 * 7', '0 * 1 * 4 * 11', '0 * 2 * 3 * 8', '0 * 4 * 6 * 7', '0 * 2 * 5 * 7 * 10', '0 * 2 * 3 * 5 * 10', '0 * 2 * 3 * 7 * 11', '0 * 3 * 5 * 9 * 11', '0 * 3 * 8 * 9 * 10', '0 * 3 * 4 * 8 * 9', '0 * 1 * 6 * 7 * 11', '0 * 4 * 8 * 10 * 11', '0 * 2 * 3 * 4 * 9', '0 * 4 * 8 * 9 * 10', '0 * 2 * 5 * 6 * 9', '0 * 2 * 6 * 7 * 8', '0 * 5 * 7 * 9 * 10', '0 * 1 * 4 * 5 * 6', '0 * 1 * 2 * 9 * 10', '0 * 2 * 4 * 8 * 9', '0 * 1 * 3 * 4 * 5 * 10', '0 * 1 * 2 * 3 * 10 * 11', '0 * 2 * 6 * 8 * 10 * 11', '0 * 1 * 2 * 4 * 6 * 11', '0 * 3 * 5 * 7 * 8 * 10', '0 * 2 * 4 * 6 * 7 * 8', '0 * 1 * 3 * 7 * 8 * 9', '0 * 1 * 3 * 5 * 8 * 10', '0 * 1 * 5 * 7 * 9 * 10', '0 * 1 * 4 * 5 * 7 * 10', '0 * 2 * 5 * 8 * 9 * 11', '0 * 3 * 6 * 7 * 8 * 9', '0 * 1 * 4 * 5 * 6 * 8', '0 * 4 * 5 * 8 * 10 * 11', '0 * 3 * 4 * 6 * 7 * 9', '0 * 1 * 2 * 4 * 5 * 10', '0 * 1 * 2 * 6 * 7 * 11', '0 * 4 * 5 * 8 * 9 * 10', '0 * 2 * 3 * 4 * 6 * 7', '0 * 1 * 2 * 4 * 8 * 10', '0 * 1 * 4 * 5 * 7 * 11', '0 * 1 * 5 * 6 * 7 * 8', '0 * 1 * 3 * 5 * 10 * 11', '0 * 2 * 3 * 5 * 6 * 10', '0 * 1 * 2 * 4 * 5 * 6', '0 * 1 * 3 * 4 * 9 * 11', '0 * 1 * 5 * 7 * 8 * 9', '0 * 1 * 4 * 6 * 7 * 11', '0 * 1 * 4 * 6 * 8 * 11', '0 * 1 * 2 * 3 * 5 * 8', '0 * 2 * 3 * 6 * 7 * 9 * 11', '0 * 3 * 4 * 6 * 8 * 10 * 11', '0 * 2 * 3 * 4 * 5 * 9 * 11', '0 * 3 * 5 * 7 * 8 * 10 * 11', '0 * 2 * 3 * 4 * 5 * 6 * 8', '0 * 2 * 3 * 5 * 7 * 8 * 9', '0 * 1 * 7 * 8 * 9 * 10 * 11', '0 * 2 * 3 * 6 * 7 * 8 * 10', '0 * 4 * 6 * 7 * 8 * 9 * 11', '0 * 1 * 2 * 3 * 5 * 9 * 11', '0 * 3 * 4 * 5 * 6 * 7 * 8', '0 * 1 * 2 * 3 * 8 * 9 * 11', '0 * 2 * 4 * 5 * 6 * 8 * 11', '0 * 2 * 3 * 4 * 6 * 8 * 11', '0 * 2 * 6 * 7 * 8 * 9 * 10', '0 * 1 * 2 * 3 * 7 * 9 * 11', '0 * 2 * 3 * 4 * 6 * 7 * 11', '0 * 2 * 3 * 4 * 5 * 9 * 10', '0 * 1 * 2 * 3 * 4 * 6 * 9', '0 * 1 * 6 * 8 * 9 * 10 * 11', '0 * 1 * 2 * 3 * 7 * 9 * 10', '0 * 1 * 3 * 5 * 7 * 8 * 9', '0 * 1 * 2 * 3 * 8 * 9 * 10', '0 * 1 * 2 * 4 * 8 * 9 * 10', '0 * 4 * 5 * 6 * 8 * 10 * 11', '0 * 2 * 4 * 7 * 9 * 10 * 11', '0 * 5 * 6 * 8 * 9 * 10 * 11', '0 * 2 * 3 * 4 * 5 * 8 * 10', '0 * 3 * 4 * 7 * 9 * 10 * 11', '0 * 1 * 2 * 3 * 4 * 8 * 9', '0 * 2 * 3 * 4 * 6 * 7 * 10', '0 * 1 * 4 * 5 * 7 * 8 * 11', '0 * 4 * 7 * 8 * 9 * 10 * 11', '0 * 1 * 2 * 3 * 4 * 7 * 10 * 11', '0 * 1 * 2 * 3 * 6 * 8 * 9 * 10', '0 * 1 * 4 * 5 * 7 * 8 * 10 * 11', '0 * 1 * 3 * 7 * 8 * 9 * 10 * 11', '0 * 4 * 6 * 7 * 8 * 9 * 10 * 11', '0 * 1 * 2 * 4 * 7 * 8 * 9 * 11', '0 * 1 * 3 * 4 * 6 * 7 * 9 * 10', '0 * 2 * 5 * 6 * 7 * 8 * 9 * 10', '0 * 1 * 3 * 4 * 5 * 6 * 10 * 11', '0 * 3 * 5 * 6 * 7 * 8 * 9 * 11', '0 * 1 * 5 * 6 * 7 * 8 * 9 * 11', '0 * 2 * 5 * 6 * 7 * 8 * 9 * 11', '0 * 1 * 2 * 3 * 5 * 6 * 8 * 10', '0 * 2 * 4 * 6 * 7 * 8 * 10 * 11', '0 * 2 * 4 * 5 * 6 * 8 * 9 * 10', '0 * 1 * 2 * 4 * 6 * 8 * 9 * 10', '0 * 1 * 2 * 4 * 5 * 6 * 8 * 9', '0 * 2 * 3 * 4 * 5 * 7 * 9 * 11', '0 * 1 * 2 * 3 * 5 * 6 * 7 * 8', '0 * 1 * 2 * 5 * 6 * 8 * 10 * 11', '0 * 1 * 4 * 5 * 6 * 7 * 8 * 11', '0 * 1 * 2 * 3 * 4 * 8 * 9 * 10', '0 * 1 * 3 * 6 * 7 * 8 * 10 * 11', '0 * 2 * 3 * 4 * 5 * 6 * 8 * 10', '0 * 1 * 2 * 3 * 4 * 6 * 8 * 9', '0 * 2 * 3 * 4 * 6 * 7 * 8 * 10', '0 * 1 * 2 * 3 * 4 * 9 * 10 * 11', '0 * 1 * 3 * 5 * 7 * 8 * 9 * 10', '0 * 1 * 2 * 3 * 4 * 6 * 8 * 11', '0 * 1 * 2 * 5 * 6 * 7 * 8 * 9', '0 * 2 * 3 * 5 * 6 * 7 * 9 * 11', '0 * 2 * 3 * 4 * 5 * 7 * 9 * 10', '0 * 1 * 4 * 6 * 8 * 9 * 10 * 11', '0 * 2 * 4 * 6 * 7 * 8 * 9 * 11', '0 * 1 * 2 * 3 * 5 * 9 * 10 * 11', '0 * 3 * 4 * 5 * 7 * 8 * 9 * 10 * 11', '0 * 1 * 4 * 5 * 7 * 8 * 9 * 10 * 11', '0 * 1 * 2 * 3 * 5 * 6 * 7 * 9 * 11', '0 * 2 * 3 * 4 * 7 * 8 * 9 * 10 * 11', '0 * 1 * 3 * 4 * 5 * 6 * 7 * 8 * 11', '0 * 1 * 2 * 3 * 4 * 5 * 8 * 9 * 10', '0 * 1 * 2 * 3 * 5 * 8 * 9 * 10 * 11', '0 * 1 * 3 * 4 * 5 * 8 * 9 * 10 * 11', '0 * 1 * 2 * 5 * 7 * 8 * 9 * 10 * 11', '0 * 2 * 3 * 5 * 6 * 7 * 8 * 9 * 11', '0 * 1 * 4 * 6 * 7 * 8 * 9 * 10 * 11', '0 * 1 * 3 * 4 * 7 * 8 * 9 * 10 * 11', '0 * 1 * 4 * 5 * 6 * 8 * 9 * 10 * 11', '0 * 1 * 2 * 5 * 6 * 7 * 8 * 9 * 11', '0 * 1 * 2 * 3 * 4 * 7 * 8 * 9 * 11', '0 * 1 * 2 * 3 * 4 * 5 * 7 * 9 * 10', '0 * 1 * 3 * 4 * 5 * 6 * 7 * 9 * 10', '0 * 1 * 2 * 3 * 4 * 5 * 6 * 7 * 8', '0 * 1 * 2 * 5 * 6 * 7 * 8 * 9 * 10 * 11', '0 * 1 * 2 * 3 * 4 * 5 * 6 * 7 * 9 * 10', '0 * 1 * 2 * 3 * 4 * 5 * 6 * 7 * 8 * 10', '0 * 3 * 4 * 5 * 6 * 7 * 8 * 9 * 10 * 11', '0 * 1 * 2 * 4 * 5 * 6 * 7 * 9 * 10 * 11', '0 * 1 * 2 * 3 * 4 * 5 * 6 * 7 * 10 * 11', '0 * 1 * 2 * 3 * 4 * 5 * 7 * 8 * 10 * 11', '0 * 1 * 2 * 3 * 4 * 5 * 7 * 8 * 9 * 11', '0 * 1 * 2 * 4 * 5 * 6 * 7 * 8 * 10 * 11', '0 * 1 * 2 * 4 * 5 * 6 * 8 * 9 * 10 * 11', '0 * 1 * 2 * 3 * 4 * 5 * 6 * 7 * 8 * 9 * 10', '0 * 1 * 2 * 3 * 4 * 5 * 6 * 7 * 8 * 9 * 10 * 11']\n",
      "<statsmodels.regression.linear_model.RegressionResultsWrapper object at 0x298418910>\n",
      "0.135009765625\n",
      "none\n",
      "0\n",
      "0.13427734375\n",
      "none\n",
      "0\n",
      "0.13232421875\n",
      "none\n",
      "0\n",
      "0.13427734375\n",
      "4\n",
      "mse forward: 0.1683456974281956\n",
      " mse lasso: 0.41767407655715943\n",
      " 01 forward: 0.035205078125\n",
      " 01 lasso: 0.13291015625\n",
      "0.16280973386122943\n",
      "0.20424338257036592\n"
     ]
    }
   ],
   "source": [
    "from itertools import combinations\n",
    "import warnings\n",
    "warnings.filterwarnings('ignore')\n",
    "from sklearn.metrics import zero_one_loss\n",
    "#     print(model_forward.params[0])\n",
    "    # Assume maximum number of features\n",
    "def get_map(k):\n",
    "    max_features = k\n",
    "\n",
    "    # Generate all possible combinations of features and interactions\n",
    "    all_combinations = []\n",
    "    for r in range(1, max_features + 1):\n",
    "        all_combinations.extend(combinations(range(max_features), r))\n",
    "\n",
    "    # Create mapping of feature combinations to indices\n",
    "    index_map = {' * '.join(map(str, comb)): idx+1 for idx, comb in enumerate(all_combinations)}\n",
    "    return index_map\n",
    "def reorder_coef(index_map, model,k):\n",
    "    polynomial_array = np.zeros((2**k))\n",
    "    terms = [str(term) for term in model.params.index]\n",
    "    coefficients = [coef for coef in model.params]\n",
    "    # Assign coefficients to their mapped indices\n",
    "    for term, coeff in zip(terms, coefficients):\n",
    "        index = index_map[term]\n",
    "        polynomial_array[index] = coeff\n",
    "    return polynomial_array\n",
    "\n",
    "k = 12\n",
    "mse_y_for = 0\n",
    "mse_y_lasso_sum=0\n",
    "mse_forward_sum = 0\n",
    "mse_lasso_sum = 0\n",
    "zo_forward_sum=0\n",
    "zo_lasso_sum = 0\n",
    "miss_count = 0\n",
    "for seed in [0,1,2,3,4]:\n",
    "    model_forward, model_lasso, beta, mse_y_forward, mse_y_lasso = run_multiple(k,3000, seed)\n",
    "    index_map = get_map(k)\n",
    "    mse_lasso_sum += np.linalg.norm(model_lasso.coef_ - beta)\n",
    "    print(model_forward)\n",
    "    if model_forward !=0:\n",
    "        pass\n",
    "        forward_coef = reorder_coef(index_map, model_forward,k)\n",
    "        mse_forward_sum += np.linalg.norm(forward_coef- beta)\n",
    "        beta[beta!=0] = 1\n",
    "        forward_coef[forward_coef!=0] = 1\n",
    "        zo_forward_sum += zero_one_loss(forward_coef, beta)\n",
    "    else:\n",
    "        miss_count +=1\n",
    "    \n",
    "    lasso_beta = model_lasso.coef_\n",
    "    lasso_beta[lasso_beta!=0] = 1\n",
    "    beta[beta!=0] = 1\n",
    "    zo_lasso_sum += zero_one_loss(lasso_beta, beta)\n",
    "    print(zero_one_loss(lasso_beta, beta))\n",
    "    mse_y_for += mse_y_forward\n",
    "    mse_y_lasso_sum += mse_y_lasso\n",
    "print(miss_count)\n",
    "print(f'mse forward: {mse_forward_sum/(5)}\\n mse lasso: {mse_lasso_sum/5}\\n 01 forward: {zo_forward_sum/(5)}\\n 01 lasso: {zo_lasso_sum/5}')\n",
    "print(mse_y_for/(5))\n",
    "print(mse_y_lasso_sum/5)\n",
    "    \n"
   ]
  },
  {
   "cell_type": "code",
   "execution_count": null,
   "metadata": {},
   "outputs": [],
   "source": []
  },
  {
   "cell_type": "code",
   "execution_count": 356,
   "metadata": {},
   "outputs": [],
   "source": [
    "#generate ddict\n"
   ]
  },
  {
   "cell_type": "code",
   "execution_count": 340,
   "metadata": {},
   "outputs": [
    {
     "name": "stdout",
     "output_type": "stream",
     "text": [
      "[ 0.         -0.1587853  -0.14058747 -0.74944532  0.          0.\n",
      "  0.          0.24844027  0.07426817  0.          0.          0.\n",
      "  0.         -0.22648627  0.0899207   0.        ]\n"
     ]
    }
   ],
   "source": [
    "\n",
    "\n",
    "print(polynomial_array)"
   ]
  },
  {
   "cell_type": "markdown",
   "metadata": {},
   "source": [
    "# archive\n"
   ]
  },
  {
   "cell_type": "code",
   "execution_count": null,
   "metadata": {},
   "outputs": [],
   "source": [
    "# def interactions(X, y, p_value, original_features, sig_features, kept_features, i):\n",
    "    \n",
    "#     combo_features = []\n",
    "#     if i == 0:\n",
    "#         for feature1, feature2 in combinations(original_features,2):\n",
    "#             # print(feature1, feature2)\n",
    "#             X[f\"{feature1}*{feature2}\"] = X[feature1] * X[feature2]\n",
    "#             combo_features.append(f\"{feature1}*{feature2}\")\n",
    "#     else:\n",
    "#         for feature1 in original_features:\n",
    "#             for feature2 in kept_features:\n",
    "#                 if str(feature1) in str(feature2):\n",
    "#                     continue\n",
    "#                 else:\n",
    "#                     X[f\"{feature1},{feature2}\"] = X[feature1] * X[feature2]\n",
    "#     kept_features = []\n",
    "#     # print(y)\n",
    "#     while True:\n",
    "#         remaining_features = list(set(combo_features) - set(kept_features))\n",
    "\n",
    "#         new_pval = pd.Series(index=remaining_features)\n",
    "        \n",
    "#         for new_column in remaining_features:\n",
    "#             # print(X[kept_features + [new_column]])\n",
    "#             test_columns = list(set(sig_features) | set([new_column]) | set(kept_features))\n",
    "#             model = sm.OLS(y, sm.add_constant(X[test_columns])).fit(disp=0)\n",
    "#             new_pval[new_column] = model.pvalues[new_column]\n",
    "        \n",
    "#         min_p_value = new_pval.min()\n",
    "#         if min_p_value < p_value:\n",
    "#             kept_features.append(new_pval.idxmin())\n",
    "#         else:\n",
    "#             break\n",
    "#     return kept_features"
   ]
  },
  {
   "cell_type": "code",
   "execution_count": null,
   "metadata": {},
   "outputs": [],
   "source": [
    "def forward_selection(X, y, p_value):\n",
    "    kept_features = []\n",
    "    total_features = X.columns.tolist()\n",
    "\n",
    "\n",
    "    while True:\n",
    "        remaining_features = list(set(total_features) - set(kept_features))\n",
    "\n",
    "        new_pval = pd.Series(index=remaining_features)\n",
    "        \n",
    "        for new_column in remaining_features:\n",
    "            # print(X[kept_features + [new_column]])\n",
    "            test_columns = list(set([new_column]) | set(kept_features))\n",
    "            model = sm.OLS(y, sm.add_constant(X[test_columns])).fit(disp=0)\n",
    "            new_pval[new_column] = model.pvalues[new_column]\n",
    "        \n",
    "        min_p_value = new_pval.min()\n",
    "        if min_p_value < p_value:\n",
    "            kept_features.append(new_pval.idxmin())\n",
    "        else:\n",
    "            break\n",
    "    return kept_features\n",
    "def interactions(X, y, p_value, original_features, sig_features, kept_features, i):\n",
    "    \n",
    "    combo_features = []\n",
    "    if i == 0:\n",
    "        for feature1, feature2 in combinations(original_features,2):\n",
    "            # print(feature1, feature2)\n",
    "            X[f\"{feature1}*{feature2}\"] = X[feature1] * X[feature2]\n",
    "            combo_features.append(f\"{feature1}*{feature2}\")\n",
    "    else:\n",
    "        for feature1 in original_features:\n",
    "            for feature2 in kept_features:\n",
    "                if str(feature1) in str(feature2):\n",
    "                    continue\n",
    "                else:\n",
    "                    X[f\"{feature1},{feature2}\"] = X[feature1] * X[feature2]\n",
    "    kept_features = []\n",
    "    # print(y)\n",
    "    while True:\n",
    "        remaining_features = list(set(combo_features) - set(kept_features))\n",
    "\n",
    "        new_pval = pd.Series(index=remaining_features)\n",
    "        \n",
    "        for new_column in remaining_features:\n",
    "            # print(X[kept_features + [new_column]])\n",
    "            test_columns = list(set(sig_features) | set([new_column]) | set(kept_features))\n",
    "            model = sm.OLS(y, sm.add_constant(X[test_columns])).fit(disp=0)\n",
    "            new_pval[new_column] = model.pvalues[new_column]\n",
    "        \n",
    "        min_p_value = new_pval.min()\n",
    "        if min_p_value < p_value:\n",
    "            kept_features.append(new_pval.idxmin())\n",
    "        else:\n",
    "            break\n",
    "    return kept_features"
   ]
  },
  {
   "cell_type": "code",
   "execution_count": 185,
   "metadata": {},
   "outputs": [],
   "source": [
    "k=2\n",
    "fm = FM.FactorialModel(\n",
    "    n=120,\n",
    "    k=k,\n",
    "    degree=k,\n",
    "    sigma=0.1,\n",
    "    sparsity=0.5,\n",
    "    beta_seed=1,\n",
    "    antiheredity=False\n",
    ")\n",
    "t, y = fm.sample(seed=0, contrast_coding = True)\n"
   ]
  },
  {
   "cell_type": "code",
   "execution_count": 186,
   "metadata": {},
   "outputs": [
    {
     "name": "stdout",
     "output_type": "stream",
     "text": [
      "[ 0.          0.          0.24578804 -0.96932364]\n"
     ]
    }
   ],
   "source": [
    "t_train, t_test, y_train, y_test = train_test_split(t, y, test_size=0.01, random_state=40)\n",
    "alpha_cv = [0.001, 0.01, 0.1, 0.5]\n",
    "model = LassoCV(alphas=alpha_cv, cv=5, random_state=40, max_iter=10000)\n",
    "model.fit(t_train, y_train)\n",
    "# print(f'alpha={model.alpha_}\\nbetas={model.coef_}')\n",
    "y_pred = model.predict(t_test)\n",
    "mse = mean_squared_error(y_test, y_pred)\n",
    "# print(f\"Mean Squared Error of y: {mse}\")\n",
    "beta_actual = fm.beta\n",
    "beta_hat = model.coef_\n",
    "# beta_hat[beta_hat != 0] = 1\n",
    "# beta_actual[beta_actual != 0] = 1\n",
    "# mse_beta= zero_one_loss(beta_actual, beta_hat)\n",
    "print(beta_actual)"
   ]
  },
  {
   "cell_type": "code",
   "execution_count": 187,
   "metadata": {},
   "outputs": [
    {
     "ename": "TypeError",
     "evalue": "forward_selection() missing 1 required positional argument: 'degree'",
     "output_type": "error",
     "traceback": [
      "\u001b[0;31m---------------------------------------------------------------------------\u001b[0m",
      "\u001b[0;31mTypeError\u001b[0m                                 Traceback (most recent call last)",
      "Cell \u001b[0;32mIn[187], line 5\u001b[0m\n\u001b[1;32m      3\u001b[0m T_train \u001b[38;5;241m=\u001b[39m pd\u001b[38;5;241m.\u001b[39mDataFrame(T_train)\n\u001b[1;32m      4\u001b[0m y_train \u001b[38;5;241m=\u001b[39m pd\u001b[38;5;241m.\u001b[39mDataFrame(y_train)\n\u001b[0;32m----> 5\u001b[0m kept_features \u001b[38;5;241m=\u001b[39m \u001b[43mforward_selection\u001b[49m\u001b[43m(\u001b[49m\u001b[43mT_train\u001b[49m\u001b[43m,\u001b[49m\u001b[43m \u001b[49m\u001b[43my_train\u001b[49m\u001b[43m,\u001b[49m\u001b[43m \u001b[49m\u001b[38;5;241;43m0.05\u001b[39;49m\u001b[43m)\u001b[49m\n\u001b[1;32m      6\u001b[0m \u001b[38;5;28mprint\u001b[39m(kept_features)\n\u001b[1;32m      8\u001b[0m original_features \u001b[38;5;241m=\u001b[39m kept_features\n",
      "\u001b[0;31mTypeError\u001b[0m: forward_selection() missing 1 required positional argument: 'degree'"
     ]
    }
   ],
   "source": [
    "#forward selection\n",
    "T_train, T_test, y_train, y_test = train_test_split(t, y, test_size=0.01, random_state=40)\n",
    "T_train = pd.DataFrame(T_train)\n",
    "y_train = pd.DataFrame(y_train)\n",
    "kept_features = forward_selection(T_train, y_train, 0.05)\n",
    "print(kept_features)\n",
    "\n",
    "original_features = kept_features\n",
    "for i in range(k):\n",
    "    int_features = interactions(T_train, y_train, 0.05, original_features, kept_features, i)\n",
    "    print(int_features)\n",
    "    if len(int_features) > 0:\n",
    "        original_features.extend(int_features)\n",
    "print(original_features)\n",
    "model = sm.OLS(y_train, sm.add_constant(T_train[original_features])).fit(disp=0)\n",
    "print(model.params)\n"
   ]
  },
  {
   "cell_type": "code",
   "execution_count": 188,
   "metadata": {},
   "outputs": [
    {
     "name": "stdout",
     "output_type": "stream",
     "text": [
      "[ 0.        -0.         0.2049138 -0.9379139]\n"
     ]
    }
   ],
   "source": [
    "#lasso\n",
    "pf = preprocessing.PolynomialFeatures(\n",
    "degree=k, interaction_only=True, include_bias=True,\n",
    ")\n",
    "T = pf.fit_transform(t)\n",
    "\n",
    "t_train, t_test, y_train, y_test = train_test_split(T, y, test_size=0.01, random_state=40)\n",
    "alpha_cv = [0.001, 0.01, 0.1, 0.5]\n",
    "model = Lasso(alpha=0.03, max_iter=10000)\n",
    "model.fit(t_train, y_train)\n",
    "print(model.coef_)"
   ]
  },
  {
   "cell_type": "code",
   "execution_count": 189,
   "metadata": {},
   "outputs": [
    {
     "ename": "NameError",
     "evalue": "name 'zero_one_loss' is not defined",
     "output_type": "error",
     "traceback": [
      "\u001b[0;31m---------------------------------------------------------------------------\u001b[0m",
      "\u001b[0;31mNameError\u001b[0m                                 Traceback (most recent call last)",
      "Cell \u001b[0;32mIn[189], line 5\u001b[0m\n\u001b[1;32m      3\u001b[0m beta_real \u001b[38;5;241m=\u001b[39m beta_actual\n\u001b[1;32m      4\u001b[0m beta_real[beta_real\u001b[38;5;241m!=\u001b[39m\u001b[38;5;241m0\u001b[39m] \u001b[38;5;241m=\u001b[39m\u001b[38;5;241m1\u001b[39m\n\u001b[0;32m----> 5\u001b[0m \u001b[38;5;28mprint\u001b[39m(\u001b[43mzero_one_loss\u001b[49m(beta_real,model_beta))\n",
      "\u001b[0;31mNameError\u001b[0m: name 'zero_one_loss' is not defined"
     ]
    }
   ],
   "source": [
    "model_beta = model.coef_\n",
    "model_beta[model_beta!=0] = 1\n",
    "beta_real = beta_actual\n",
    "beta_real[beta_real!=0] =1\n",
    "print(zero_one_loss(beta_real,model_beta))\n"
   ]
  },
  {
   "cell_type": "code",
   "execution_count": null,
   "metadata": {},
   "outputs": [],
   "source": []
  }
 ],
 "metadata": {
  "kernelspec": {
   "display_name": "Python 3 (ipykernel)",
   "language": "python",
   "name": "python3"
  },
  "language_info": {
   "codemirror_mode": {
    "name": "ipython",
    "version": 3
   },
   "file_extension": ".py",
   "mimetype": "text/x-python",
   "name": "python",
   "nbconvert_exporter": "python",
   "pygments_lexer": "ipython3",
   "version": "3.8.10"
  },
  "vscode": {
   "interpreter": {
    "hash": "eebfdbda06c0fad39ac275854ff2a899db249160fd4d105286e33d75d7d6841a"
   }
  }
 },
 "nbformat": 4,
 "nbformat_minor": 2
}
