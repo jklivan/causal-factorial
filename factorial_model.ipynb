{
 "cells": [
  {
   "cell_type": "markdown",
   "metadata": {},
   "source": [
    "## Causal Inference with Factorial Design"
   ]
  },
  {
   "cell_type": "code",
   "execution_count": 4,
   "metadata": {},
   "outputs": [
    {
     "name": "stdout",
     "output_type": "stream",
     "text": [
      "The autoreload extension is already loaded. To reload it, use:\n",
      "  %reload_ext autoreload\n"
     ]
    }
   ],
   "source": [
    "%load_ext autoreload\n",
    "%autoreload 2"
   ]
  },
  {
   "cell_type": "code",
   "execution_count": 5,
   "metadata": {},
   "outputs": [],
   "source": [
    "import numpy as np\n",
    "import statsmodels.api as sm\n",
    "from sklearn import preprocessing"
   ]
  },
  {
   "cell_type": "markdown",
   "metadata": {},
   "source": [
    "### Set up FactorialModel class"
   ]
  },
  {
   "cell_type": "code",
   "execution_count": 6,
   "metadata": {},
   "outputs": [],
   "source": [
    "class FactorialModel(object):\n",
    "    def __init__(\n",
    "        self,\n",
    "        n,\n",
    "        p_t=0.5,\n",
    "        k=2,\n",
    "        degree=2,\n",
    "        sigma=0.1,\n",
    "        sparsity=0.5,\n",
    "        beta_seed=42,\n",
    "    ) -> None:\n",
    "        self.n = n\n",
    "        self.p_t = p_t\n",
    "        self.k = k\n",
    "        self.degree = degree\n",
    "        self.sigma = sigma\n",
    "        self.sparsity = sparsity\n",
    "        self.beta_seed = beta_seed\n",
    "        # initialize beta random number generator\n",
    "        self.rng_beta = np.random.default_rng(self.beta_seed)\n",
    "        # initialize interaction expansion transformation\n",
    "        self.xfm = preprocessing.PolynomialFeatures(\n",
    "            degree=self.degree, interaction_only=True, include_bias=True\n",
    "        )\n",
    "        _ = self.xfm.fit_transform(np.zeros((1, self.k), dtype=\"float32\"))\n",
    "        # sample ground truth betas\n",
    "        self.beta = self.rng_beta.normal(0, 1, self.xfm.n_output_features_).astype(\n",
    "            \"float32\"\n",
    "        )\n",
    "        zero_indices = self.rng_beta.choice(\n",
    "            self.xfm.n_output_features_,\n",
    "            size=int(self.xfm.n_output_features_ * self.sparsity),\n",
    "            replace=False,\n",
    "        )\n",
    "        self.beta[zero_indices] = 0.0\n",
    "\n",
    "    def sample(self, seed=None):\n",
    "        self.rng = np.random.default_rng(seed)\n",
    "        # sample treatment array\n",
    "        t = self.rng.binomial(1, self.p_t, (self.n, self.k)).astype(\"float32\")\n",
    "        # expand treatment array\n",
    "        T = self.xfm.fit_transform(t)\n",
    "        # build response surface\n",
    "        self.mu = T @ self.beta\n",
    "        # sample outcome\n",
    "        self.eps = self.rng.normal(0, self.sigma, size=self.n)\n",
    "        y = self.mu + self.eps\n",
    "        return t, y"
   ]
  },
  {
   "cell_type": "markdown",
   "metadata": {},
   "source": [
    "### Initialize model parameters (betas)"
   ]
  },
  {
   "cell_type": "code",
   "execution_count": 7,
   "metadata": {},
   "outputs": [],
   "source": [
    "n = 1000\n",
    "k = 3\n",
    "degree = 3\n",
    "sigma = 0.1\n",
    "sparsity = 0.5\n",
    "\n",
    "fm = FactorialModel(\n",
    "    n=n,\n",
    "    k=k,\n",
    "    degree=degree,\n",
    "    sigma=sigma,\n",
    "    sparsity=sparsity,\n",
    "    beta_seed=42,\n",
    ")"
   ]
  },
  {
   "cell_type": "code",
   "execution_count": 8,
   "metadata": {},
   "outputs": [
    {
     "name": "stdout",
     "output_type": "stream",
     "text": [
      "[ 0.        -1.0399841  0.         0.        -1.9510351  0.\n",
      "  0.1278404 -0.3162426]\n"
     ]
    }
   ],
   "source": [
    "print(fm.beta)"
   ]
  },
  {
   "cell_type": "markdown",
   "metadata": {},
   "source": [
    "For `degree=3` and `interaction_only=True`, the parameters appear in the following order: [bias, $\\beta_{t_1}$, $\\beta_{t_2}$, $\\beta_{t_3}$, $\\beta_{t_1, t_2}$, $\\beta_{t_1, t_3}$, $\\beta_{t_2, t_3}$, $\\beta_{t_1, t_2, t_3}$]"
   ]
  },
  {
   "cell_type": "markdown",
   "metadata": {},
   "source": [
    "### Create a sample dataset"
   ]
  },
  {
   "cell_type": "code",
   "execution_count": 9,
   "metadata": {},
   "outputs": [
    {
     "name": "stdout",
     "output_type": "stream",
     "text": [
      "(1000, 3) (1000,)\n"
     ]
    }
   ],
   "source": [
    "t, y = fm.sample(seed=23)\n",
    "print(t.shape, y.shape)"
   ]
  },
  {
   "cell_type": "markdown",
   "metadata": {},
   "source": [
    "### Fit OLS model with sample data"
   ]
  },
  {
   "cell_type": "code",
   "execution_count": 10,
   "metadata": {},
   "outputs": [
    {
     "name": "stdout",
     "output_type": "stream",
     "text": [
      "(1000, 8)\n"
     ]
    }
   ],
   "source": [
    "T = preprocessing.PolynomialFeatures(\n",
    "    degree=degree, interaction_only=True, include_bias=True,\n",
    ").fit_transform(t)\n",
    "print(T.shape)"
   ]
  },
  {
   "cell_type": "code",
   "execution_count": 11,
   "metadata": {},
   "outputs": [
    {
     "name": "stdout",
     "output_type": "stream",
     "text": [
      "                            OLS Regression Results                            \n",
      "==============================================================================\n",
      "Dep. Variable:                      y   R-squared:                       0.994\n",
      "Model:                            OLS   Adj. R-squared:                  0.994\n",
      "Method:                 Least Squares   F-statistic:                 2.245e+04\n",
      "Date:                Fri, 23 Feb 2024   Prob (F-statistic):               0.00\n",
      "Time:                        20:24:35   Log-Likelihood:                 887.06\n",
      "No. Observations:                1000   AIC:                            -1758.\n",
      "Df Residuals:                     992   BIC:                            -1719.\n",
      "Df Model:                           7                                         \n",
      "Covariance Type:            nonrobust                                         \n",
      "==============================================================================\n",
      "                 coef    std err          t      P>|t|      [0.025      0.975]\n",
      "------------------------------------------------------------------------------\n",
      "const          0.0141      0.009      1.492      0.136      -0.004       0.033\n",
      "x1            -1.0622      0.013    -82.488      0.000      -1.087      -1.037\n",
      "x2            -0.0079      0.013     -0.601      0.548      -0.034       0.018\n",
      "x3            -0.0155      0.013     -1.201      0.230      -0.041       0.010\n",
      "x4            -1.9316      0.018   -106.118      0.000      -1.967      -1.896\n",
      "x5             0.0298      0.018      1.688      0.092      -0.005       0.064\n",
      "x6             0.1542      0.018      8.399      0.000       0.118       0.190\n",
      "x7            -0.3478      0.025    -13.693      0.000      -0.398      -0.298\n",
      "==============================================================================\n",
      "Omnibus:                        0.769   Durbin-Watson:                   1.970\n",
      "Prob(Omnibus):                  0.681   Jarque-Bera (JB):                0.640\n",
      "Skew:                           0.033   Prob(JB):                        0.726\n",
      "Kurtosis:                       3.105   Cond. No.                         18.3\n",
      "==============================================================================\n",
      "\n",
      "Notes:\n",
      "[1] Standard Errors assume that the covariance matrix of the errors is correctly specified.\n"
     ]
    }
   ],
   "source": [
    "m = sm.OLS(y, T)\n",
    "results = m.fit()\n",
    "print(results.summary())"
   ]
  },
  {
   "cell_type": "code",
   "execution_count": null,
   "metadata": {},
   "outputs": [],
   "source": []
  }
 ],
 "metadata": {
  "kernelspec": {
   "display_name": "causal-factorial",
   "language": "python",
   "name": "python3"
  },
  "language_info": {
   "codemirror_mode": {
    "name": "ipython",
    "version": 3
   },
   "file_extension": ".py",
   "mimetype": "text/x-python",
   "name": "python",
   "nbconvert_exporter": "python",
   "pygments_lexer": "ipython3",
   "version": "3.12.2"
  }
 },
 "nbformat": 4,
 "nbformat_minor": 2
}
